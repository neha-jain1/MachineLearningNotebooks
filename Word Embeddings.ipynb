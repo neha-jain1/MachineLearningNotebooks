{
 "cells": [
  {
   "cell_type": "code",
   "execution_count": 1,
   "id": "f9604ea7",
   "metadata": {},
   "outputs": [],
   "source": [
    "from nltk.stem import PorterStemmer\n",
    "ps = PorterStemmer()\n",
    "import pandas as pd\n",
    "from nltk.stem import PorterStemmer\n",
    "import nltk\n",
    "import contractions\n",
    "import re\n",
    "\n",
    "stop_words = nltk.corpus.stopwords.words('english')"
   ]
  },
  {
   "cell_type": "code",
   "execution_count": 2,
   "id": "a81fbcd5",
   "metadata": {},
   "outputs": [
    {
     "data": {
      "text/html": [
       "<div>\n",
       "<style scoped>\n",
       "    .dataframe tbody tr th:only-of-type {\n",
       "        vertical-align: middle;\n",
       "    }\n",
       "\n",
       "    .dataframe tbody tr th {\n",
       "        vertical-align: top;\n",
       "    }\n",
       "\n",
       "    .dataframe thead th {\n",
       "        text-align: right;\n",
       "    }\n",
       "</style>\n",
       "<table border=\"1\" class=\"dataframe\">\n",
       "  <thead>\n",
       "    <tr style=\"text-align: right;\">\n",
       "      <th></th>\n",
       "      <th>Document</th>\n",
       "      <th>Category</th>\n",
       "    </tr>\n",
       "  </thead>\n",
       "  <tbody>\n",
       "    <tr>\n",
       "      <th>0</th>\n",
       "      <td>The sky is blue and beautiful.</td>\n",
       "      <td>weather</td>\n",
       "    </tr>\n",
       "    <tr>\n",
       "      <th>1</th>\n",
       "      <td>Love this blue and beautiful sky!</td>\n",
       "      <td>weather</td>\n",
       "    </tr>\n",
       "    <tr>\n",
       "      <th>2</th>\n",
       "      <td>The quick brown fox jumps over the lazy dog.</td>\n",
       "      <td>animals</td>\n",
       "    </tr>\n",
       "    <tr>\n",
       "      <th>3</th>\n",
       "      <td>A king's breakfast has sausages, ham, bacon, eggs, toast and beans</td>\n",
       "      <td>food</td>\n",
       "    </tr>\n",
       "    <tr>\n",
       "      <th>4</th>\n",
       "      <td>I love green eggs, ham, sausages and bacon!</td>\n",
       "      <td>food</td>\n",
       "    </tr>\n",
       "    <tr>\n",
       "      <th>5</th>\n",
       "      <td>The brown fox is quick and the blue dog is lazy!</td>\n",
       "      <td>animals</td>\n",
       "    </tr>\n",
       "    <tr>\n",
       "      <th>6</th>\n",
       "      <td>The sky is very blue and the sky is very beautiful today</td>\n",
       "      <td>weather</td>\n",
       "    </tr>\n",
       "    <tr>\n",
       "      <th>7</th>\n",
       "      <td>The dog is lazy but the brown fox is quick!</td>\n",
       "      <td>animals</td>\n",
       "    </tr>\n",
       "  </tbody>\n",
       "</table>\n",
       "</div>"
      ],
      "text/plain": [
       "                                                             Document Category\n",
       "0                                      The sky is blue and beautiful.  weather\n",
       "1                                   Love this blue and beautiful sky!  weather\n",
       "2                        The quick brown fox jumps over the lazy dog.  animals\n",
       "3  A king's breakfast has sausages, ham, bacon, eggs, toast and beans     food\n",
       "4                         I love green eggs, ham, sausages and bacon!     food\n",
       "5                    The brown fox is quick and the blue dog is lazy!  animals\n",
       "6            The sky is very blue and the sky is very beautiful today  weather\n",
       "7                         The dog is lazy but the brown fox is quick!  animals"
      ]
     },
     "execution_count": 2,
     "metadata": {},
     "output_type": "execute_result"
    }
   ],
   "source": [
    "import pandas as pd\n",
    "import numpy as np\n",
    "\n",
    "pd.options.display.max_colwidth = 200\n",
    "\n",
    "corpus = ['The sky is blue and beautiful.',\n",
    "          'Love this blue and beautiful sky!',\n",
    "          'The quick brown fox jumps over the lazy dog.',\n",
    "          \"A king's breakfast has sausages, ham, bacon, eggs, toast and beans\",\n",
    "          'I love green eggs, ham, sausages and bacon!',\n",
    "          'The brown fox is quick and the blue dog is lazy!',\n",
    "          'The sky is very blue and the sky is very beautiful today',\n",
    "          'The dog is lazy but the brown fox is quick!'    \n",
    "]\n",
    "labels = ['weather', 'weather', 'animals', 'food', 'food', 'animals', 'weather', 'animals']\n",
    "\n",
    "corpus = np.array(corpus)\n",
    "corpus_df = pd.DataFrame({'Document': corpus, \n",
    "                          'Category': labels})\n",
    "corpus_df = corpus_df[['Document', 'Category']]\n",
    "corpus_df"
   ]
  },
  {
   "cell_type": "code",
   "execution_count": 3,
   "id": "301f8d58",
   "metadata": {},
   "outputs": [],
   "source": [
    "def convert_lower(text):\n",
    "    text = text.lower()\n",
    "    return text \n",
    "\n",
    "def expand_contractions(text):\n",
    "    text = contractions.fix(text)\n",
    "    return text \n",
    "\n",
    "def remove_special_character(text):\n",
    "    text = text.replace('...',' ')\n",
    "    text = re.sub('[^a-zA-Z\\s]','',text)\n",
    "    return text\n",
    "\n",
    "def stemming(text):\n",
    "    text = [ps.stem(w) for w in text.split(' ')]\n",
    "    return ' '.join(text)\n",
    "\n",
    "def stopword_removal(text):\n",
    "    text = [w for w in text.split(' ') if w not in stop_words]\n",
    "    return ' '.join(text)\n",
    "\n",
    "def special_mention(text):\n",
    "    text = re.sub('@\\w+','',text)\n",
    "    return text "
   ]
  },
  {
   "cell_type": "code",
   "execution_count": 4,
   "id": "c9708eae",
   "metadata": {},
   "outputs": [],
   "source": [
    "def clean_text(text):\n",
    "    text = convert_lower(text)\n",
    "\n",
    "    text = expand_contractions(text)\n",
    "\n",
    "   # text = special_mention(text)\n",
    "\n",
    "    text = remove_special_character(text)\n",
    "\n",
    "    text = stemming(text)\n",
    "\n",
    "    text = stopword_removal(text)\n",
    "    \n",
    "    text = text.strip()\n",
    "\n",
    "    return text"
   ]
  },
  {
   "cell_type": "code",
   "execution_count": 5,
   "id": "7e34d974",
   "metadata": {},
   "outputs": [],
   "source": [
    "corpus_df['clean_text'] = corpus_df['Document'].apply(lambda x: clean_text(x))"
   ]
  },
  {
   "cell_type": "code",
   "execution_count": 6,
   "id": "b99a2d03",
   "metadata": {},
   "outputs": [
    {
     "data": {
      "text/html": [
       "<div>\n",
       "<style scoped>\n",
       "    .dataframe tbody tr th:only-of-type {\n",
       "        vertical-align: middle;\n",
       "    }\n",
       "\n",
       "    .dataframe tbody tr th {\n",
       "        vertical-align: top;\n",
       "    }\n",
       "\n",
       "    .dataframe thead th {\n",
       "        text-align: right;\n",
       "    }\n",
       "</style>\n",
       "<table border=\"1\" class=\"dataframe\">\n",
       "  <thead>\n",
       "    <tr style=\"text-align: right;\">\n",
       "      <th></th>\n",
       "      <th>Document</th>\n",
       "      <th>Category</th>\n",
       "      <th>clean_text</th>\n",
       "    </tr>\n",
       "  </thead>\n",
       "  <tbody>\n",
       "    <tr>\n",
       "      <th>0</th>\n",
       "      <td>The sky is blue and beautiful.</td>\n",
       "      <td>weather</td>\n",
       "      <td>sky blue beauti</td>\n",
       "    </tr>\n",
       "    <tr>\n",
       "      <th>1</th>\n",
       "      <td>Love this blue and beautiful sky!</td>\n",
       "      <td>weather</td>\n",
       "      <td>love thi blue beauti sky</td>\n",
       "    </tr>\n",
       "    <tr>\n",
       "      <th>2</th>\n",
       "      <td>The quick brown fox jumps over the lazy dog.</td>\n",
       "      <td>animals</td>\n",
       "      <td>quick brown fox jump lazi dog</td>\n",
       "    </tr>\n",
       "    <tr>\n",
       "      <th>3</th>\n",
       "      <td>A king's breakfast has sausages, ham, bacon, eggs, toast and beans</td>\n",
       "      <td>food</td>\n",
       "      <td>king breakfast ha sausag ham bacon egg toast bean</td>\n",
       "    </tr>\n",
       "    <tr>\n",
       "      <th>4</th>\n",
       "      <td>I love green eggs, ham, sausages and bacon!</td>\n",
       "      <td>food</td>\n",
       "      <td>love green egg ham sausag bacon</td>\n",
       "    </tr>\n",
       "    <tr>\n",
       "      <th>5</th>\n",
       "      <td>The brown fox is quick and the blue dog is lazy!</td>\n",
       "      <td>animals</td>\n",
       "      <td>brown fox quick blue dog lazi</td>\n",
       "    </tr>\n",
       "    <tr>\n",
       "      <th>6</th>\n",
       "      <td>The sky is very blue and the sky is very beautiful today</td>\n",
       "      <td>weather</td>\n",
       "      <td>sky veri blue sky veri beauti today</td>\n",
       "    </tr>\n",
       "    <tr>\n",
       "      <th>7</th>\n",
       "      <td>The dog is lazy but the brown fox is quick!</td>\n",
       "      <td>animals</td>\n",
       "      <td>dog lazi brown fox quick</td>\n",
       "    </tr>\n",
       "  </tbody>\n",
       "</table>\n",
       "</div>"
      ],
      "text/plain": [
       "                                                             Document  \\\n",
       "0                                      The sky is blue and beautiful.   \n",
       "1                                   Love this blue and beautiful sky!   \n",
       "2                        The quick brown fox jumps over the lazy dog.   \n",
       "3  A king's breakfast has sausages, ham, bacon, eggs, toast and beans   \n",
       "4                         I love green eggs, ham, sausages and bacon!   \n",
       "5                    The brown fox is quick and the blue dog is lazy!   \n",
       "6            The sky is very blue and the sky is very beautiful today   \n",
       "7                         The dog is lazy but the brown fox is quick!   \n",
       "\n",
       "  Category                                         clean_text  \n",
       "0  weather                                    sky blue beauti  \n",
       "1  weather                           love thi blue beauti sky  \n",
       "2  animals                      quick brown fox jump lazi dog  \n",
       "3     food  king breakfast ha sausag ham bacon egg toast bean  \n",
       "4     food                    love green egg ham sausag bacon  \n",
       "5  animals                      brown fox quick blue dog lazi  \n",
       "6  weather                sky veri blue sky veri beauti today  \n",
       "7  animals                           dog lazi brown fox quick  "
      ]
     },
     "execution_count": 6,
     "metadata": {},
     "output_type": "execute_result"
    }
   ],
   "source": [
    "corpus_df"
   ]
  },
  {
   "cell_type": "code",
   "execution_count": null,
   "id": "32354b8b",
   "metadata": {},
   "outputs": [],
   "source": []
  },
  {
   "cell_type": "code",
   "execution_count": 7,
   "id": "5ca56184",
   "metadata": {},
   "outputs": [
    {
     "data": {
      "text/plain": [
       "['sky blue beauti',\n",
       " 'love thi blue beauti sky',\n",
       " 'quick brown fox jump lazi dog',\n",
       " 'king breakfast ha sausag ham bacon egg toast bean',\n",
       " 'love green egg ham sausag bacon',\n",
       " 'brown fox quick blue dog lazi',\n",
       " 'sky veri blue sky veri beauti today',\n",
       " 'dog lazi brown fox quick']"
      ]
     },
     "execution_count": 7,
     "metadata": {},
     "output_type": "execute_result"
    }
   ],
   "source": [
    "doc = list(corpus_df['clean_text'].values)\n",
    "doc"
   ]
  },
  {
   "cell_type": "code",
   "execution_count": 27,
   "id": "06127a4e",
   "metadata": {},
   "outputs": [],
   "source": [
    "corpus = ''\n",
    "for s in doc:\n",
    "    corpus = corpus + s"
   ]
  },
  {
   "cell_type": "code",
   "execution_count": 28,
   "id": "64946cc5",
   "metadata": {},
   "outputs": [
    {
     "data": {
      "text/plain": [
       "'sky blue beautilove thi blue beauti skyquick brown fox jump lazi dogking breakfast ha sausag ham bacon egg toast beanlove green egg ham sausag baconbrown fox quick blue dog lazisky veri blue sky veri beauti todaydog lazi brown fox quick'"
      ]
     },
     "execution_count": 28,
     "metadata": {},
     "output_type": "execute_result"
    }
   ],
   "source": [
    "corpus"
   ]
  },
  {
   "cell_type": "code",
   "execution_count": 30,
   "id": "34df676c",
   "metadata": {},
   "outputs": [],
   "source": [
    "import gensim"
   ]
  },
  {
   "cell_type": "code",
   "execution_count": 33,
   "id": "87de9722",
   "metadata": {},
   "outputs": [
    {
     "name": "stdout",
     "output_type": "stream",
     "text": [
      "4.3.0\n"
     ]
    }
   ],
   "source": [
    "print(gensim.__version__)"
   ]
  },
  {
   "cell_type": "code",
   "execution_count": 31,
   "id": "9ffd2f00",
   "metadata": {
    "scrolled": true
   },
   "outputs": [
    {
     "name": "stdout",
     "output_type": "stream",
     "text": [
      "['__builtins__', '__cached__', '__doc__', '__file__', '__loader__', '__name__', '__package__', '__path__', '__spec__', '__version__', '_matutils', 'corpora', 'interfaces', 'logger', 'logging', 'matutils', 'models', 'parsing', 'similarities', 'topic_coherence', 'utils']\n"
     ]
    }
   ],
   "source": [
    "print(dir(gensim))"
   ]
  },
  {
   "cell_type": "code",
   "execution_count": 29,
   "id": "201b7e4a",
   "metadata": {},
   "outputs": [
    {
     "ename": "ModuleNotFoundError",
     "evalue": "No module named 'gensim.summarization'",
     "output_type": "error",
     "traceback": [
      "\u001b[1;31m---------------------------------------------------------------------------\u001b[0m",
      "\u001b[1;31mModuleNotFoundError\u001b[0m                       Traceback (most recent call last)",
      "Cell \u001b[1;32mIn[29], line 1\u001b[0m\n\u001b[1;32m----> 1\u001b[0m \u001b[38;5;28;01mfrom\u001b[39;00m \u001b[38;5;21;01mgensim\u001b[39;00m\u001b[38;5;21;01m.\u001b[39;00m\u001b[38;5;21;01msummarization\u001b[39;00m\u001b[38;5;21;01m.\u001b[39;00m\u001b[38;5;21;01msummarizer\u001b[39;00m \u001b[38;5;28;01mimport\u001b[39;00m summarize\n",
      "\u001b[1;31mModuleNotFoundError\u001b[0m: No module named 'gensim.summarization'"
     ]
    }
   ],
   "source": [
    "from gensim.summarization.summarizer import summarize"
   ]
  },
  {
   "cell_type": "code",
   "execution_count": null,
   "id": "6d992285",
   "metadata": {},
   "outputs": [],
   "source": [
    "summarize(corpus)"
   ]
  },
  {
   "cell_type": "code",
   "execution_count": null,
   "id": "038dd080",
   "metadata": {},
   "outputs": [],
   "source": []
  },
  {
   "cell_type": "markdown",
   "id": "94895028",
   "metadata": {},
   "source": [
    "## Count Vectorizer"
   ]
  },
  {
   "cell_type": "code",
   "execution_count": 8,
   "id": "f659e73f",
   "metadata": {},
   "outputs": [],
   "source": [
    "from sklearn.feature_extraction.text import CountVectorizer, TfidfVectorizer"
   ]
  },
  {
   "cell_type": "code",
   "execution_count": 21,
   "id": "fcf866c9",
   "metadata": {},
   "outputs": [],
   "source": [
    "cnt = CountVectorizer(ngram_range=(1,2),min_df=2)"
   ]
  },
  {
   "cell_type": "code",
   "execution_count": 22,
   "id": "8bb9f9bb",
   "metadata": {},
   "outputs": [],
   "source": [
    "data = cnt.fit_transform(doc)"
   ]
  },
  {
   "cell_type": "code",
   "execution_count": 23,
   "id": "d90f25f3",
   "metadata": {},
   "outputs": [
    {
     "data": {
      "text/plain": [
       "<8x17 sparse matrix of type '<class 'numpy.int64'>'\n",
       "\twith 44 stored elements in Compressed Sparse Row format>"
      ]
     },
     "execution_count": 23,
     "metadata": {},
     "output_type": "execute_result"
    }
   ],
   "source": [
    "data"
   ]
  },
  {
   "cell_type": "code",
   "execution_count": 24,
   "id": "67678353",
   "metadata": {},
   "outputs": [],
   "source": [
    "count_df = pd.DataFrame(data.toarray(),columns=sorted(cnt.vocabulary_.keys()))"
   ]
  },
  {
   "cell_type": "code",
   "execution_count": 25,
   "id": "c5953971",
   "metadata": {},
   "outputs": [
    {
     "data": {
      "text/plain": [
       "(8, 17)"
      ]
     },
     "execution_count": 25,
     "metadata": {},
     "output_type": "execute_result"
    }
   ],
   "source": [
    "count_df.shape"
   ]
  },
  {
   "cell_type": "code",
   "execution_count": 18,
   "id": "1c22c952",
   "metadata": {},
   "outputs": [
    {
     "data": {
      "text/plain": [
       "(8, 56)"
      ]
     },
     "execution_count": 18,
     "metadata": {},
     "output_type": "execute_result"
    }
   ],
   "source": [
    "count_df.shape"
   ]
  },
  {
   "cell_type": "code",
   "execution_count": 40,
   "id": "e163fd3e",
   "metadata": {},
   "outputs": [
    {
     "data": {
      "text/plain": [
       "(8, 23)"
      ]
     },
     "execution_count": 40,
     "metadata": {},
     "output_type": "execute_result"
    }
   ],
   "source": [
    "count_df.shape"
   ]
  },
  {
   "cell_type": "code",
   "execution_count": 19,
   "id": "abb890df",
   "metadata": {},
   "outputs": [
    {
     "data": {
      "text/plain": [
       "['sky blue beauti',\n",
       " 'love thi blue beauti sky',\n",
       " 'quick brown fox jump lazi dog',\n",
       " 'king breakfast ha sausag ham bacon egg toast bean',\n",
       " 'love green egg ham sausag bacon',\n",
       " 'brown fox quick blue dog lazi',\n",
       " 'sky veri blue sky veri beauti today',\n",
       " 'dog lazi brown fox quick']"
      ]
     },
     "execution_count": 19,
     "metadata": {},
     "output_type": "execute_result"
    }
   ],
   "source": [
    "doc"
   ]
  },
  {
   "cell_type": "code",
   "execution_count": 26,
   "id": "236877d1",
   "metadata": {
    "scrolled": true
   },
   "outputs": [
    {
     "data": {
      "text/html": [
       "<div>\n",
       "<style scoped>\n",
       "    .dataframe tbody tr th:only-of-type {\n",
       "        vertical-align: middle;\n",
       "    }\n",
       "\n",
       "    .dataframe tbody tr th {\n",
       "        vertical-align: top;\n",
       "    }\n",
       "\n",
       "    .dataframe thead th {\n",
       "        text-align: right;\n",
       "    }\n",
       "</style>\n",
       "<table border=\"1\" class=\"dataframe\">\n",
       "  <thead>\n",
       "    <tr style=\"text-align: right;\">\n",
       "      <th></th>\n",
       "      <th>bacon</th>\n",
       "      <th>beauti</th>\n",
       "      <th>blue</th>\n",
       "      <th>blue beauti</th>\n",
       "      <th>brown</th>\n",
       "      <th>brown fox</th>\n",
       "      <th>dog</th>\n",
       "      <th>dog lazi</th>\n",
       "      <th>egg</th>\n",
       "      <th>fox</th>\n",
       "      <th>fox quick</th>\n",
       "      <th>ham</th>\n",
       "      <th>lazi</th>\n",
       "      <th>love</th>\n",
       "      <th>quick</th>\n",
       "      <th>sausag</th>\n",
       "      <th>sky</th>\n",
       "    </tr>\n",
       "  </thead>\n",
       "  <tbody>\n",
       "    <tr>\n",
       "      <th>0</th>\n",
       "      <td>0</td>\n",
       "      <td>1</td>\n",
       "      <td>1</td>\n",
       "      <td>1</td>\n",
       "      <td>0</td>\n",
       "      <td>0</td>\n",
       "      <td>0</td>\n",
       "      <td>0</td>\n",
       "      <td>0</td>\n",
       "      <td>0</td>\n",
       "      <td>0</td>\n",
       "      <td>0</td>\n",
       "      <td>0</td>\n",
       "      <td>0</td>\n",
       "      <td>0</td>\n",
       "      <td>0</td>\n",
       "      <td>1</td>\n",
       "    </tr>\n",
       "    <tr>\n",
       "      <th>1</th>\n",
       "      <td>0</td>\n",
       "      <td>1</td>\n",
       "      <td>1</td>\n",
       "      <td>1</td>\n",
       "      <td>0</td>\n",
       "      <td>0</td>\n",
       "      <td>0</td>\n",
       "      <td>0</td>\n",
       "      <td>0</td>\n",
       "      <td>0</td>\n",
       "      <td>0</td>\n",
       "      <td>0</td>\n",
       "      <td>0</td>\n",
       "      <td>1</td>\n",
       "      <td>0</td>\n",
       "      <td>0</td>\n",
       "      <td>1</td>\n",
       "    </tr>\n",
       "    <tr>\n",
       "      <th>2</th>\n",
       "      <td>0</td>\n",
       "      <td>0</td>\n",
       "      <td>0</td>\n",
       "      <td>0</td>\n",
       "      <td>1</td>\n",
       "      <td>1</td>\n",
       "      <td>1</td>\n",
       "      <td>0</td>\n",
       "      <td>0</td>\n",
       "      <td>1</td>\n",
       "      <td>0</td>\n",
       "      <td>0</td>\n",
       "      <td>1</td>\n",
       "      <td>0</td>\n",
       "      <td>1</td>\n",
       "      <td>0</td>\n",
       "      <td>0</td>\n",
       "    </tr>\n",
       "    <tr>\n",
       "      <th>3</th>\n",
       "      <td>1</td>\n",
       "      <td>0</td>\n",
       "      <td>0</td>\n",
       "      <td>0</td>\n",
       "      <td>0</td>\n",
       "      <td>0</td>\n",
       "      <td>0</td>\n",
       "      <td>0</td>\n",
       "      <td>1</td>\n",
       "      <td>0</td>\n",
       "      <td>0</td>\n",
       "      <td>1</td>\n",
       "      <td>0</td>\n",
       "      <td>0</td>\n",
       "      <td>0</td>\n",
       "      <td>1</td>\n",
       "      <td>0</td>\n",
       "    </tr>\n",
       "    <tr>\n",
       "      <th>4</th>\n",
       "      <td>1</td>\n",
       "      <td>0</td>\n",
       "      <td>0</td>\n",
       "      <td>0</td>\n",
       "      <td>0</td>\n",
       "      <td>0</td>\n",
       "      <td>0</td>\n",
       "      <td>0</td>\n",
       "      <td>1</td>\n",
       "      <td>0</td>\n",
       "      <td>0</td>\n",
       "      <td>1</td>\n",
       "      <td>0</td>\n",
       "      <td>1</td>\n",
       "      <td>0</td>\n",
       "      <td>1</td>\n",
       "      <td>0</td>\n",
       "    </tr>\n",
       "    <tr>\n",
       "      <th>5</th>\n",
       "      <td>0</td>\n",
       "      <td>0</td>\n",
       "      <td>1</td>\n",
       "      <td>0</td>\n",
       "      <td>1</td>\n",
       "      <td>1</td>\n",
       "      <td>1</td>\n",
       "      <td>1</td>\n",
       "      <td>0</td>\n",
       "      <td>1</td>\n",
       "      <td>1</td>\n",
       "      <td>0</td>\n",
       "      <td>1</td>\n",
       "      <td>0</td>\n",
       "      <td>1</td>\n",
       "      <td>0</td>\n",
       "      <td>0</td>\n",
       "    </tr>\n",
       "    <tr>\n",
       "      <th>6</th>\n",
       "      <td>0</td>\n",
       "      <td>1</td>\n",
       "      <td>1</td>\n",
       "      <td>0</td>\n",
       "      <td>0</td>\n",
       "      <td>0</td>\n",
       "      <td>0</td>\n",
       "      <td>0</td>\n",
       "      <td>0</td>\n",
       "      <td>0</td>\n",
       "      <td>0</td>\n",
       "      <td>0</td>\n",
       "      <td>0</td>\n",
       "      <td>0</td>\n",
       "      <td>0</td>\n",
       "      <td>0</td>\n",
       "      <td>2</td>\n",
       "    </tr>\n",
       "    <tr>\n",
       "      <th>7</th>\n",
       "      <td>0</td>\n",
       "      <td>0</td>\n",
       "      <td>0</td>\n",
       "      <td>0</td>\n",
       "      <td>1</td>\n",
       "      <td>1</td>\n",
       "      <td>1</td>\n",
       "      <td>1</td>\n",
       "      <td>0</td>\n",
       "      <td>1</td>\n",
       "      <td>1</td>\n",
       "      <td>0</td>\n",
       "      <td>1</td>\n",
       "      <td>0</td>\n",
       "      <td>1</td>\n",
       "      <td>0</td>\n",
       "      <td>0</td>\n",
       "    </tr>\n",
       "  </tbody>\n",
       "</table>\n",
       "</div>"
      ],
      "text/plain": [
       "   bacon  beauti  blue  blue beauti  brown  brown fox  dog  dog lazi  egg  \\\n",
       "0      0       1     1            1      0          0    0         0    0   \n",
       "1      0       1     1            1      0          0    0         0    0   \n",
       "2      0       0     0            0      1          1    1         0    0   \n",
       "3      1       0     0            0      0          0    0         0    1   \n",
       "4      1       0     0            0      0          0    0         0    1   \n",
       "5      0       0     1            0      1          1    1         1    0   \n",
       "6      0       1     1            0      0          0    0         0    0   \n",
       "7      0       0     0            0      1          1    1         1    0   \n",
       "\n",
       "   fox  fox quick  ham  lazi  love  quick  sausag  sky  \n",
       "0    0          0    0     0     0      0       0    1  \n",
       "1    0          0    0     0     1      0       0    1  \n",
       "2    1          0    0     1     0      1       0    0  \n",
       "3    0          0    1     0     0      0       1    0  \n",
       "4    0          0    1     0     1      0       1    0  \n",
       "5    1          1    0     1     0      1       0    0  \n",
       "6    0          0    0     0     0      0       0    2  \n",
       "7    1          1    0     1     0      1       0    0  "
      ]
     },
     "execution_count": 26,
     "metadata": {},
     "output_type": "execute_result"
    }
   ],
   "source": [
    "count_df"
   ]
  },
  {
   "cell_type": "code",
   "execution_count": 43,
   "id": "56981181",
   "metadata": {},
   "outputs": [
    {
     "data": {
      "text/plain": [
       "dict_keys(['sky', 'blue', 'beauti', 'love', 'thi', 'quick', 'brown', 'fox', 'jump', 'lazi', 'dog', 'king', 'breakfast', 'ha', 'sausag', 'ham', 'bacon', 'egg', 'toast', 'bean', 'green', 'veri', 'today'])"
      ]
     },
     "execution_count": 43,
     "metadata": {},
     "output_type": "execute_result"
    }
   ],
   "source": [
    "cnt.vocabulary_.keys()"
   ]
  },
  {
   "cell_type": "markdown",
   "id": "dd78c40d",
   "metadata": {},
   "source": [
    "## Tf Idf Vectorizer : TF (Term Frequency ) IDF (Inverse Document Frequency)"
   ]
  },
  {
   "cell_type": "code",
   "execution_count": 44,
   "id": "fd51b226",
   "metadata": {},
   "outputs": [],
   "source": [
    "tfidf = TfidfVectorizer()"
   ]
  },
  {
   "cell_type": "code",
   "execution_count": 45,
   "id": "b5f9e421",
   "metadata": {},
   "outputs": [],
   "source": [
    "tf_data = tfidf.fit_transform(doc)"
   ]
  },
  {
   "cell_type": "code",
   "execution_count": 46,
   "id": "c17ae450",
   "metadata": {},
   "outputs": [],
   "source": [
    "tf_df = pd.DataFrame(tf_data.toarray(), columns=sorted(tfidf.vocabulary_.keys()))"
   ]
  },
  {
   "cell_type": "code",
   "execution_count": 47,
   "id": "035417a6",
   "metadata": {},
   "outputs": [
    {
     "data": {
      "text/html": [
       "<div>\n",
       "<style scoped>\n",
       "    .dataframe tbody tr th:only-of-type {\n",
       "        vertical-align: middle;\n",
       "    }\n",
       "\n",
       "    .dataframe tbody tr th {\n",
       "        vertical-align: top;\n",
       "    }\n",
       "\n",
       "    .dataframe thead th {\n",
       "        text-align: right;\n",
       "    }\n",
       "</style>\n",
       "<table border=\"1\" class=\"dataframe\">\n",
       "  <thead>\n",
       "    <tr style=\"text-align: right;\">\n",
       "      <th></th>\n",
       "      <th>bacon</th>\n",
       "      <th>bean</th>\n",
       "      <th>beauti</th>\n",
       "      <th>blue</th>\n",
       "      <th>breakfast</th>\n",
       "      <th>brown</th>\n",
       "      <th>dog</th>\n",
       "      <th>egg</th>\n",
       "      <th>fox</th>\n",
       "      <th>green</th>\n",
       "      <th>...</th>\n",
       "      <th>king</th>\n",
       "      <th>lazi</th>\n",
       "      <th>love</th>\n",
       "      <th>quick</th>\n",
       "      <th>sausag</th>\n",
       "      <th>sky</th>\n",
       "      <th>thi</th>\n",
       "      <th>toast</th>\n",
       "      <th>today</th>\n",
       "      <th>veri</th>\n",
       "    </tr>\n",
       "  </thead>\n",
       "  <tbody>\n",
       "    <tr>\n",
       "      <th>0</th>\n",
       "      <td>0.000000</td>\n",
       "      <td>0.00000</td>\n",
       "      <td>0.600978</td>\n",
       "      <td>0.526925</td>\n",
       "      <td>0.00000</td>\n",
       "      <td>0.000000</td>\n",
       "      <td>0.000000</td>\n",
       "      <td>0.000000</td>\n",
       "      <td>0.000000</td>\n",
       "      <td>0.000000</td>\n",
       "      <td>...</td>\n",
       "      <td>0.00000</td>\n",
       "      <td>0.000000</td>\n",
       "      <td>0.000000</td>\n",
       "      <td>0.000000</td>\n",
       "      <td>0.000000</td>\n",
       "      <td>0.600978</td>\n",
       "      <td>0.000000</td>\n",
       "      <td>0.00000</td>\n",
       "      <td>0.0</td>\n",
       "      <td>0.0</td>\n",
       "    </tr>\n",
       "    <tr>\n",
       "      <th>1</th>\n",
       "      <td>0.000000</td>\n",
       "      <td>0.00000</td>\n",
       "      <td>0.407444</td>\n",
       "      <td>0.357238</td>\n",
       "      <td>0.00000</td>\n",
       "      <td>0.000000</td>\n",
       "      <td>0.000000</td>\n",
       "      <td>0.000000</td>\n",
       "      <td>0.000000</td>\n",
       "      <td>0.000000</td>\n",
       "      <td>...</td>\n",
       "      <td>0.00000</td>\n",
       "      <td>0.000000</td>\n",
       "      <td>0.472170</td>\n",
       "      <td>0.000000</td>\n",
       "      <td>0.000000</td>\n",
       "      <td>0.407444</td>\n",
       "      <td>0.563396</td>\n",
       "      <td>0.00000</td>\n",
       "      <td>0.0</td>\n",
       "      <td>0.0</td>\n",
       "    </tr>\n",
       "    <tr>\n",
       "      <th>2</th>\n",
       "      <td>0.000000</td>\n",
       "      <td>0.00000</td>\n",
       "      <td>0.000000</td>\n",
       "      <td>0.000000</td>\n",
       "      <td>0.00000</td>\n",
       "      <td>0.380362</td>\n",
       "      <td>0.380362</td>\n",
       "      <td>0.000000</td>\n",
       "      <td>0.380362</td>\n",
       "      <td>0.000000</td>\n",
       "      <td>...</td>\n",
       "      <td>0.00000</td>\n",
       "      <td>0.380362</td>\n",
       "      <td>0.000000</td>\n",
       "      <td>0.380362</td>\n",
       "      <td>0.000000</td>\n",
       "      <td>0.000000</td>\n",
       "      <td>0.000000</td>\n",
       "      <td>0.00000</td>\n",
       "      <td>0.0</td>\n",
       "      <td>0.0</td>\n",
       "    </tr>\n",
       "    <tr>\n",
       "      <th>3</th>\n",
       "      <td>0.299898</td>\n",
       "      <td>0.35784</td>\n",
       "      <td>0.000000</td>\n",
       "      <td>0.000000</td>\n",
       "      <td>0.35784</td>\n",
       "      <td>0.000000</td>\n",
       "      <td>0.000000</td>\n",
       "      <td>0.299898</td>\n",
       "      <td>0.000000</td>\n",
       "      <td>0.000000</td>\n",
       "      <td>...</td>\n",
       "      <td>0.35784</td>\n",
       "      <td>0.000000</td>\n",
       "      <td>0.000000</td>\n",
       "      <td>0.000000</td>\n",
       "      <td>0.299898</td>\n",
       "      <td>0.000000</td>\n",
       "      <td>0.000000</td>\n",
       "      <td>0.35784</td>\n",
       "      <td>0.0</td>\n",
       "      <td>0.0</td>\n",
       "    </tr>\n",
       "    <tr>\n",
       "      <th>4</th>\n",
       "      <td>0.394554</td>\n",
       "      <td>0.00000</td>\n",
       "      <td>0.000000</td>\n",
       "      <td>0.000000</td>\n",
       "      <td>0.00000</td>\n",
       "      <td>0.000000</td>\n",
       "      <td>0.000000</td>\n",
       "      <td>0.394554</td>\n",
       "      <td>0.000000</td>\n",
       "      <td>0.470784</td>\n",
       "      <td>...</td>\n",
       "      <td>0.00000</td>\n",
       "      <td>0.000000</td>\n",
       "      <td>0.394554</td>\n",
       "      <td>0.000000</td>\n",
       "      <td>0.394554</td>\n",
       "      <td>0.000000</td>\n",
       "      <td>0.000000</td>\n",
       "      <td>0.00000</td>\n",
       "      <td>0.0</td>\n",
       "      <td>0.0</td>\n",
       "    </tr>\n",
       "  </tbody>\n",
       "</table>\n",
       "<p>5 rows × 23 columns</p>\n",
       "</div>"
      ],
      "text/plain": [
       "      bacon     bean    beauti      blue  breakfast     brown       dog  \\\n",
       "0  0.000000  0.00000  0.600978  0.526925    0.00000  0.000000  0.000000   \n",
       "1  0.000000  0.00000  0.407444  0.357238    0.00000  0.000000  0.000000   \n",
       "2  0.000000  0.00000  0.000000  0.000000    0.00000  0.380362  0.380362   \n",
       "3  0.299898  0.35784  0.000000  0.000000    0.35784  0.000000  0.000000   \n",
       "4  0.394554  0.00000  0.000000  0.000000    0.00000  0.000000  0.000000   \n",
       "\n",
       "        egg       fox     green  ...     king      lazi      love     quick  \\\n",
       "0  0.000000  0.000000  0.000000  ...  0.00000  0.000000  0.000000  0.000000   \n",
       "1  0.000000  0.000000  0.000000  ...  0.00000  0.000000  0.472170  0.000000   \n",
       "2  0.000000  0.380362  0.000000  ...  0.00000  0.380362  0.000000  0.380362   \n",
       "3  0.299898  0.000000  0.000000  ...  0.35784  0.000000  0.000000  0.000000   \n",
       "4  0.394554  0.000000  0.470784  ...  0.00000  0.000000  0.394554  0.000000   \n",
       "\n",
       "     sausag       sky       thi    toast  today  veri  \n",
       "0  0.000000  0.600978  0.000000  0.00000    0.0   0.0  \n",
       "1  0.000000  0.407444  0.563396  0.00000    0.0   0.0  \n",
       "2  0.000000  0.000000  0.000000  0.00000    0.0   0.0  \n",
       "3  0.299898  0.000000  0.000000  0.35784    0.0   0.0  \n",
       "4  0.394554  0.000000  0.000000  0.00000    0.0   0.0  \n",
       "\n",
       "[5 rows x 23 columns]"
      ]
     },
     "execution_count": 47,
     "metadata": {},
     "output_type": "execute_result"
    }
   ],
   "source": [
    "tf_df.head()"
   ]
  },
  {
   "cell_type": "code",
   "execution_count": 48,
   "id": "653fbdd1",
   "metadata": {},
   "outputs": [
    {
     "data": {
      "text/plain": [
       "['sky blue beauti',\n",
       " 'love thi blue beauti sky',\n",
       " 'quick brown fox jump lazi dog',\n",
       " 'king breakfast ha sausag ham bacon egg toast bean',\n",
       " 'love green egg ham sausag bacon',\n",
       " 'brown fox quick blue dog lazi',\n",
       " 'sky veri blue sky veri beauti today',\n",
       " 'dog lazi brown fox quick']"
      ]
     },
     "execution_count": 48,
     "metadata": {},
     "output_type": "execute_result"
    }
   ],
   "source": [
    "doc"
   ]
  },
  {
   "cell_type": "code",
   "execution_count": 49,
   "id": "c06f1c5b",
   "metadata": {},
   "outputs": [],
   "source": [
    "import numpy as np"
   ]
  },
  {
   "cell_type": "code",
   "execution_count": 50,
   "id": "6ebf1af9",
   "metadata": {
    "scrolled": true
   },
   "outputs": [
    {
     "data": {
      "text/plain": [
       "0.3333333333333333"
      ]
     },
     "execution_count": 50,
     "metadata": {},
     "output_type": "execute_result"
    }
   ],
   "source": [
    "1/3"
   ]
  },
  {
   "cell_type": "code",
   "execution_count": 55,
   "id": "cb26da0b",
   "metadata": {},
   "outputs": [
    {
     "data": {
      "text/plain": [
       "1.2992829841302609"
      ]
     },
     "execution_count": 55,
     "metadata": {},
     "output_type": "execute_result"
    }
   ],
   "source": [
    "np.log1p(8/3)"
   ]
  },
  {
   "cell_type": "code",
   "execution_count": 56,
   "id": "4640ab8e",
   "metadata": {},
   "outputs": [
    {
     "data": {
      "text/plain": [
       "0.4330943280434203"
      ]
     },
     "execution_count": 56,
     "metadata": {},
     "output_type": "execute_result"
    }
   ],
   "source": [
    "(1/3)*np.log1p(8/3)"
   ]
  },
  {
   "cell_type": "code",
   "execution_count": 71,
   "id": "97a56ce0",
   "metadata": {
    "scrolled": true
   },
   "outputs": [
    {
     "data": {
      "text/plain": [
       "0.0"
      ]
     },
     "execution_count": 71,
     "metadata": {},
     "output_type": "execute_result"
    }
   ],
   "source": [
    "np.log(8/8)"
   ]
  },
  {
   "cell_type": "markdown",
   "id": "8de9da33",
   "metadata": {},
   "source": [
    "## Glove Embedding"
   ]
  },
  {
   "cell_type": "code",
   "execution_count": 57,
   "id": "9f4e9927",
   "metadata": {},
   "outputs": [],
   "source": [
    "import spacy\n",
    "\n",
    "nlp =spacy.load('en_core_web_lg')\n",
    "\n",
    "vectors= len(nlp.vocab.vectors)"
   ]
  },
  {
   "cell_type": "code",
   "execution_count": 60,
   "id": "b601a43e",
   "metadata": {},
   "outputs": [
    {
     "data": {
      "text/plain": [
       "514157"
      ]
     },
     "execution_count": 60,
     "metadata": {},
     "output_type": "execute_result"
    }
   ],
   "source": [
    "vectors"
   ]
  },
  {
   "cell_type": "code",
   "execution_count": 61,
   "id": "d10e80dd",
   "metadata": {},
   "outputs": [
    {
     "data": {
      "text/plain": [
       "(300,)"
      ]
     },
     "execution_count": 61,
     "metadata": {},
     "output_type": "execute_result"
    }
   ],
   "source": [
    "nlp('sky').vector.shape"
   ]
  },
  {
   "cell_type": "code",
   "execution_count": 62,
   "id": "ab2a7c2e",
   "metadata": {},
   "outputs": [],
   "source": [
    "d={'the':[1,2,3],'sky':[2,3,4]}"
   ]
  },
  {
   "cell_type": "code",
   "execution_count": 63,
   "id": "06882782",
   "metadata": {},
   "outputs": [
    {
     "data": {
      "text/plain": [
       "[2, 3, 4]"
      ]
     },
     "execution_count": 63,
     "metadata": {},
     "output_type": "execute_result"
    }
   ],
   "source": [
    "d['sky']"
   ]
  },
  {
   "cell_type": "code",
   "execution_count": 64,
   "id": "b07b6722",
   "metadata": {
    "scrolled": true
   },
   "outputs": [
    {
     "data": {
      "text/plain": [
       "array([-5.1043e+00,  2.3496e+00,  3.2472e+00,  2.8424e+00,  1.1459e+01,\n",
       "       -2.4137e+00,  5.1057e-01,  7.0312e+00,  3.6459e+00,  6.2332e-01,\n",
       "        1.3633e+01,  4.5813e+00, -1.0584e+01,  1.2630e+00,  6.3362e-01,\n",
       "        7.4645e+00,  6.1468e+00,  3.9474e-01,  1.4378e+00, -4.1540e+00,\n",
       "        2.0000e+00, -3.8488e+00,  7.3414e-01,  2.1209e+00,  2.1068e+00,\n",
       "        1.8713e+00, -7.8175e+00, -4.4352e+00,  2.2135e-01,  3.9262e+00,\n",
       "        2.8473e+00,  2.0265e+00, -1.8189e+00, -9.2866e+00, -8.2191e+00,\n",
       "       -1.7172e+00, -1.7196e+00,  3.9313e+00,  2.5888e+00,  8.2825e-01,\n",
       "        1.3177e+00,  1.1566e+00, -5.2680e-01, -5.3276e-01, -1.2835e+00,\n",
       "       -2.4743e-01, -3.7231e+00, -4.5196e-01, -3.3093e+00, -1.2523e+00,\n",
       "       -3.0767e+00,  8.5522e+00, -1.6251e+00, -5.5941e+00,  5.3161e-01,\n",
       "        5.5142e-01, -5.0327e-01,  1.8156e+00, -2.9011e+00, -1.8576e+00,\n",
       "        1.4638e+00, -5.4034e+00, -8.1768e-01, -2.0847e+00,  1.6838e+00,\n",
       "        1.6817e+00, -6.3836e+00, -3.2180e+00,  7.2152e+00,  3.5279e+00,\n",
       "       -2.3648e+00,  4.0313e-01, -5.7476e+00, -1.0917e+00, -1.1058e-01,\n",
       "        2.7065e+00, -4.5004e+00,  5.5528e+00, -7.4396e+00, -1.8884e+00,\n",
       "       -5.0159e+00,  7.8553e-01, -4.2467e-02,  3.2823e+00,  5.8371e+00,\n",
       "        2.8223e+00, -4.7819e+00, -4.0965e+00,  3.8425e-01,  1.3066e+00,\n",
       "       -1.5229e+00,  4.3565e-01,  3.8789e+00, -4.8557e+00,  5.8081e+00,\n",
       "       -7.7726e-01,  4.3211e+00,  4.6135e+00,  4.2278e+00,  5.8454e+00,\n",
       "        4.0931e+00,  7.6313e-01,  8.2298e+00,  3.2500e+00,  1.1713e+00,\n",
       "        4.9618e+00,  3.8678e+00, -4.8282e+00, -9.8280e-01, -3.0029e+00,\n",
       "        2.0229e+00,  4.2098e+00, -7.2674e+00,  5.8495e+00,  1.1730e+00,\n",
       "       -1.5662e+00,  1.4491e+00,  1.4227e+00,  1.2867e-01,  4.0703e+00,\n",
       "        4.9251e-01, -4.4845e+00,  4.0733e+00,  3.0339e+00, -3.3840e+00,\n",
       "       -5.2706e+00,  3.3339e+00, -7.2218e+00,  5.6753e+00, -4.5924e+00,\n",
       "       -1.1599e+01, -1.0203e+00,  5.8945e+00,  1.7762e+00, -1.0363e+00,\n",
       "        2.5350e+00,  1.4402e+00, -3.1572e+00,  2.4663e+00, -4.5771e+00,\n",
       "       -7.4574e+00, -6.9813e-01, -1.9212e+00,  6.5128e+00,  6.4388e+00,\n",
       "        6.4317e+00, -6.9971e+00,  1.8715e+00,  6.2365e+00, -2.5091e-01,\n",
       "       -1.7363e+00,  9.5132e+00,  1.4306e+00, -2.5112e+00,  4.0763e-01,\n",
       "        3.7422e+00,  8.8706e-01, -4.8168e+00, -7.4616e-01, -7.8736e-02,\n",
       "       -7.9536e-01, -6.0894e+00,  2.7413e+00,  2.1358e+00, -2.7505e+00,\n",
       "       -1.1987e+00, -6.4908e+00,  1.3424e+00,  1.4893e+00, -1.8716e+00,\n",
       "        2.8296e+00, -5.3080e+00,  5.1784e+00, -1.8339e-01,  3.5250e-01,\n",
       "        1.8829e+00,  6.9355e-01, -4.1332e+00, -2.2120e+00, -2.8912e-01,\n",
       "       -5.2159e+00, -3.3565e+00, -2.6745e-01,  3.9148e+00, -2.7248e+00,\n",
       "        3.7187e-01, -6.4571e+00, -9.2446e-02,  2.0403e+00,  5.5114e-01,\n",
       "        1.1552e+00, -1.9635e+00,  7.6531e+00, -3.4696e+00,  4.7709e+00,\n",
       "        1.0621e+00, -6.7008e+00, -1.9478e+00, -2.0715e+00, -5.2312e-01,\n",
       "        1.4389e+00, -5.0093e+00,  4.3909e-01, -7.2692e+00,  8.7121e+00,\n",
       "       -7.6601e-01, -8.1995e+00,  1.4594e+00, -2.6537e-01,  3.5587e+00,\n",
       "        5.4031e+00,  3.7896e+00, -9.2572e+00,  3.4277e+00,  2.5215e+00,\n",
       "        4.1383e+00,  1.8763e-01, -4.2169e+00,  4.0743e-01, -1.1800e+00,\n",
       "       -5.2174e+00,  8.7247e+00, -2.5949e+00,  1.4874e+00, -7.0560e+00,\n",
       "       -1.6384e+00,  2.9549e-03,  6.3286e+00,  1.4910e+00,  4.4328e-01,\n",
       "        6.1122e+00, -8.0740e+00, -1.7362e+00,  6.3054e+00,  2.6566e+00,\n",
       "       -6.5135e-01, -9.6859e-01,  5.0822e-01, -1.1677e+00, -4.1731e-01,\n",
       "        1.4866e+00,  1.3182e+00,  1.3838e+00,  6.2296e-01,  1.3744e+00,\n",
       "        5.9588e+00, -5.2347e+00, -2.6428e+00,  9.5187e-01, -5.3128e-01,\n",
       "        2.2787e+00, -1.0626e+01, -1.2064e+01, -1.6146e-02,  2.7706e+00,\n",
       "       -4.3249e+00,  6.7169e+00, -2.9383e-01,  1.1804e+00, -1.6421e+00,\n",
       "        3.7709e+00,  1.2545e+01,  9.6831e+00,  3.1599e+00,  3.0962e+00,\n",
       "       -4.5380e+00, -5.6059e-01,  4.3790e+00, -7.2785e+00,  2.7534e-01,\n",
       "        1.0549e-02, -2.9399e-01,  8.3850e-01, -3.7402e+00,  3.6582e+00,\n",
       "        3.0861e-01,  1.3038e-01, -5.0155e+00, -7.4336e-01,  3.2874e+00,\n",
       "        1.0577e-01,  3.7003e+00,  2.4759e+00,  3.9932e+00,  2.7957e+00,\n",
       "       -4.1682e+00,  3.0442e+00,  1.2622e+00,  1.0991e-01, -3.9761e-01,\n",
       "        1.3023e-01,  1.3929e+00,  3.3822e-01,  7.0100e+00, -1.6916e+00,\n",
       "        3.6008e+00, -1.2658e+00, -7.6875e+00, -2.5128e+00,  6.9342e-01],\n",
       "      dtype=float32)"
      ]
     },
     "execution_count": 64,
     "metadata": {},
     "output_type": "execute_result"
    }
   ],
   "source": [
    "nlp('the').vector"
   ]
  },
  {
   "cell_type": "code",
   "execution_count": 65,
   "id": "302364f1",
   "metadata": {},
   "outputs": [
    {
     "ename": "SyntaxError",
     "evalue": "cannot assign to expression (2681550646.py, line 1)",
     "output_type": "error",
     "traceback": [
      "\u001b[1;36m  Cell \u001b[1;32mIn[65], line 1\u001b[1;36m\u001b[0m\n\u001b[1;33m    (emb_sky + emb_beauti+ emb_blue) = 300+ 300+ 300 =\u001b[0m\n\u001b[1;37m     ^\u001b[0m\n\u001b[1;31mSyntaxError\u001b[0m\u001b[1;31m:\u001b[0m cannot assign to expression\n"
     ]
    }
   ],
   "source": [
    "(emb_sky + emb_beauti+ emb_blue) = 300+ 300+ 300 = \n",
    "\n",
    "300\n",
    "300\n",
    "300\n",
    "\n",
    "ave"
   ]
  },
  {
   "cell_type": "code",
   "execution_count": 66,
   "id": "46d7a4c6",
   "metadata": {},
   "outputs": [],
   "source": [
    "import numpy as np"
   ]
  },
  {
   "cell_type": "code",
   "execution_count": 67,
   "id": "ffee185b",
   "metadata": {
    "scrolled": true
   },
   "outputs": [
    {
     "data": {
      "text/plain": [
       "array([102, 103, 104])"
      ]
     },
     "execution_count": 67,
     "metadata": {},
     "output_type": "execute_result"
    }
   ],
   "source": [
    "np.array([1,2,3])+ np.array([1,1,1]) + np.array([100,100,100])"
   ]
  },
  {
   "cell_type": "code",
   "execution_count": 80,
   "id": "075a5719",
   "metadata": {},
   "outputs": [],
   "source": [
    "def average_word_embedding(doc,feature_size):\n",
    "    vector = np.zeros((feature_size),dtype='float64')\n",
    "    total_words= len(doc)\n",
    "    for word in doc:\n",
    "        vector = np.add(vector,nlp(word).vector)\n",
    "    vector = np.divide(vector,total_words)\n",
    "    return vector"
   ]
  },
  {
   "cell_type": "code",
   "execution_count": 81,
   "id": "d0817987",
   "metadata": {},
   "outputs": [],
   "source": [
    "features = []\n",
    "for sent in doc:\n",
    "    features.append(average_word_embedding(sent.split(' '),))"
   ]
  },
  {
   "cell_type": "code",
   "execution_count": 85,
   "id": "d42e9abf",
   "metadata": {},
   "outputs": [],
   "source": [
    "features = np.array(features)"
   ]
  },
  {
   "cell_type": "code",
   "execution_count": 86,
   "id": "60060f0f",
   "metadata": {},
   "outputs": [
    {
     "data": {
      "text/plain": [
       "(8, 300)"
      ]
     },
     "execution_count": 86,
     "metadata": {},
     "output_type": "execute_result"
    }
   ],
   "source": [
    "features.shape"
   ]
  },
  {
   "cell_type": "markdown",
   "id": "610d189c",
   "metadata": {},
   "source": [
    "## FastText by FaceBook "
   ]
  },
  {
   "cell_type": "code",
   "execution_count": 11,
   "id": "8594ceb5",
   "metadata": {},
   "outputs": [
    {
     "data": {
      "text/plain": [
       "(20,)"
      ]
     },
     "execution_count": 11,
     "metadata": {},
     "output_type": "execute_result"
    }
   ],
   "source": [
    "import gensim\n",
    "\n",
    "from gensim.models.fasttext import FastText\n",
    "\n",
    "ftm = FastText(doc, vector_size=20 )\n",
    "\n",
    "\n",
    "\n",
    "ftm.wv['part'].shape"
   ]
  },
  {
   "cell_type": "code",
   "execution_count": 12,
   "id": "6ef97532",
   "metadata": {},
   "outputs": [
    {
     "data": {
      "text/plain": [
       "array([ 0.00306484,  0.00708508, -0.00173493, -0.00372327, -0.02049023,\n",
       "        0.02521915, -0.01300305, -0.00493138, -0.00162844, -0.00261402,\n",
       "        0.01097095, -0.00817131, -0.00747034, -0.00809746,  0.00032681,\n",
       "       -0.00907891, -0.00239568,  0.01378425, -0.0096832 ,  0.00805305],\n",
       "      dtype=float32)"
      ]
     },
     "execution_count": 12,
     "metadata": {},
     "output_type": "execute_result"
    }
   ],
   "source": [
    "# Get Embedding \n",
    "ftm.wv['part']"
   ]
  },
  {
   "cell_type": "code",
   "execution_count": null,
   "id": "68b029cf",
   "metadata": {},
   "outputs": [],
   "source": []
  }
 ],
 "metadata": {
  "kernelspec": {
   "display_name": "Python 3 (ipykernel)",
   "language": "python",
   "name": "python3"
  },
  "language_info": {
   "codemirror_mode": {
    "name": "ipython",
    "version": 3
   },
   "file_extension": ".py",
   "mimetype": "text/x-python",
   "name": "python",
   "nbconvert_exporter": "python",
   "pygments_lexer": "ipython3",
   "version": "3.10.9"
  }
 },
 "nbformat": 4,
 "nbformat_minor": 5
}
