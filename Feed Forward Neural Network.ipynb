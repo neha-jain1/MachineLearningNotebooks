{
 "cells": [
  {
   "cell_type": "code",
   "execution_count": 1,
   "id": "15383a0a",
   "metadata": {},
   "outputs": [],
   "source": [
    "import pandas as pd\n",
    "import seaborn as sns\n",
    "import numpy as np"
   ]
  },
  {
   "cell_type": "code",
   "execution_count": 7,
   "id": "ad7302f3",
   "metadata": {},
   "outputs": [],
   "source": [
    "df = pd.read_csv('medicaldata.csv')"
   ]
  },
  {
   "cell_type": "code",
   "execution_count": 8,
   "id": "2dcbacd9",
   "metadata": {},
   "outputs": [
    {
     "data": {
      "text/plain": [
       "(768, 9)"
      ]
     },
     "execution_count": 8,
     "metadata": {},
     "output_type": "execute_result"
    }
   ],
   "source": [
    "df.shape"
   ]
  },
  {
   "cell_type": "code",
   "execution_count": 9,
   "id": "d5ecd31c",
   "metadata": {},
   "outputs": [
    {
     "data": {
      "text/html": [
       "<div>\n",
       "<style scoped>\n",
       "    .dataframe tbody tr th:only-of-type {\n",
       "        vertical-align: middle;\n",
       "    }\n",
       "\n",
       "    .dataframe tbody tr th {\n",
       "        vertical-align: top;\n",
       "    }\n",
       "\n",
       "    .dataframe thead th {\n",
       "        text-align: right;\n",
       "    }\n",
       "</style>\n",
       "<table border=\"1\" class=\"dataframe\">\n",
       "  <thead>\n",
       "    <tr style=\"text-align: right;\">\n",
       "      <th></th>\n",
       "      <th>pregnancies</th>\n",
       "      <th>plasma glucose concentration</th>\n",
       "      <th>diastolic blood pressure</th>\n",
       "      <th>triceps skinfold thickness</th>\n",
       "      <th>insulin</th>\n",
       "      <th>body mass index</th>\n",
       "      <th>diabetes pedigree function</th>\n",
       "      <th>age</th>\n",
       "      <th>diabetic</th>\n",
       "    </tr>\n",
       "  </thead>\n",
       "  <tbody>\n",
       "    <tr>\n",
       "      <th>0</th>\n",
       "      <td>6</td>\n",
       "      <td>148</td>\n",
       "      <td>72</td>\n",
       "      <td>35</td>\n",
       "      <td>0</td>\n",
       "      <td>33.6</td>\n",
       "      <td>0.627</td>\n",
       "      <td>50</td>\n",
       "      <td>1</td>\n",
       "    </tr>\n",
       "    <tr>\n",
       "      <th>1</th>\n",
       "      <td>1</td>\n",
       "      <td>85</td>\n",
       "      <td>66</td>\n",
       "      <td>29</td>\n",
       "      <td>0</td>\n",
       "      <td>26.6</td>\n",
       "      <td>0.351</td>\n",
       "      <td>31</td>\n",
       "      <td>0</td>\n",
       "    </tr>\n",
       "    <tr>\n",
       "      <th>2</th>\n",
       "      <td>8</td>\n",
       "      <td>183</td>\n",
       "      <td>64</td>\n",
       "      <td>0</td>\n",
       "      <td>0</td>\n",
       "      <td>23.3</td>\n",
       "      <td>0.672</td>\n",
       "      <td>32</td>\n",
       "      <td>1</td>\n",
       "    </tr>\n",
       "    <tr>\n",
       "      <th>3</th>\n",
       "      <td>1</td>\n",
       "      <td>89</td>\n",
       "      <td>66</td>\n",
       "      <td>23</td>\n",
       "      <td>94</td>\n",
       "      <td>28.1</td>\n",
       "      <td>0.167</td>\n",
       "      <td>21</td>\n",
       "      <td>0</td>\n",
       "    </tr>\n",
       "    <tr>\n",
       "      <th>4</th>\n",
       "      <td>0</td>\n",
       "      <td>137</td>\n",
       "      <td>40</td>\n",
       "      <td>35</td>\n",
       "      <td>168</td>\n",
       "      <td>43.1</td>\n",
       "      <td>2.288</td>\n",
       "      <td>33</td>\n",
       "      <td>1</td>\n",
       "    </tr>\n",
       "  </tbody>\n",
       "</table>\n",
       "</div>"
      ],
      "text/plain": [
       "   pregnancies  plasma glucose concentration  diastolic blood pressure  \\\n",
       "0            6                           148                        72   \n",
       "1            1                            85                        66   \n",
       "2            8                           183                        64   \n",
       "3            1                            89                        66   \n",
       "4            0                           137                        40   \n",
       "\n",
       "   triceps skinfold thickness  insulin  body mass index  \\\n",
       "0                          35        0             33.6   \n",
       "1                          29        0             26.6   \n",
       "2                           0        0             23.3   \n",
       "3                          23       94             28.1   \n",
       "4                          35      168             43.1   \n",
       "\n",
       "   diabetes pedigree function  age  diabetic  \n",
       "0                       0.627   50         1  \n",
       "1                       0.351   31         0  \n",
       "2                       0.672   32         1  \n",
       "3                       0.167   21         0  \n",
       "4                       2.288   33         1  "
      ]
     },
     "execution_count": 9,
     "metadata": {},
     "output_type": "execute_result"
    }
   ],
   "source": [
    "df.head()"
   ]
  },
  {
   "cell_type": "code",
   "execution_count": 10,
   "id": "773aa5db",
   "metadata": {},
   "outputs": [
    {
     "data": {
      "text/plain": [
       "pregnancies                     0\n",
       "plasma glucose concentration    0\n",
       "diastolic blood pressure        0\n",
       "triceps skinfold thickness      0\n",
       "insulin                         0\n",
       "body mass index                 0\n",
       "diabetes pedigree function      0\n",
       "age                             0\n",
       "diabetic                        0\n",
       "dtype: int64"
      ]
     },
     "execution_count": 10,
     "metadata": {},
     "output_type": "execute_result"
    }
   ],
   "source": [
    "df.isnull().sum()"
   ]
  },
  {
   "cell_type": "code",
   "execution_count": 11,
   "id": "96a96195",
   "metadata": {},
   "outputs": [
    {
     "data": {
      "text/plain": [
       "0    0.651042\n",
       "1    0.348958\n",
       "Name: diabetic, dtype: float64"
      ]
     },
     "execution_count": 11,
     "metadata": {},
     "output_type": "execute_result"
    }
   ],
   "source": [
    "df['diabetic'].value_counts()/df.shape[0]"
   ]
  },
  {
   "cell_type": "code",
   "execution_count": 12,
   "id": "33a2f18c",
   "metadata": {},
   "outputs": [
    {
     "data": {
      "text/html": [
       "<div>\n",
       "<style scoped>\n",
       "    .dataframe tbody tr th:only-of-type {\n",
       "        vertical-align: middle;\n",
       "    }\n",
       "\n",
       "    .dataframe tbody tr th {\n",
       "        vertical-align: top;\n",
       "    }\n",
       "\n",
       "    .dataframe thead th {\n",
       "        text-align: right;\n",
       "    }\n",
       "</style>\n",
       "<table border=\"1\" class=\"dataframe\">\n",
       "  <thead>\n",
       "    <tr style=\"text-align: right;\">\n",
       "      <th></th>\n",
       "      <th>pregnancies</th>\n",
       "      <th>plasma glucose concentration</th>\n",
       "      <th>diastolic blood pressure</th>\n",
       "      <th>triceps skinfold thickness</th>\n",
       "      <th>insulin</th>\n",
       "      <th>body mass index</th>\n",
       "      <th>diabetes pedigree function</th>\n",
       "      <th>age</th>\n",
       "      <th>diabetic</th>\n",
       "    </tr>\n",
       "  </thead>\n",
       "  <tbody>\n",
       "    <tr>\n",
       "      <th>count</th>\n",
       "      <td>768.000000</td>\n",
       "      <td>768.000000</td>\n",
       "      <td>768.000000</td>\n",
       "      <td>768.000000</td>\n",
       "      <td>768.000000</td>\n",
       "      <td>768.000000</td>\n",
       "      <td>768.000000</td>\n",
       "      <td>768.000000</td>\n",
       "      <td>768.000000</td>\n",
       "    </tr>\n",
       "    <tr>\n",
       "      <th>mean</th>\n",
       "      <td>3.845052</td>\n",
       "      <td>120.894531</td>\n",
       "      <td>69.105469</td>\n",
       "      <td>20.536458</td>\n",
       "      <td>79.799479</td>\n",
       "      <td>31.992578</td>\n",
       "      <td>0.471876</td>\n",
       "      <td>33.240885</td>\n",
       "      <td>0.348958</td>\n",
       "    </tr>\n",
       "    <tr>\n",
       "      <th>std</th>\n",
       "      <td>3.369578</td>\n",
       "      <td>31.972618</td>\n",
       "      <td>19.355807</td>\n",
       "      <td>15.952218</td>\n",
       "      <td>115.244002</td>\n",
       "      <td>7.884160</td>\n",
       "      <td>0.331329</td>\n",
       "      <td>11.760232</td>\n",
       "      <td>0.476951</td>\n",
       "    </tr>\n",
       "    <tr>\n",
       "      <th>min</th>\n",
       "      <td>0.000000</td>\n",
       "      <td>0.000000</td>\n",
       "      <td>0.000000</td>\n",
       "      <td>0.000000</td>\n",
       "      <td>0.000000</td>\n",
       "      <td>0.000000</td>\n",
       "      <td>0.078000</td>\n",
       "      <td>21.000000</td>\n",
       "      <td>0.000000</td>\n",
       "    </tr>\n",
       "    <tr>\n",
       "      <th>25%</th>\n",
       "      <td>1.000000</td>\n",
       "      <td>99.000000</td>\n",
       "      <td>62.000000</td>\n",
       "      <td>0.000000</td>\n",
       "      <td>0.000000</td>\n",
       "      <td>27.300000</td>\n",
       "      <td>0.243750</td>\n",
       "      <td>24.000000</td>\n",
       "      <td>0.000000</td>\n",
       "    </tr>\n",
       "    <tr>\n",
       "      <th>50%</th>\n",
       "      <td>3.000000</td>\n",
       "      <td>117.000000</td>\n",
       "      <td>72.000000</td>\n",
       "      <td>23.000000</td>\n",
       "      <td>30.500000</td>\n",
       "      <td>32.000000</td>\n",
       "      <td>0.372500</td>\n",
       "      <td>29.000000</td>\n",
       "      <td>0.000000</td>\n",
       "    </tr>\n",
       "    <tr>\n",
       "      <th>75%</th>\n",
       "      <td>6.000000</td>\n",
       "      <td>140.250000</td>\n",
       "      <td>80.000000</td>\n",
       "      <td>32.000000</td>\n",
       "      <td>127.250000</td>\n",
       "      <td>36.600000</td>\n",
       "      <td>0.626250</td>\n",
       "      <td>41.000000</td>\n",
       "      <td>1.000000</td>\n",
       "    </tr>\n",
       "    <tr>\n",
       "      <th>max</th>\n",
       "      <td>17.000000</td>\n",
       "      <td>199.000000</td>\n",
       "      <td>122.000000</td>\n",
       "      <td>99.000000</td>\n",
       "      <td>846.000000</td>\n",
       "      <td>67.100000</td>\n",
       "      <td>2.420000</td>\n",
       "      <td>81.000000</td>\n",
       "      <td>1.000000</td>\n",
       "    </tr>\n",
       "  </tbody>\n",
       "</table>\n",
       "</div>"
      ],
      "text/plain": [
       "       pregnancies  plasma glucose concentration  diastolic blood pressure  \\\n",
       "count   768.000000                    768.000000                768.000000   \n",
       "mean      3.845052                    120.894531                 69.105469   \n",
       "std       3.369578                     31.972618                 19.355807   \n",
       "min       0.000000                      0.000000                  0.000000   \n",
       "25%       1.000000                     99.000000                 62.000000   \n",
       "50%       3.000000                    117.000000                 72.000000   \n",
       "75%       6.000000                    140.250000                 80.000000   \n",
       "max      17.000000                    199.000000                122.000000   \n",
       "\n",
       "       triceps skinfold thickness     insulin  body mass index  \\\n",
       "count                  768.000000  768.000000       768.000000   \n",
       "mean                    20.536458   79.799479        31.992578   \n",
       "std                     15.952218  115.244002         7.884160   \n",
       "min                      0.000000    0.000000         0.000000   \n",
       "25%                      0.000000    0.000000        27.300000   \n",
       "50%                     23.000000   30.500000        32.000000   \n",
       "75%                     32.000000  127.250000        36.600000   \n",
       "max                     99.000000  846.000000        67.100000   \n",
       "\n",
       "       diabetes pedigree function         age    diabetic  \n",
       "count                  768.000000  768.000000  768.000000  \n",
       "mean                     0.471876   33.240885    0.348958  \n",
       "std                      0.331329   11.760232    0.476951  \n",
       "min                      0.078000   21.000000    0.000000  \n",
       "25%                      0.243750   24.000000    0.000000  \n",
       "50%                      0.372500   29.000000    0.000000  \n",
       "75%                      0.626250   41.000000    1.000000  \n",
       "max                      2.420000   81.000000    1.000000  "
      ]
     },
     "execution_count": 12,
     "metadata": {},
     "output_type": "execute_result"
    }
   ],
   "source": [
    "df.describe()"
   ]
  },
  {
   "cell_type": "code",
   "execution_count": 13,
   "id": "eee16d9b",
   "metadata": {},
   "outputs": [
    {
     "data": {
      "text/plain": [
       "<Axes: >"
      ]
     },
     "execution_count": 13,
     "metadata": {},
     "output_type": "execute_result"
    },
    {
     "data": {
      "image/png": "[encoded data removed]",
      "text/plain": [
       "<Figure size 640x480 with 1 Axes>"
      ]
     },
     "metadata": {},
     "output_type": "display_data"
    }
   ],
   "source": [
    "sns.boxplot(df['body mass index'])"
   ]
  },
  {
   "cell_type": "code",
   "execution_count": 14,
   "id": "5381d60c",
   "metadata": {},
   "outputs": [],
   "source": [
    "from sklearn.preprocessing import StandardScaler"
   ]
  },
  {
   "cell_type": "code",
   "execution_count": 15,
   "id": "f5d1601f",
   "metadata": {},
   "outputs": [],
   "source": [
    "x,y = df.iloc[:,:-1],df.iloc[:,-1]"
   ]
  },
  {
   "cell_type": "code",
   "execution_count": 16,
   "id": "b6c92e34",
   "metadata": {},
   "outputs": [
    {
     "data": {
      "text/plain": [
       "(768, 8)"
      ]
     },
     "execution_count": 16,
     "metadata": {},
     "output_type": "execute_result"
    }
   ],
   "source": [
    "x.shape"
   ]
  },
  {
   "cell_type": "code",
   "execution_count": 17,
   "id": "f424ee98",
   "metadata": {},
   "outputs": [
    {
     "data": {
      "text/plain": [
       "(768,)"
      ]
     },
     "execution_count": 17,
     "metadata": {},
     "output_type": "execute_result"
    }
   ],
   "source": [
    "y.shape"
   ]
  },
  {
   "cell_type": "code",
   "execution_count": 18,
   "id": "be5294c3",
   "metadata": {},
   "outputs": [],
   "source": [
    "s = StandardScaler()\n",
    "scaled_data = s.fit_transform(x)"
   ]
  },
  {
   "cell_type": "code",
   "execution_count": 19,
   "id": "82038b29",
   "metadata": {},
   "outputs": [
    {
     "data": {
      "text/plain": [
       "(768, 8)"
      ]
     },
     "execution_count": 19,
     "metadata": {},
     "output_type": "execute_result"
    }
   ],
   "source": [
    "scaled_data.shape"
   ]
  },
  {
   "cell_type": "code",
   "execution_count": null,
   "id": "1ee60c3d",
   "metadata": {},
   "outputs": [],
   "source": []
  },
  {
   "cell_type": "code",
   "execution_count": 20,
   "id": "d079ba2b",
   "metadata": {},
   "outputs": [],
   "source": [
    "from sklearn.model_selection import train_test_split\n",
    "from sklearn.metrics import accuracy_score,precision_score,classification_report"
   ]
  },
  {
   "cell_type": "code",
   "execution_count": 21,
   "id": "bfcdcaca",
   "metadata": {},
   "outputs": [],
   "source": [
    "xtrain, xtest, ytrain, ytest = train_test_split(scaled_data,y, test_size=0.20, stratify=y, random_state=34)"
   ]
  },
  {
   "cell_type": "code",
   "execution_count": 22,
   "id": "3492d7d1",
   "metadata": {},
   "outputs": [
    {
     "data": {
      "text/plain": [
       "((614, 8), (154, 8), (614,), (154,))"
      ]
     },
     "execution_count": 22,
     "metadata": {},
     "output_type": "execute_result"
    }
   ],
   "source": [
    "xtrain.shape, xtest.shape, ytrain.shape, ytest.shape"
   ]
  },
  {
   "cell_type": "code",
   "execution_count": 4,
   "id": "6ff52467",
   "metadata": {},
   "outputs": [],
   "source": [
    "from keras.models import Sequential"
   ]
  },
  {
   "cell_type": "code",
   "execution_count": 5,
   "id": "605d4f5a",
   "metadata": {},
   "outputs": [],
   "source": [
    "import keras.layers"
   ]
  },
  {
   "cell_type": "code",
   "execution_count": 3,
   "id": "d3c7f901",
   "metadata": {},
   "outputs": [
    {
     "name": "stdout",
     "output_type": "stream",
     "text": [
      "['AbstractRNNCell', 'Activation', 'ActivityRegularization', 'Add', 'AdditiveAttention', 'AlphaDropout', 'Attention', 'Average', 'AveragePooling1D', 'AveragePooling2D', 'AveragePooling3D', 'AvgPool1D', 'AvgPool2D', 'AvgPool3D', 'BatchNormalization', 'Bidirectional', 'CategoryEncoding', 'CenterCrop', 'Concatenate', 'Conv1D', 'Conv1DTranspose', 'Conv2D', 'Conv2DTranspose', 'Conv3D', 'Conv3DTranspose', 'ConvLSTM1D', 'ConvLSTM2D', 'ConvLSTM3D', 'Convolution1D', 'Convolution1DTranspose', 'Convolution2D', 'Convolution2DTranspose', 'Convolution3D', 'Convolution3DTranspose', 'Cropping1D', 'Cropping2D', 'Cropping3D', 'Dense', 'DenseFeatures', 'DepthwiseConv1D', 'DepthwiseConv2D', 'Discretization', 'Dot', 'Dropout', 'ELU', 'EinsumDense', 'Embedding', 'Flatten', 'GRU', 'GRUCell', 'GaussianDropout', 'GaussianNoise', 'GlobalAveragePooling1D', 'GlobalAveragePooling2D', 'GlobalAveragePooling3D', 'GlobalAvgPool1D', 'GlobalAvgPool2D', 'GlobalAvgPool3D', 'GlobalMaxPool1D', 'GlobalMaxPool2D', 'GlobalMaxPool3D', 'GlobalMaxPooling1D', 'GlobalMaxPooling2D', 'GlobalMaxPooling3D', 'GroupNormalization', 'HashedCrossing', 'Hashing', 'Identity', 'Input', 'InputLayer', 'InputSpec', 'IntegerLookup', 'LSTM', 'LSTMCell', 'Lambda', 'Layer', 'LayerNormalization', 'LeakyReLU', 'LocallyConnected1D', 'LocallyConnected2D', 'Masking', 'MaxPool1D', 'MaxPool2D', 'MaxPool3D', 'MaxPooling1D', 'MaxPooling2D', 'MaxPooling3D', 'Maximum', 'Minimum', 'MultiHeadAttention', 'Multiply', 'Normalization', 'PReLU', 'Permute', 'RNN', 'RandomBrightness', 'RandomContrast', 'RandomCrop', 'RandomFlip', 'RandomHeight', 'RandomRotation', 'RandomTranslation', 'RandomWidth', 'RandomZoom', 'ReLU', 'RepeatVector', 'Rescaling', 'Reshape', 'Resizing', 'SeparableConv1D', 'SeparableConv2D', 'SeparableConvolution1D', 'SeparableConvolution2D', 'SimpleRNN', 'SimpleRNNCell', 'Softmax', 'SpatialDropout1D', 'SpatialDropout2D', 'SpatialDropout3D', 'SpectralNormalization', 'StackedRNNCells', 'StringLookup', 'Subtract', 'TextVectorization', 'ThresholdedReLU', 'TimeDistributed', 'UnitNormalization', 'UpSampling1D', 'UpSampling2D', 'UpSampling3D', 'Wrapper', 'ZeroPadding1D', 'ZeroPadding2D', 'ZeroPadding3D', '__builtins__', '__cached__', '__doc__', '__file__', '__loader__', '__name__', '__package__', '__path__', '__spec__', 'add', 'average', 'concatenate', 'deserialize', 'dot', 'experimental', 'maximum', 'minimum', 'multiply', 'serialize', 'subtract']\n"
     ]
    }
   ],
   "source": [
    "print(dir(keras.layers))"
   ]
  },
  {
   "cell_type": "code",
   "execution_count": null,
   "id": "8f5fd2f1",
   "metadata": {},
   "outputs": [],
   "source": [
    "RNN()"
   ]
  },
  {
   "cell_type": "code",
   "execution_count": 2,
   "id": "4451e39c",
   "metadata": {},
   "outputs": [],
   "source": [
    "from keras.layers import Dense,Dropout, RNN, LSTM ,Conv2D"
   ]
  },
  {
   "cell_type": "code",
   "execution_count": null,
   "id": "e3d3fcdd",
   "metadata": {},
   "outputs": [],
   "source": [
    "Conv2D()"
   ]
  },
  {
   "cell_type": "code",
   "execution_count": null,
   "id": "6b38b660",
   "metadata": {},
   "outputs": [],
   "source": []
  },
  {
   "cell_type": "code",
   "execution_count": null,
   "id": "75b4ab43",
   "metadata": {},
   "outputs": [],
   "source": [
    "2,4,8,16,32,64,128,516"
   ]
  },
  {
   "cell_type": "code",
   "execution_count": null,
   "id": "3c6376e2",
   "metadata": {},
   "outputs": [],
   "source": []
  },
  {
   "cell_type": "code",
   "execution_count": 6,
   "id": "ee479ac1",
   "metadata": {},
   "outputs": [],
   "source": [
    "model = Sequential()\n",
    "model.add(Dense(16, input_dim=8,kernel_initializer='he_normal',activation='relu'))\n",
    "model.add(Dense(32,activation='relu'))\n",
    "model.add(Dropout(0.2))\n",
    "model.add(Dense(16,activation='relu'))\n",
    "model.add(Dense(1,activation='sigmoid'))"
   ]
  },
  {
   "cell_type": "code",
   "execution_count": 7,
   "id": "90e6420c",
   "metadata": {},
   "outputs": [
    {
     "name": "stdout",
     "output_type": "stream",
     "text": [
      "Model: \"sequential\"\n",
      "_________________________________________________________________\n",
      " Layer (type)                Output Shape              Param #   \n",
      "=================================================================\n",
      " dense (Dense)               (None, 16)                144       \n",
      "                                                                 \n",
      " dense_1 (Dense)             (None, 32)                544       \n",
      "                                                                 \n",
      " dropout (Dropout)           (None, 32)                0         \n",
      "                                                                 \n",
      " dense_2 (Dense)             (None, 16)                528       \n",
      "                                                                 \n",
      " dense_3 (Dense)             (None, 1)                 17        \n",
      "                                                                 \n",
      "=================================================================\n",
      "Total params: 1233 (4.82 KB)\n",
      "Trainable params: 1233 (4.82 KB)\n",
      "Non-trainable params: 0 (0.00 Byte)\n",
      "_________________________________________________________________\n"
     ]
    }
   ],
   "source": [
    "model.summary()"
   ]
  },
  {
   "cell_type": "code",
   "execution_count": 10,
   "id": "da7ad92e",
   "metadata": {},
   "outputs": [
    {
     "data": {
      "text/plain": [
       "[array([[-0.04860553,  0.22408119, -0.7039242 ,  0.919321  , -0.11454633,\n",
       "         -0.08724165,  0.28746772,  0.64731246, -0.15763639,  0.69052595,\n",
       "          0.15967648,  0.04946246, -0.22234163,  0.04840401,  0.02374179,\n",
       "          0.6097204 ],\n",
       "        [-0.04180164,  0.70685166, -0.23607603,  0.17387688, -0.35736188,\n",
       "         -0.32379207,  0.2917975 , -0.74121743,  0.7109124 ,  0.30507687,\n",
       "         -0.20500547,  1.0989311 , -0.19359753, -0.61369133, -0.29523706,\n",
       "          0.06981006],\n",
       "        [ 0.00824488, -0.34042153, -0.23114565, -0.27453965, -0.47267565,\n",
       "         -0.00174429,  0.12046951, -0.3353279 , -0.44040793, -0.4675145 ,\n",
       "         -0.8009242 ,  0.44762966,  0.4933791 , -0.43349674,  0.14771946,\n",
       "          0.39255288],\n",
       "        [ 0.8473842 , -0.35813782,  0.48680133, -0.2239245 , -0.16301559,\n",
       "         -0.3978402 , -0.24560452,  0.8153111 ,  0.08365247,  0.5804705 ,\n",
       "          0.41257855, -0.25967893,  0.15714811, -0.3463148 , -0.01363434,\n",
       "         -1.0383145 ],\n",
       "        [-0.05875972, -0.23410797,  0.35947144, -0.26730272, -0.4715878 ,\n",
       "         -0.9774998 , -0.09117035,  0.12820956, -0.08001832, -0.01426078,\n",
       "          0.99292827, -0.8040749 ,  0.59085995,  0.6308939 ,  0.3785642 ,\n",
       "          0.7289945 ],\n",
       "        [ 0.3510912 ,  0.49228656,  0.95354754,  0.26396978, -0.40716574,\n",
       "         -0.29053384, -0.4222683 , -0.04219829,  0.37131315, -0.87599725,\n",
       "          0.21744956, -0.33481532,  0.04971766, -0.61667204,  0.8033987 ,\n",
       "         -0.15934813],\n",
       "        [ 0.04784917, -0.21904679,  0.19056451,  0.51232845,  0.34560457,\n",
       "          0.07436405,  0.4337852 ,  0.47405657, -0.721156  , -0.47325844,\n",
       "          0.06912824,  0.28289217,  0.66697365, -1.0950911 , -0.8862391 ,\n",
       "         -0.7677775 ],\n",
       "        [-0.30965614, -0.01707933, -0.5524949 ,  0.04847535,  0.32665575,\n",
       "          0.5334538 ,  0.2728353 ,  0.27873176, -0.03405478, -0.12616433,\n",
       "         -0.16891147,  0.21150146, -0.48429704,  0.46153554, -0.5689347 ,\n",
       "         -0.52118146]], dtype=float32),\n",
       " array([0., 0., 0., 0., 0., 0., 0., 0., 0., 0., 0., 0., 0., 0., 0., 0.],\n",
       "       dtype=float32)]"
      ]
     },
     "execution_count": 10,
     "metadata": {},
     "output_type": "execute_result"
    }
   ],
   "source": [
    "model.layers[0].get_weights()"
   ]
  },
  {
   "cell_type": "code",
   "execution_count": null,
   "id": "e756aa79",
   "metadata": {},
   "outputs": [],
   "source": []
  },
  {
   "cell_type": "code",
   "execution_count": 26,
   "id": "02f701b4",
   "metadata": {},
   "outputs": [],
   "source": [
    "model.compile(loss='binary_crossentropy',metrics=['accuracy'])"
   ]
  },
  {
   "cell_type": "code",
   "execution_count": 27,
   "id": "d2eccdcd",
   "metadata": {
    "scrolled": false
   },
   "outputs": [
    {
     "name": "stdout",
     "output_type": "stream",
     "text": [
      "Epoch 1/5\n",
      "20/20 [==============================] - 1s 4ms/step - loss: 0.7118 - accuracy: 0.4528\n",
      "Epoch 2/5\n",
      "20/20 [==============================] - 0s 5ms/step - loss: 0.6304 - accuracy: 0.6824\n",
      "Epoch 3/5\n",
      "20/20 [==============================] - 0s 3ms/step - loss: 0.6004 - accuracy: 0.7117\n",
      "Epoch 4/5\n",
      "20/20 [==============================] - 0s 6ms/step - loss: 0.5560 - accuracy: 0.7313\n",
      "Epoch 5/5\n",
      "20/20 [==============================] - 0s 5ms/step - loss: 0.5259 - accuracy: 0.7476\n"
     ]
    },
    {
     "data": {
      "text/plain": [
       "<keras.src.callbacks.History at 0x1befb7be020>"
      ]
     },
     "execution_count": 27,
     "metadata": {},
     "output_type": "execute_result"
    }
   ],
   "source": [
    "model.fit(xtrain,ytrain,batch_size=32,epochs=5)"
   ]
  },
  {
   "cell_type": "code",
   "execution_count": 28,
   "id": "d3cbe619",
   "metadata": {},
   "outputs": [
    {
     "name": "stdout",
     "output_type": "stream",
     "text": [
      "Epoch 1/5\n",
      "20/20 [==============================] - 0s 6ms/step - loss: 0.4983 - accuracy: 0.7573\n",
      "Epoch 2/5\n",
      "20/20 [==============================] - 0s 5ms/step - loss: 0.5008 - accuracy: 0.7655\n",
      "Epoch 3/5\n",
      "20/20 [==============================] - 0s 4ms/step - loss: 0.4736 - accuracy: 0.7801\n",
      "Epoch 4/5\n",
      "20/20 [==============================] - 0s 5ms/step - loss: 0.4793 - accuracy: 0.7704\n",
      "Epoch 5/5\n",
      "20/20 [==============================] - 0s 5ms/step - loss: 0.4674 - accuracy: 0.7606\n"
     ]
    },
    {
     "data": {
      "text/plain": [
       "<keras.src.callbacks.History at 0x1befba5a440>"
      ]
     },
     "execution_count": 28,
     "metadata": {},
     "output_type": "execute_result"
    }
   ],
   "source": [
    "model.fit(xtrain,ytrain,batch_size=32,epochs=5)"
   ]
  },
  {
   "cell_type": "code",
   "execution_count": null,
   "id": "0518c058",
   "metadata": {},
   "outputs": [],
   "source": []
  },
  {
   "cell_type": "code",
   "execution_count": 67,
   "id": "36f3bc5e",
   "metadata": {
    "scrolled": true
   },
   "outputs": [
    {
     "name": "stdout",
     "output_type": "stream",
     "text": [
      "5/5 [==============================] - 0s 3ms/step\n"
     ]
    }
   ],
   "source": [
    "result = model.predict(xtest)>0.5"
   ]
  },
  {
   "cell_type": "code",
   "execution_count": 68,
   "id": "c9a5fc9d",
   "metadata": {},
   "outputs": [
    {
     "data": {
      "text/plain": [
       "numpy.ndarray"
      ]
     },
     "execution_count": 68,
     "metadata": {},
     "output_type": "execute_result"
    }
   ],
   "source": [
    "type(result)"
   ]
  },
  {
   "cell_type": "code",
   "execution_count": 70,
   "id": "6b4c34dd",
   "metadata": {},
   "outputs": [],
   "source": [
    "pred = 1*result"
   ]
  },
  {
   "cell_type": "code",
   "execution_count": 71,
   "id": "55d39855",
   "metadata": {},
   "outputs": [
    {
     "data": {
      "text/plain": [
       "0.7402597402597403"
      ]
     },
     "execution_count": 71,
     "metadata": {},
     "output_type": "execute_result"
    }
   ],
   "source": [
    "accuracy_score(ytest,pred)"
   ]
  },
  {
   "cell_type": "code",
   "execution_count": null,
   "id": "e15e1472",
   "metadata": {},
   "outputs": [],
   "source": []
  }
 ],
 "metadata": {
  "kernelspec": {
   "display_name": "Python 3 (ipykernel)",
   "language": "python",
   "name": "python3"
  },
  "language_info": {
   "codemirror_mode": {
    "name": "ipython",
    "version": 3
   },
   "file_extension": ".py",
   "mimetype": "text/x-python",
   "name": "python",
   "nbconvert_exporter": "python",
   "pygments_lexer": "ipython3",
   "version": "3.10.9"
  }
 },
 "nbformat": 4,
 "nbformat_minor": 5
}
