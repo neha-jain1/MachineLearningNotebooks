{
 "cells": [
  {
   "cell_type": "code",
   "execution_count": 3,
   "id": "93b0574a",
   "metadata": {},
   "outputs": [
    {
     "name": "stdout",
     "output_type": "stream",
     "text": [
      "Collecting darts\n",
      "  Using cached darts-0.26.0-py3-none-any.whl (784 kB)\n",
      "Requirement already satisfied: xgboost>=1.6.0 in c:\\users\\hp\\anaconda3\\lib\\site-packages (from darts) (2.0.1)\n",
      "Collecting shap>=0.40.0\n",
      "  Using cached shap-0.43.0-cp310-cp310-win_amd64.whl (447 kB)\n",
      "Collecting pytorch-lightning>=1.5.0\n",
      "  Using cached pytorch_lightning-2.1.0-py3-none-any.whl (774 kB)\n",
      "Requirement already satisfied: xarray>=0.17.0 in c:\\users\\hp\\anaconda3\\lib\\site-packages (from darts) (2022.11.0)\n",
      "Requirement already satisfied: scikit-learn>=1.0.1 in c:\\users\\hp\\anaconda3\\lib\\site-packages (from darts) (1.2.1)\n",
      "Requirement already satisfied: statsmodels>=0.14.0 in c:\\users\\hp\\anaconda3\\lib\\site-packages (from darts) (0.14.0)\n",
      "Requirement already satisfied: scipy>=1.3.2 in c:\\users\\hp\\anaconda3\\lib\\site-packages (from darts) (1.10.0)\n",
      "Requirement already satisfied: tqdm>=4.60.0 in c:\\users\\hp\\anaconda3\\lib\\site-packages (from darts) (4.64.1)\n",
      "Collecting pmdarima>=1.8.0\n",
      "  Using cached pmdarima-2.0.4-cp310-cp310-win_amd64.whl (613 kB)\n",
      "Requirement already satisfied: numpy>=1.19.0 in c:\\users\\hp\\anaconda3\\lib\\site-packages (from darts) (1.23.5)\n",
      "Collecting nfoursid>=1.0.0\n",
      "  Using cached nfoursid-1.0.1-py3-none-any.whl (16 kB)\n",
      "Requirement already satisfied: tensorboardX>=2.1 in c:\\users\\hp\\anaconda3\\lib\\site-packages (from darts) (2.6.2.2)\n",
      "Requirement already satisfied: pandas>=1.0.5 in c:\\users\\hp\\anaconda3\\lib\\site-packages (from darts) (1.5.3)\n",
      "Requirement already satisfied: typing-extensions in c:\\users\\hp\\anaconda3\\lib\\site-packages (from darts) (4.4.0)\n",
      "Requirement already satisfied: joblib>=0.16.0 in c:\\users\\hp\\anaconda3\\lib\\site-packages (from darts) (1.1.1)\n",
      "Requirement already satisfied: matplotlib>=3.3.0 in c:\\users\\hp\\anaconda3\\lib\\site-packages (from darts) (3.7.0)\n",
      "Requirement already satisfied: torch>=1.8.0 in c:\\users\\hp\\anaconda3\\lib\\site-packages (from darts) (1.12.1)\n",
      "Collecting statsforecast>=1.4\n",
      "  Using cached statsforecast-1.6.0-py3-none-any.whl (110 kB)\n",
      "Requirement already satisfied: requests>=2.22.0 in c:\\users\\hp\\anaconda3\\lib\\site-packages (from darts) (2.28.1)\n",
      "Requirement already satisfied: holidays>=0.11.1 in c:\\users\\hp\\anaconda3\\lib\\site-packages (from darts) (0.28)\n",
      "Collecting tbats>=1.1.0\n",
      "  Using cached tbats-1.1.3-py3-none-any.whl (44 kB)\n",
      "Collecting pyod>=0.9.5\n",
      "  Using cached pyod-1.1.1-py3-none-any.whl\n",
      "Requirement already satisfied: python-dateutil in c:\\users\\hp\\anaconda3\\lib\\site-packages (from holidays>=0.11.1->darts) (2.8.2)\n",
      "Requirement already satisfied: contourpy>=1.0.1 in c:\\users\\hp\\anaconda3\\lib\\site-packages (from matplotlib>=3.3.0->darts) (1.0.5)\n",
      "Requirement already satisfied: kiwisolver>=1.0.1 in c:\\users\\hp\\anaconda3\\lib\\site-packages (from matplotlib>=3.3.0->darts) (1.4.4)\n",
      "Requirement already satisfied: cycler>=0.10 in c:\\users\\hp\\anaconda3\\lib\\site-packages (from matplotlib>=3.3.0->darts) (0.11.0)\n",
      "Requirement already satisfied: packaging>=20.0 in c:\\users\\hp\\anaconda3\\lib\\site-packages (from matplotlib>=3.3.0->darts) (22.0)\n",
      "Requirement already satisfied: pillow>=6.2.0 in c:\\users\\hp\\anaconda3\\lib\\site-packages (from matplotlib>=3.3.0->darts) (9.4.0)\n",
      "Requirement already satisfied: fonttools>=4.22.0 in c:\\users\\hp\\anaconda3\\lib\\site-packages (from matplotlib>=3.3.0->darts) (4.25.0)\n",
      "Requirement already satisfied: pyparsing>=2.3.1 in c:\\users\\hp\\anaconda3\\lib\\site-packages (from matplotlib>=3.3.0->darts) (3.0.9)\n",
      "Requirement already satisfied: pytz>=2020.1 in c:\\users\\hp\\anaconda3\\lib\\site-packages (from pandas>=1.0.5->darts) (2022.7)\n",
      "Requirement already satisfied: Cython!=0.29.18,!=0.29.31,>=0.29 in c:\\users\\hp\\anaconda3\\lib\\site-packages (from pmdarima>=1.8.0->darts) (3.0.5)\n",
      "Requirement already satisfied: setuptools!=50.0.0,>=38.6.0 in c:\\users\\hp\\anaconda3\\lib\\site-packages (from pmdarima>=1.8.0->darts) (65.6.3)\n",
      "Requirement already satisfied: urllib3 in c:\\users\\hp\\anaconda3\\lib\\site-packages (from pmdarima>=1.8.0->darts) (1.26.14)\n",
      "Requirement already satisfied: numba>=0.51 in c:\\users\\hp\\anaconda3\\lib\\site-packages (from pyod>=0.9.5->darts) (0.56.4)\n",
      "Requirement already satisfied: six in c:\\users\\hp\\anaconda3\\lib\\site-packages (from pyod>=0.9.5->darts) (1.16.0)\n",
      "Requirement already satisfied: fsspec[http]>2021.06.0 in c:\\users\\hp\\anaconda3\\lib\\site-packages (from pytorch-lightning>=1.5.0->darts) (2022.11.0)\n",
      "Requirement already satisfied: torchmetrics>=0.7.0 in c:\\users\\hp\\anaconda3\\lib\\site-packages (from pytorch-lightning>=1.5.0->darts) (1.2.0)\n",
      "Requirement already satisfied: lightning-utilities>=0.8.0 in c:\\users\\hp\\anaconda3\\lib\\site-packages (from pytorch-lightning>=1.5.0->darts) (0.9.0)\n",
      "Requirement already satisfied: PyYAML>=5.4 in c:\\users\\hp\\anaconda3\\lib\\site-packages (from pytorch-lightning>=1.5.0->darts) (6.0)\n",
      "Requirement already satisfied: charset-normalizer<3,>=2 in c:\\users\\hp\\anaconda3\\lib\\site-packages (from requests>=2.22.0->darts) (2.0.4)\n",
      "Requirement already satisfied: idna<4,>=2.5 in c:\\users\\hp\\anaconda3\\lib\\site-packages (from requests>=2.22.0->darts) (3.4)\n",
      "Requirement already satisfied: certifi>=2017.4.17 in c:\\users\\hp\\anaconda3\\lib\\site-packages (from requests>=2.22.0->darts) (2022.12.7)\n",
      "Requirement already satisfied: threadpoolctl>=2.0.0 in c:\\users\\hp\\anaconda3\\lib\\site-packages (from scikit-learn>=1.0.1->darts) (2.2.0)\n",
      "Requirement already satisfied: cloudpickle in c:\\users\\hp\\anaconda3\\lib\\site-packages (from shap>=0.40.0->darts) (2.0.0)\n",
      "Requirement already satisfied: slicer==0.0.7 in c:\\users\\hp\\anaconda3\\lib\\site-packages (from shap>=0.40.0->darts) (0.0.7)\n",
      "Requirement already satisfied: polars in c:\\users\\hp\\anaconda3\\lib\\site-packages (from statsforecast>=1.4->darts) (0.19.12)\n",
      "Collecting fugue>=0.8.1\n",
      "  Using cached fugue-0.8.6-py3-none-any.whl (275 kB)\n",
      "Requirement already satisfied: patsy>=0.5.2 in c:\\users\\hp\\anaconda3\\lib\\site-packages (from statsmodels>=0.14.0->darts) (0.5.3)\n",
      "Requirement already satisfied: protobuf>=3.20 in c:\\users\\hp\\anaconda3\\lib\\site-packages (from tensorboardX>=2.1->darts) (4.23.4)\n",
      "Requirement already satisfied: colorama in c:\\users\\hp\\anaconda3\\lib\\site-packages (from tqdm>=4.60.0->darts) (0.4.6)\n",
      "Collecting aiohttp!=4.0.0a0,!=4.0.0a1\n",
      "  Using cached aiohttp-3.8.6-cp310-cp310-win_amd64.whl (325 kB)\n",
      "Collecting fugue-sql-antlr>=0.1.6\n",
      "  Using cached fugue_sql_antlr-0.1.8-py3-none-any.whl\n",
      "Requirement already satisfied: triad>=0.9.1 in c:\\users\\hp\\anaconda3\\lib\\site-packages (from fugue>=0.8.1->statsforecast>=1.4->darts) (0.9.1)\n",
      "Requirement already satisfied: pyarrow>=0.15.1 in c:\\users\\hp\\anaconda3\\lib\\site-packages (from fugue>=0.8.1->statsforecast>=1.4->darts) (14.0.0)\n",
      "Requirement already satisfied: sqlglot in c:\\users\\hp\\anaconda3\\lib\\site-packages (from fugue>=0.8.1->statsforecast>=1.4->darts) (19.0.3)\n",
      "Collecting adagio>=0.2.4\n",
      "  Using cached adagio-0.2.4-py3-none-any.whl (26 kB)\n",
      "Collecting qpd>=0.4.4\n",
      "  Using cached qpd-0.4.4-py3-none-any.whl (169 kB)\n",
      "Requirement already satisfied: jinja2 in c:\\users\\hp\\anaconda3\\lib\\site-packages (from fugue>=0.8.1->statsforecast>=1.4->darts) (3.1.2)\n",
      "Requirement already satisfied: llvmlite<0.40,>=0.39.0dev0 in c:\\users\\hp\\anaconda3\\lib\\site-packages (from numba>=0.51->pyod>=0.9.5->darts) (0.39.1)\n",
      "Requirement already satisfied: multidict<7.0,>=4.5 in c:\\users\\hp\\anaconda3\\lib\\site-packages (from aiohttp!=4.0.0a0,!=4.0.0a1->fsspec[http]>2021.06.0->pytorch-lightning>=1.5.0->darts) (6.0.4)\n",
      "Requirement already satisfied: frozenlist>=1.1.1 in c:\\users\\hp\\anaconda3\\lib\\site-packages (from aiohttp!=4.0.0a0,!=4.0.0a1->fsspec[http]>2021.06.0->pytorch-lightning>=1.5.0->darts) (1.4.0)\n",
      "Requirement already satisfied: async-timeout<5.0,>=4.0.0a3 in c:\\users\\hp\\anaconda3\\lib\\site-packages (from aiohttp!=4.0.0a0,!=4.0.0a1->fsspec[http]>2021.06.0->pytorch-lightning>=1.5.0->darts) (4.0.3)\n",
      "Requirement already satisfied: aiosignal>=1.1.2 in c:\\users\\hp\\anaconda3\\lib\\site-packages (from aiohttp!=4.0.0a0,!=4.0.0a1->fsspec[http]>2021.06.0->pytorch-lightning>=1.5.0->darts) (1.3.1)\n",
      "Requirement already satisfied: yarl<2.0,>=1.0 in c:\\users\\hp\\anaconda3\\lib\\site-packages (from aiohttp!=4.0.0a0,!=4.0.0a1->fsspec[http]>2021.06.0->pytorch-lightning>=1.5.0->darts) (1.9.2)\n",
      "Requirement already satisfied: attrs>=17.3.0 in c:\\users\\hp\\anaconda3\\lib\\site-packages (from aiohttp!=4.0.0a0,!=4.0.0a1->fsspec[http]>2021.06.0->pytorch-lightning>=1.5.0->darts) (22.1.0)\n",
      "Requirement already satisfied: antlr4-python3-runtime<4.12 in c:\\users\\hp\\anaconda3\\lib\\site-packages (from fugue-sql-antlr>=0.1.6->fugue>=0.8.1->statsforecast>=1.4->darts) (4.11.1)\n",
      "Requirement already satisfied: fs in c:\\users\\hp\\anaconda3\\lib\\site-packages (from triad>=0.9.1->fugue>=0.8.1->statsforecast>=1.4->darts) (2.4.16)\n",
      "Requirement already satisfied: MarkupSafe>=2.0 in c:\\users\\hp\\anaconda3\\lib\\site-packages (from jinja2->fugue>=0.8.1->statsforecast>=1.4->darts) (2.1.1)\n",
      "Requirement already satisfied: appdirs~=1.4.3 in c:\\users\\hp\\anaconda3\\lib\\site-packages (from fs->triad>=0.9.1->fugue>=0.8.1->statsforecast>=1.4->darts) (1.4.4)\n",
      "Installing collected packages: aiohttp, shap, pyod, nfoursid, pytorch-lightning, pmdarima, fugue-sql-antlr, adagio, tbats, qpd, fugue, statsforecast, darts\n",
      "Successfully installed adagio-0.2.4 aiohttp-3.8.6 darts-0.26.0 fugue-0.8.6 fugue-sql-antlr-0.1.8 nfoursid-1.0.1 pmdarima-2.0.4 pyod-1.1.1 pytorch-lightning-2.1.0 qpd-0.4.4 shap-0.43.0 statsforecast-1.6.0 tbats-1.1.3\n"
     ]
    }
   ],
   "source": [
    "! pip install darts --user"
   ]
  },
  {
   "cell_type": "code",
   "execution_count": 2,
   "id": "9b3b58de",
   "metadata": {},
   "outputs": [],
   "source": [
    "from darts import TimeSeries\n",
    "from darts.models.forecasting.arima import ARIMA\n"
   ]
  },
  {
   "cell_type": "code",
   "execution_count": 11,
   "id": "1f04ff5f",
   "metadata": {},
   "outputs": [],
   "source": [
    "import pandas as pd \n",
    "import seaborn as sns\n",
    "from darts.dataprocessing.transformers.scaler import Scaler"
   ]
  },
  {
   "cell_type": "code",
   "execution_count": 8,
   "id": "3f756983",
   "metadata": {},
   "outputs": [],
   "source": [
    "df = pd.read_csv('DailyDelhiClimateTrain.csv')"
   ]
  },
  {
   "cell_type": "code",
   "execution_count": 9,
   "id": "b39292fb",
   "metadata": {},
   "outputs": [
    {
     "data": {
      "text/html": [
       "<div>\n",
       "<style scoped>\n",
       "    .dataframe tbody tr th:only-of-type {\n",
       "        vertical-align: middle;\n",
       "    }\n",
       "\n",
       "    .dataframe tbody tr th {\n",
       "        vertical-align: top;\n",
       "    }\n",
       "\n",
       "    .dataframe thead th {\n",
       "        text-align: right;\n",
       "    }\n",
       "</style>\n",
       "<table border=\"1\" class=\"dataframe\">\n",
       "  <thead>\n",
       "    <tr style=\"text-align: right;\">\n",
       "      <th></th>\n",
       "      <th>date</th>\n",
       "      <th>meantemp</th>\n",
       "    </tr>\n",
       "  </thead>\n",
       "  <tbody>\n",
       "    <tr>\n",
       "      <th>0</th>\n",
       "      <td>01-01-2013</td>\n",
       "      <td>10.000000</td>\n",
       "    </tr>\n",
       "    <tr>\n",
       "      <th>1</th>\n",
       "      <td>02-01-2013</td>\n",
       "      <td>7.400000</td>\n",
       "    </tr>\n",
       "    <tr>\n",
       "      <th>2</th>\n",
       "      <td>03-01-2013</td>\n",
       "      <td>7.166667</td>\n",
       "    </tr>\n",
       "    <tr>\n",
       "      <th>3</th>\n",
       "      <td>04-01-2013</td>\n",
       "      <td>8.666667</td>\n",
       "    </tr>\n",
       "    <tr>\n",
       "      <th>4</th>\n",
       "      <td>05-01-2013</td>\n",
       "      <td>6.000000</td>\n",
       "    </tr>\n",
       "  </tbody>\n",
       "</table>\n",
       "</div>"
      ],
      "text/plain": [
       "         date   meantemp\n",
       "0  01-01-2013  10.000000\n",
       "1  02-01-2013   7.400000\n",
       "2  03-01-2013   7.166667\n",
       "3  04-01-2013   8.666667\n",
       "4  05-01-2013   6.000000"
      ]
     },
     "execution_count": 9,
     "metadata": {},
     "output_type": "execute_result"
    }
   ],
   "source": [
    "df.head()"
   ]
  },
  {
   "cell_type": "code",
   "execution_count": 10,
   "id": "0075e515",
   "metadata": {},
   "outputs": [
    {
     "name": "stderr",
     "output_type": "stream",
     "text": [
      "C:\\Users\\Hp\\AppData\\Roaming\\Python\\Python310\\site-packages\\darts\\timeseries.py:671: UserWarning: Parsing dates in DD/MM/YYYY format when dayfirst=False (the default) was specified. This may lead to inconsistently parsed dates! Specify a format to ensure consistent parsing.\n",
      "  time_index = pd.DatetimeIndex(time_col_vals)\n"
     ]
    }
   ],
   "source": [
    "series = TimeSeries.from_dataframe(df,'date','meantemp')"
   ]
  },
  {
   "cell_type": "code",
   "execution_count": 13,
   "id": "b6461608",
   "metadata": {},
   "outputs": [],
   "source": [
    "train_scaler = Scaler()\n",
    "scaled_train = train_scaler.fit_transform(series)"
   ]
  },
  {
   "cell_type": "code",
   "execution_count": 14,
   "id": "ac461026",
   "metadata": {},
   "outputs": [
    {
     "data": {
      "text/plain": [
       "ARIMA(p=12, d=1, q=0, seasonal_order=(0, 0, 0, 0), trend=None, random_state=None, add_encoders=None)"
      ]
     },
     "execution_count": 14,
     "metadata": {},
     "output_type": "execute_result"
    }
   ],
   "source": [
    "m = ARIMA()\n",
    "m.fit(scaled_train)"
   ]
  },
  {
   "cell_type": "code",
   "execution_count": 16,
   "id": "3fc11205",
   "metadata": {},
   "outputs": [],
   "source": [
    "pred = m.predict(10)"
   ]
  },
  {
   "cell_type": "code",
   "execution_count": null,
   "id": "f4c12bb2",
   "metadata": {},
   "outputs": [],
   "source": []
  }
 ],
 "metadata": {
  "kernelspec": {
   "display_name": "Python 3 (ipykernel)",
   "language": "python",
   "name": "python3"
  },
  "language_info": {
   "codemirror_mode": {
    "name": "ipython",
    "version": 3
   },
   "file_extension": ".py",
   "mimetype": "text/x-python",
   "name": "python",
   "nbconvert_exporter": "python",
   "pygments_lexer": "ipython3",
   "version": "3.10.9"
  }
 },
 "nbformat": 4,
 "nbformat_minor": 5
}
