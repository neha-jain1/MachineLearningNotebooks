{
 "cells": [
  {
   "cell_type": "code",
   "execution_count": 1,
   "id": "0ad9db7d",
   "metadata": {},
   "outputs": [],
   "source": [
    "s = 'This is my NLP based session ............. Sesssion number is 10 '"
   ]
  },
  {
   "cell_type": "markdown",
   "id": "958a088a",
   "metadata": {},
   "source": [
    "### Functions on Strings"
   ]
  },
  {
   "cell_type": "code",
   "execution_count": 1,
   "id": "25998158",
   "metadata": {},
   "outputs": [
    {
     "ename": "NameError",
     "evalue": "name 's' is not defined",
     "output_type": "error",
     "traceback": [
      "\u001b[1;31m---------------------------------------------------------------------------\u001b[0m",
      "\u001b[1;31mNameError\u001b[0m                                 Traceback (most recent call last)",
      "Cell \u001b[1;32mIn[1], line 1\u001b[0m\n\u001b[1;32m----> 1\u001b[0m \u001b[38;5;28mtype\u001b[39m(\u001b[43ms\u001b[49m)\n",
      "\u001b[1;31mNameError\u001b[0m: name 's' is not defined"
     ]
    }
   ],
   "source": [
    "type(s)"
   ]
  },
  {
   "cell_type": "markdown",
   "id": "df6a4a29",
   "metadata": {},
   "source": [
    "#### Case Conversion Functions"
   ]
  },
  {
   "cell_type": "code",
   "execution_count": 7,
   "id": "3cc7a025",
   "metadata": {},
   "outputs": [
    {
     "data": {
      "text/plain": [
       "'THIS IS MY NLP BASED SESSION ............. SESSSION NUMBER IS 10 '"
      ]
     },
     "execution_count": 7,
     "metadata": {},
     "output_type": "execute_result"
    }
   ],
   "source": [
    "s.upper()"
   ]
  },
  {
   "cell_type": "code",
   "execution_count": 4,
   "id": "052afed7",
   "metadata": {},
   "outputs": [
    {
     "data": {
      "text/plain": [
       "'this is my nlp based session ............. sesssion number is 10 '"
      ]
     },
     "execution_count": 4,
     "metadata": {},
     "output_type": "execute_result"
    }
   ],
   "source": [
    "s.lower()"
   ]
  },
  {
   "cell_type": "code",
   "execution_count": 5,
   "id": "5b6fc72a",
   "metadata": {},
   "outputs": [
    {
     "data": {
      "text/plain": [
       "'This is my nlp based session ............. sesssion number is 10 '"
      ]
     },
     "execution_count": 5,
     "metadata": {},
     "output_type": "execute_result"
    }
   ],
   "source": [
    "s.capitalize()"
   ]
  },
  {
   "cell_type": "code",
   "execution_count": 6,
   "id": "f8458513",
   "metadata": {},
   "outputs": [
    {
     "data": {
      "text/plain": [
       "'Today is saturday'"
      ]
     },
     "execution_count": 6,
     "metadata": {},
     "output_type": "execute_result"
    }
   ],
   "source": [
    "'today is saturday'.capitalize()"
   ]
  },
  {
   "cell_type": "code",
   "execution_count": 8,
   "id": "9ff7f1c7",
   "metadata": {},
   "outputs": [
    {
     "data": {
      "text/plain": [
       "'This is my NLP based session ............. Sesssion number is 10 '"
      ]
     },
     "execution_count": 8,
     "metadata": {},
     "output_type": "execute_result"
    }
   ],
   "source": [
    "# Replace Function \n",
    "s"
   ]
  },
  {
   "cell_type": "code",
   "execution_count": 11,
   "id": "3b310942",
   "metadata": {},
   "outputs": [],
   "source": [
    "s = s.replace('Sesssion','session')"
   ]
  },
  {
   "cell_type": "code",
   "execution_count": 12,
   "id": "6f623ef4",
   "metadata": {},
   "outputs": [
    {
     "data": {
      "text/plain": [
       "'This is my NLP based session ............. session number is 10 '"
      ]
     },
     "execution_count": 12,
     "metadata": {},
     "output_type": "execute_result"
    }
   ],
   "source": [
    "s"
   ]
  },
  {
   "cell_type": "code",
   "execution_count": 13,
   "id": "75fd9271",
   "metadata": {},
   "outputs": [
    {
     "data": {
      "text/plain": [
       "False"
      ]
     },
     "execution_count": 13,
     "metadata": {},
     "output_type": "execute_result"
    }
   ],
   "source": [
    "s.islower()"
   ]
  },
  {
   "cell_type": "markdown",
   "id": "7b8ff198",
   "metadata": {},
   "source": [
    "#### Numeric Checks and Alphabet Checks"
   ]
  },
  {
   "cell_type": "code",
   "execution_count": 14,
   "id": "f7700670",
   "metadata": {},
   "outputs": [
    {
     "data": {
      "text/plain": [
       "False"
      ]
     },
     "execution_count": 14,
     "metadata": {},
     "output_type": "execute_result"
    }
   ],
   "source": [
    "s.isdigit()"
   ]
  },
  {
   "cell_type": "code",
   "execution_count": 17,
   "id": "117765ff",
   "metadata": {},
   "outputs": [
    {
     "data": {
      "text/plain": [
       "True"
      ]
     },
     "execution_count": 17,
     "metadata": {},
     "output_type": "execute_result"
    }
   ],
   "source": [
    "'1234'.isdigit()"
   ]
  },
  {
   "cell_type": "code",
   "execution_count": 19,
   "id": "759e5a9b",
   "metadata": {},
   "outputs": [
    {
     "data": {
      "text/plain": [
       "False"
      ]
     },
     "execution_count": 19,
     "metadata": {},
     "output_type": "execute_result"
    }
   ],
   "source": [
    "s.isalpha()"
   ]
  },
  {
   "cell_type": "code",
   "execution_count": 20,
   "id": "79028bf7",
   "metadata": {},
   "outputs": [
    {
     "data": {
      "text/plain": [
       "True"
      ]
     },
     "execution_count": 20,
     "metadata": {},
     "output_type": "execute_result"
    }
   ],
   "source": [
    "'abdcc'.isalpha()"
   ]
  },
  {
   "cell_type": "code",
   "execution_count": 22,
   "id": "9005a600",
   "metadata": {},
   "outputs": [
    {
     "data": {
      "text/plain": [
       "False"
      ]
     },
     "execution_count": 22,
     "metadata": {},
     "output_type": "execute_result"
    }
   ],
   "source": [
    "s.isalnum()"
   ]
  },
  {
   "cell_type": "code",
   "execution_count": 23,
   "id": "d551afa7",
   "metadata": {},
   "outputs": [
    {
     "data": {
      "text/plain": [
       "True"
      ]
     },
     "execution_count": 23,
     "metadata": {},
     "output_type": "execute_result"
    }
   ],
   "source": [
    "'Hello'.isalnum()"
   ]
  },
  {
   "cell_type": "code",
   "execution_count": 24,
   "id": "00e15721",
   "metadata": {},
   "outputs": [
    {
     "data": {
      "text/plain": [
       "True"
      ]
     },
     "execution_count": 24,
     "metadata": {},
     "output_type": "execute_result"
    }
   ],
   "source": [
    "'12423'.isalnum()"
   ]
  },
  {
   "cell_type": "markdown",
   "id": "673f5522",
   "metadata": {},
   "source": [
    "#### Splitting and joining"
   ]
  },
  {
   "cell_type": "code",
   "execution_count": 25,
   "id": "ac3361db",
   "metadata": {},
   "outputs": [],
   "source": [
    "s= 'I should be sleep, but im not! thinking about an old friend who I want'\n"
   ]
  },
  {
   "cell_type": "code",
   "execution_count": 28,
   "id": "3d6c38a6",
   "metadata": {},
   "outputs": [],
   "source": [
    "words = s.lower().split(' ')"
   ]
  },
  {
   "cell_type": "code",
   "execution_count": 29,
   "id": "69bef88f",
   "metadata": {},
   "outputs": [
    {
     "data": {
      "text/plain": [
       "['i',\n",
       " 'should',\n",
       " 'be',\n",
       " 'sleep,',\n",
       " 'but',\n",
       " 'im',\n",
       " 'not!',\n",
       " 'thinking',\n",
       " 'about',\n",
       " 'an',\n",
       " 'old',\n",
       " 'friend',\n",
       " 'who',\n",
       " 'i',\n",
       " 'want']"
      ]
     },
     "execution_count": 29,
     "metadata": {},
     "output_type": "execute_result"
    }
   ],
   "source": [
    "words"
   ]
  },
  {
   "cell_type": "code",
   "execution_count": 30,
   "id": "eb905fcc",
   "metadata": {},
   "outputs": [],
   "source": [
    "stopwordslist = ['i',\n",
    "                'am', 'but','be','should','who','an']"
   ]
  },
  {
   "cell_type": "code",
   "execution_count": 31,
   "id": "f6ecd225",
   "metadata": {},
   "outputs": [],
   "source": [
    "text = []\n",
    "for w in words:\n",
    "    if (w not in stopwordslist):\n",
    "        text.append(w)"
   ]
  },
  {
   "cell_type": "code",
   "execution_count": 32,
   "id": "ec51e24b",
   "metadata": {},
   "outputs": [
    {
     "data": {
      "text/plain": [
       "['sleep,', 'im', 'not!', 'thinking', 'about', 'old', 'friend', 'want']"
      ]
     },
     "execution_count": 32,
     "metadata": {},
     "output_type": "execute_result"
    }
   ],
   "source": [
    "text"
   ]
  },
  {
   "cell_type": "code",
   "execution_count": 33,
   "id": "d046ed8b",
   "metadata": {},
   "outputs": [
    {
     "data": {
      "text/plain": [
       "'sleep, im not! thinking about old friend want'"
      ]
     },
     "execution_count": 33,
     "metadata": {},
     "output_type": "execute_result"
    }
   ],
   "source": [
    "' '.join(text)"
   ]
  },
  {
   "cell_type": "code",
   "execution_count": 34,
   "id": "1855865e",
   "metadata": {},
   "outputs": [
    {
     "data": {
      "text/plain": [
       "'sleep,,im,not!,thinking,about,old,friend,want'"
      ]
     },
     "execution_count": 34,
     "metadata": {},
     "output_type": "execute_result"
    }
   ],
   "source": [
    "','.join(text)"
   ]
  },
  {
   "cell_type": "markdown",
   "id": "e8b8216f",
   "metadata": {},
   "source": [
    "### Regular Expressions "
   ]
  },
  {
   "cell_type": "code",
   "execution_count": 35,
   "id": "6827ddeb",
   "metadata": {},
   "outputs": [],
   "source": [
    "import re"
   ]
  },
  {
   "cell_type": "code",
   "execution_count": 37,
   "id": "a6718fae",
   "metadata": {},
   "outputs": [
    {
     "data": {
      "text/plain": [
       "<re.Match object; span=(0, 4), match='Done'>"
      ]
     },
     "execution_count": 37,
     "metadata": {},
     "output_type": "execute_result"
    }
   ],
   "source": [
    "## Match - Function returns match object if the pattern is present at the start of the statement \n",
    "re.match('Done','Done my assignment')"
   ]
  },
  {
   "cell_type": "code",
   "execution_count": 38,
   "id": "b7dec83d",
   "metadata": {},
   "outputs": [],
   "source": [
    "re.match('my','Done my assignment')"
   ]
  },
  {
   "cell_type": "code",
   "execution_count": 41,
   "id": "b8f55ea0",
   "metadata": {},
   "outputs": [
    {
     "data": {
      "text/plain": [
       "<re.Match object; span=(5, 7), match='my'>"
      ]
     },
     "execution_count": 41,
     "metadata": {},
     "output_type": "execute_result"
    }
   ],
   "source": [
    "## Search \n",
    "\n",
    "r = re.search('my','Done my assignment')\n",
    "r"
   ]
  },
  {
   "cell_type": "code",
   "execution_count": 44,
   "id": "e903b4ed",
   "metadata": {},
   "outputs": [
    {
     "data": {
      "text/plain": [
       "'my'"
      ]
     },
     "execution_count": 44,
     "metadata": {},
     "output_type": "execute_result"
    }
   ],
   "source": [
    "r[0]"
   ]
  },
  {
   "cell_type": "code",
   "execution_count": 45,
   "id": "7b96eca1",
   "metadata": {},
   "outputs": [
    {
     "data": {
      "text/plain": [
       "<re.Match object; span=(5, 7), match='my'>"
      ]
     },
     "execution_count": 45,
     "metadata": {},
     "output_type": "execute_result"
    }
   ],
   "source": [
    " re.search('my','Done my assignment my work')"
   ]
  },
  {
   "cell_type": "code",
   "execution_count": 46,
   "id": "bc07e40b",
   "metadata": {},
   "outputs": [],
   "source": [
    "# findall"
   ]
  },
  {
   "cell_type": "code",
   "execution_count": 48,
   "id": "49705a0c",
   "metadata": {},
   "outputs": [
    {
     "data": {
      "text/plain": [
       "['my', 'my']"
      ]
     },
     "execution_count": 48,
     "metadata": {},
     "output_type": "execute_result"
    }
   ],
   "source": [
    " re.findall('my','Done my assignment my work')"
   ]
  },
  {
   "cell_type": "markdown",
   "id": "f912b880",
   "metadata": {},
   "source": [
    "### Special Sequenes in Regular Expressions "
   ]
  },
  {
   "cell_type": "code",
   "execution_count": 50,
   "id": "1cdaa983",
   "metadata": {},
   "outputs": [],
   "source": [
    "s = 'This is my NLP based session ............. Sesssion number is 10 1 4 5 2 134 '"
   ]
  },
  {
   "cell_type": "code",
   "execution_count": 51,
   "id": "16222322",
   "metadata": {},
   "outputs": [
    {
     "data": {
      "text/plain": [
       "['10']"
      ]
     },
     "execution_count": 51,
     "metadata": {},
     "output_type": "execute_result"
    }
   ],
   "source": [
    "re.findall('10',s)"
   ]
  },
  {
   "cell_type": "code",
   "execution_count": 52,
   "id": "01da913b",
   "metadata": {},
   "outputs": [
    {
     "data": {
      "text/plain": [
       "['1', '0', '1', '4', '5', '2', '1', '3', '4']"
      ]
     },
     "execution_count": 52,
     "metadata": {},
     "output_type": "execute_result"
    }
   ],
   "source": [
    "# Identify digits \n",
    "re.findall('\\d',s)"
   ]
  },
  {
   "cell_type": "code",
   "execution_count": 53,
   "id": "1d59ac56",
   "metadata": {},
   "outputs": [
    {
     "data": {
      "text/plain": [
       "['10', '1', '4', '5', '2', '134']"
      ]
     },
     "execution_count": 53,
     "metadata": {},
     "output_type": "execute_result"
    }
   ],
   "source": [
    "re.findall('\\d+',s)"
   ]
  },
  {
   "cell_type": "code",
   "execution_count": 55,
   "id": "87c9849f",
   "metadata": {},
   "outputs": [
    {
     "data": {
      "text/plain": [
       "'This is my NLP based session ............. Sesssion number is **** **** **** **** **** **** '"
      ]
     },
     "execution_count": 55,
     "metadata": {},
     "output_type": "execute_result"
    }
   ],
   "source": [
    "re.sub('\\d+','****',s)"
   ]
  },
  {
   "cell_type": "code",
   "execution_count": 56,
   "id": "cf573628",
   "metadata": {},
   "outputs": [
    {
     "data": {
      "text/plain": [
       "'This is my NLP based session ............. Sesssion number is       '"
      ]
     },
     "execution_count": 56,
     "metadata": {},
     "output_type": "execute_result"
    }
   ],
   "source": [
    "re.sub('\\d+','',s)"
   ]
  },
  {
   "cell_type": "code",
   "execution_count": 60,
   "id": "8b8d6a18",
   "metadata": {},
   "outputs": [
    {
     "data": {
      "text/plain": [
       "['This is my NLP based session ............. Sesssion number is ',\n",
       " ' ',\n",
       " ' ',\n",
       " ' ',\n",
       " ' ',\n",
       " ' ',\n",
       " ' ']"
      ]
     },
     "execution_count": 60,
     "metadata": {},
     "output_type": "execute_result"
    }
   ],
   "source": [
    "re.findall('\\D+',s)"
   ]
  },
  {
   "cell_type": "code",
   "execution_count": null,
   "id": "14d6a3d3",
   "metadata": {},
   "outputs": [],
   "source": []
  },
  {
   "cell_type": "code",
   "execution_count": null,
   "id": "5a3cd1d5",
   "metadata": {},
   "outputs": [],
   "source": []
  },
  {
   "cell_type": "code",
   "execution_count": 58,
   "id": "528be36a",
   "metadata": {},
   "outputs": [
    {
     "data": {
      "text/plain": [
       "['This',\n",
       " 'is',\n",
       " 'my',\n",
       " 'NLP',\n",
       " 'based',\n",
       " 'session',\n",
       " 'Sesssion',\n",
       " 'number',\n",
       " 'is',\n",
       " '10',\n",
       " '1',\n",
       " '4',\n",
       " '5',\n",
       " '2',\n",
       " '134']"
      ]
     },
     "execution_count": 58,
     "metadata": {},
     "output_type": "execute_result"
    }
   ],
   "source": [
    "# Identify words consisting of both alphabetic and numerical values \n",
    "re.findall('\\w+',s)"
   ]
  },
  {
   "cell_type": "code",
   "execution_count": 62,
   "id": "7a66ac42",
   "metadata": {},
   "outputs": [
    {
     "data": {
      "text/plain": [
       "[' ',\n",
       " ' ',\n",
       " ' ',\n",
       " ' ',\n",
       " ' ',\n",
       " ' ............. ',\n",
       " ' ',\n",
       " ' ',\n",
       " ' ',\n",
       " ' ',\n",
       " ' ',\n",
       " ' ',\n",
       " ' ',\n",
       " ' ',\n",
       " ' ']"
      ]
     },
     "execution_count": 62,
     "metadata": {},
     "output_type": "execute_result"
    }
   ],
   "source": [
    "re.findall('\\W+',s)"
   ]
  },
  {
   "cell_type": "code",
   "execution_count": 65,
   "id": "fe55c118",
   "metadata": {},
   "outputs": [
    {
     "data": {
      "text/plain": [
       "'ThisismyNLPbasedsessionSesssionnumberis101452134'"
      ]
     },
     "execution_count": 65,
     "metadata": {},
     "output_type": "execute_result"
    }
   ],
   "source": [
    "re.sub('\\W','',s)"
   ]
  },
  {
   "cell_type": "code",
   "execution_count": 69,
   "id": "f51b5acf",
   "metadata": {},
   "outputs": [
    {
     "data": {
      "text/plain": [
       "'This is my NLP based session ............. Sesssion number is 10 1 4 5 2 134 '"
      ]
     },
     "execution_count": 69,
     "metadata": {},
     "output_type": "execute_result"
    }
   ],
   "source": [
    "s"
   ]
  },
  {
   "cell_type": "code",
   "execution_count": 67,
   "id": "3133f269",
   "metadata": {},
   "outputs": [
    {
     "data": {
      "text/plain": [
       "['1', '0', '1', '2', '1', '3']"
      ]
     },
     "execution_count": 67,
     "metadata": {},
     "output_type": "execute_result"
    }
   ],
   "source": [
    "re.findall('[0-3]',s)"
   ]
  },
  {
   "cell_type": "code",
   "execution_count": 68,
   "id": "bd2b5c3a",
   "metadata": {},
   "outputs": [
    {
     "data": {
      "text/plain": [
       "['T', 'N', 'L', 'P', 'S']"
      ]
     },
     "execution_count": 68,
     "metadata": {},
     "output_type": "execute_result"
    }
   ],
   "source": [
    "re.findall('[A-Z]',s)"
   ]
  },
  {
   "cell_type": "code",
   "execution_count": 71,
   "id": "cbc507c1",
   "metadata": {},
   "outputs": [
    {
     "data": {
      "text/plain": [
       "['his', 'is', 'my', 'based', 'session', 'esssion', 'number', 'is']"
      ]
     },
     "execution_count": 71,
     "metadata": {},
     "output_type": "execute_result"
    }
   ],
   "source": [
    "re.findall('[a-z]+',s)"
   ]
  },
  {
   "cell_type": "code",
   "execution_count": null,
   "id": "68144b45",
   "metadata": {},
   "outputs": [],
   "source": []
  },
  {
   "cell_type": "code",
   "execution_count": 73,
   "id": "9614969b",
   "metadata": {},
   "outputs": [
    {
     "data": {
      "text/plain": [
       "[' ',\n",
       " ' ',\n",
       " ' ',\n",
       " ' ',\n",
       " ' ',\n",
       " ' ',\n",
       " ' ',\n",
       " ' ',\n",
       " ' ',\n",
       " ' ',\n",
       " ' ',\n",
       " ' ',\n",
       " ' ',\n",
       " ' ',\n",
       " ' ',\n",
       " ' ']"
      ]
     },
     "execution_count": 73,
     "metadata": {},
     "output_type": "execute_result"
    }
   ],
   "source": [
    "re.findall('\\s+',s)"
   ]
  },
  {
   "cell_type": "code",
   "execution_count": 86,
   "id": "5a2fdfe2",
   "metadata": {},
   "outputs": [
    {
     "data": {
      "text/plain": [
       "['This',\n",
       " 'is',\n",
       " 'my',\n",
       " 'NLP',\n",
       " 'based',\n",
       " 'session',\n",
       " '.............',\n",
       " 'Sesssion',\n",
       " 'number',\n",
       " 'is',\n",
       " '10',\n",
       " '1',\n",
       " '4',\n",
       " '5',\n",
       " '2',\n",
       " '134']"
      ]
     },
     "execution_count": 86,
     "metadata": {},
     "output_type": "execute_result"
    }
   ],
   "source": [
    "re.findall('\\S+',s)"
   ]
  },
  {
   "cell_type": "code",
   "execution_count": 75,
   "id": "158c962e",
   "metadata": {},
   "outputs": [],
   "source": [
    "# Validate it s a perfect email or not "
   ]
  },
  {
   "cell_type": "code",
   "execution_count": 76,
   "id": "6835cba4",
   "metadata": {},
   "outputs": [],
   "source": [
    "e ='abcs@gmail.com'"
   ]
  },
  {
   "cell_type": "code",
   "execution_count": 81,
   "id": "8d1fc88c",
   "metadata": {},
   "outputs": [],
   "source": [
    "e1 = 'abs123@gmail.com'"
   ]
  },
  {
   "cell_type": "code",
   "execution_count": 78,
   "id": "93f4c721",
   "metadata": {},
   "outputs": [
    {
     "data": {
      "text/plain": [
       "['abcs@gmail.com']"
      ]
     },
     "execution_count": 78,
     "metadata": {},
     "output_type": "execute_result"
    }
   ],
   "source": [
    "re.findall('\\w+@\\w+.com',e)"
   ]
  },
  {
   "cell_type": "code",
   "execution_count": 84,
   "id": "ea9387f4",
   "metadata": {},
   "outputs": [
    {
     "data": {
      "text/plain": [
       "['abcs@gmail.com']"
      ]
     },
     "execution_count": 84,
     "metadata": {},
     "output_type": "execute_result"
    }
   ],
   "source": [
    "re.findall('\\D+@\\w+.com',e)"
   ]
  },
  {
   "cell_type": "code",
   "execution_count": 87,
   "id": "995123eb",
   "metadata": {},
   "outputs": [
    {
     "data": {
      "text/plain": [
       "'This is my NLP based session ............. Sesssion number is 10 1 4 5 2 134 '"
      ]
     },
     "execution_count": 87,
     "metadata": {},
     "output_type": "execute_result"
    }
   ],
   "source": [
    "s"
   ]
  },
  {
   "cell_type": "code",
   "execution_count": 96,
   "id": "c08c4d99",
   "metadata": {},
   "outputs": [
    {
     "data": {
      "text/plain": [
       "['wants', 'to', 'hang', 'out', 'with', 'friends', 'SOON']"
      ]
     },
     "execution_count": 96,
     "metadata": {},
     "output_type": "execute_result"
    }
   ],
   "source": [
    "t = re.findall('[a-zA-Z]+',',wants to hang out with friends SOON!')\n",
    "t"
   ]
  },
  {
   "cell_type": "code",
   "execution_count": 97,
   "id": "4b27e807",
   "metadata": {},
   "outputs": [
    {
     "data": {
      "text/plain": [
       "'wants to hang out with friends SOON'"
      ]
     },
     "execution_count": 97,
     "metadata": {},
     "output_type": "execute_result"
    }
   ],
   "source": [
    "' '.join(t)"
   ]
  },
  {
   "cell_type": "code",
   "execution_count": 91,
   "id": "912801d3",
   "metadata": {},
   "outputs": [
    {
     "data": {
      "text/plain": [
       "[' ',\n",
       " ' ',\n",
       " ' ',\n",
       " ' ',\n",
       " ' ',\n",
       " ' ............. ',\n",
       " ' ',\n",
       " ' ',\n",
       " ' ',\n",
       " ' ',\n",
       " ' ',\n",
       " ' ',\n",
       " ' ',\n",
       " ' ',\n",
       " ' ']"
      ]
     },
     "execution_count": 91,
     "metadata": {},
     "output_type": "execute_result"
    }
   ],
   "source": [
    "re.findall('[^a-zA-Z0-9]+',s)"
   ]
  },
  {
   "cell_type": "markdown",
   "id": "d71520a6",
   "metadata": {},
   "source": [
    "### Expanding Contractions "
   ]
  },
  {
   "cell_type": "code",
   "execution_count": 99,
   "id": "2bb9eba4",
   "metadata": {},
   "outputs": [],
   "source": [
    "import contractions"
   ]
  },
  {
   "cell_type": "code",
   "execution_count": 103,
   "id": "838b12aa",
   "metadata": {},
   "outputs": [],
   "source": [
    "s = \"So sleepy again and it's not even that late. I fail once again shouldn't \""
   ]
  },
  {
   "cell_type": "code",
   "execution_count": 104,
   "id": "820d0822",
   "metadata": {},
   "outputs": [
    {
     "data": {
      "text/plain": [
       "'So sleepy again and it is not even that late. I fail once again should not '"
      ]
     },
     "execution_count": 104,
     "metadata": {},
     "output_type": "execute_result"
    }
   ],
   "source": [
    "contractions.fix(s)"
   ]
  },
  {
   "cell_type": "code",
   "execution_count": 105,
   "id": "d8ebda4b",
   "metadata": {},
   "outputs": [
    {
     "data": {
      "text/plain": [
       "[(\"I'm\", 'I am'),\n",
       " (\"I'm'a\", 'I am about to'),\n",
       " (\"I'm'o\", 'I am going to'),\n",
       " (\"I've\", 'I have'),\n",
       " (\"I'll\", 'I will'),\n",
       " (\"I'll've\", 'I will have'),\n",
       " (\"I'd\", 'I would'),\n",
       " (\"I'd've\", 'I would have'),\n",
       " ('Whatcha', 'What are you'),\n",
       " (\"amn't\", 'am not')]"
      ]
     },
     "execution_count": 105,
     "metadata": {},
     "output_type": "execute_result"
    }
   ],
   "source": [
    "list(contractions.contractions_dict.items())[:10]"
   ]
  },
  {
   "cell_type": "code",
   "execution_count": 106,
   "id": "a3121854",
   "metadata": {},
   "outputs": [
    {
     "data": {
      "text/plain": [
       "344"
      ]
     },
     "execution_count": 106,
     "metadata": {},
     "output_type": "execute_result"
    }
   ],
   "source": [
    "len(list(contractions.contractions_dict.items()))"
   ]
  },
  {
   "cell_type": "markdown",
   "id": "01b98971",
   "metadata": {},
   "source": [
    "## Stemming and Lemmatization"
   ]
  },
  {
   "cell_type": "code",
   "execution_count": 107,
   "id": "168eb3d3",
   "metadata": {},
   "outputs": [],
   "source": [
    "import nltk"
   ]
  },
  {
   "cell_type": "code",
   "execution_count": 108,
   "id": "75556b97",
   "metadata": {},
   "outputs": [],
   "source": [
    "from nltk.stem import PorterStemmer"
   ]
  },
  {
   "cell_type": "code",
   "execution_count": 109,
   "id": "5bb6fe46",
   "metadata": {},
   "outputs": [],
   "source": [
    "ps = PorterStemmer()"
   ]
  },
  {
   "cell_type": "code",
   "execution_count": 110,
   "id": "04b0ffc2",
   "metadata": {},
   "outputs": [
    {
     "data": {
      "text/plain": [
       "'jump'"
      ]
     },
     "execution_count": 110,
     "metadata": {},
     "output_type": "execute_result"
    }
   ],
   "source": [
    "ps.stem('jumping')"
   ]
  },
  {
   "cell_type": "code",
   "execution_count": 111,
   "id": "0005712d",
   "metadata": {},
   "outputs": [
    {
     "data": {
      "text/plain": [
       "'fli'"
      ]
     },
     "execution_count": 111,
     "metadata": {},
     "output_type": "execute_result"
    }
   ],
   "source": [
    "ps.stem('flying')"
   ]
  },
  {
   "cell_type": "code",
   "execution_count": 112,
   "id": "315b16ff",
   "metadata": {},
   "outputs": [
    {
     "data": {
      "text/plain": [
       "'monki'"
      ]
     },
     "execution_count": 112,
     "metadata": {},
     "output_type": "execute_result"
    }
   ],
   "source": [
    "ps.stem('monkies')"
   ]
  },
  {
   "cell_type": "code",
   "execution_count": 120,
   "id": "b1c422cb",
   "metadata": {},
   "outputs": [
    {
     "name": "stderr",
     "output_type": "stream",
     "text": [
      "[nltk_data] Downloading package omw-1.4 to\n",
      "[nltk_data]     C:\\Users\\Hp\\AppData\\Roaming\\nltk_data...\n"
     ]
    },
    {
     "data": {
      "text/plain": [
       "True"
      ]
     },
     "execution_count": 120,
     "metadata": {},
     "output_type": "execute_result"
    }
   ],
   "source": [
    "nltk.download('omw-1.4')"
   ]
  },
  {
   "cell_type": "code",
   "execution_count": 113,
   "id": "aaa0faa9",
   "metadata": {},
   "outputs": [],
   "source": [
    "from nltk.stem import WordNetLemmatizer\n",
    "lm = WordNetLemmatizer()"
   ]
  },
  {
   "cell_type": "code",
   "execution_count": 123,
   "id": "451470d9",
   "metadata": {},
   "outputs": [
    {
     "data": {
      "text/plain": [
       "('jumping', 'jumping', 'jump')"
      ]
     },
     "execution_count": 123,
     "metadata": {},
     "output_type": "execute_result"
    }
   ],
   "source": [
    "lm.lemmatize('jumping','n'), lm.lemmatize('jumping','a'), lm.lemmatize('jumping','v')"
   ]
  },
  {
   "cell_type": "code",
   "execution_count": 124,
   "id": "444cf746",
   "metadata": {},
   "outputs": [
    {
     "data": {
      "text/plain": [
       "('flying', 'flying', 'fly')"
      ]
     },
     "execution_count": 124,
     "metadata": {},
     "output_type": "execute_result"
    }
   ],
   "source": [
    "lm.lemmatize('flying','n'), lm.lemmatize('flying','a'), lm.lemmatize('flying','v')"
   ]
  },
  {
   "cell_type": "code",
   "execution_count": 129,
   "id": "ccbf3adb",
   "metadata": {},
   "outputs": [
    {
     "data": {
      "text/plain": [
       "'eat'"
      ]
     },
     "execution_count": 129,
     "metadata": {},
     "output_type": "execute_result"
    }
   ],
   "source": [
    "lm.lemmatize('ate','v')"
   ]
  },
  {
   "cell_type": "code",
   "execution_count": 131,
   "id": "fbc20858",
   "metadata": {},
   "outputs": [],
   "source": [
    "s = contractions.fix(s)"
   ]
  },
  {
   "cell_type": "code",
   "execution_count": 132,
   "id": "632ecb96",
   "metadata": {},
   "outputs": [
    {
     "data": {
      "text/plain": [
       "'So sleepy again and it is not even that late. I fail once again should not '"
      ]
     },
     "execution_count": 132,
     "metadata": {},
     "output_type": "execute_result"
    }
   ],
   "source": [
    "s"
   ]
  },
  {
   "cell_type": "code",
   "execution_count": 134,
   "id": "f467cb5a",
   "metadata": {},
   "outputs": [
    {
     "data": {
      "text/plain": [
       "['so',\n",
       " 'sleepi',\n",
       " 'again',\n",
       " 'and',\n",
       " 'it',\n",
       " 'is',\n",
       " 'not',\n",
       " 'even',\n",
       " 'that',\n",
       " 'late.',\n",
       " 'i',\n",
       " 'fail',\n",
       " 'onc',\n",
       " 'again',\n",
       " 'should',\n",
       " 'not',\n",
       " '']"
      ]
     },
     "execution_count": 134,
     "metadata": {},
     "output_type": "execute_result"
    }
   ],
   "source": [
    "t =[]\n",
    "for w in s.split(' '):\n",
    "    t.append(ps.stem(w))\n",
    "t"
   ]
  },
  {
   "cell_type": "code",
   "execution_count": 136,
   "id": "270e7450",
   "metadata": {},
   "outputs": [],
   "source": [
    "t1 = [ ps.stem(w)  for w in s.split(' ')]"
   ]
  },
  {
   "cell_type": "code",
   "execution_count": 137,
   "id": "e9e3d77f",
   "metadata": {},
   "outputs": [
    {
     "data": {
      "text/plain": [
       "['so',\n",
       " 'sleepi',\n",
       " 'again',\n",
       " 'and',\n",
       " 'it',\n",
       " 'is',\n",
       " 'not',\n",
       " 'even',\n",
       " 'that',\n",
       " 'late.',\n",
       " 'i',\n",
       " 'fail',\n",
       " 'onc',\n",
       " 'again',\n",
       " 'should',\n",
       " 'not',\n",
       " '']"
      ]
     },
     "execution_count": 137,
     "metadata": {},
     "output_type": "execute_result"
    }
   ],
   "source": [
    "t1"
   ]
  },
  {
   "cell_type": "markdown",
   "id": "a3b6e9c9",
   "metadata": {},
   "source": [
    "## Stopword Removal"
   ]
  },
  {
   "cell_type": "code",
   "execution_count": 139,
   "id": "87b40018",
   "metadata": {},
   "outputs": [
    {
     "name": "stderr",
     "output_type": "stream",
     "text": [
      "[nltk_data] Downloading package stopwords to\n",
      "[nltk_data]     C:\\Users\\Hp\\AppData\\Roaming\\nltk_data...\n",
      "[nltk_data]   Unzipping corpora\\stopwords.zip.\n"
     ]
    },
    {
     "data": {
      "text/plain": [
       "True"
      ]
     },
     "execution_count": 139,
     "metadata": {},
     "output_type": "execute_result"
    }
   ],
   "source": [
    "nltk.download('stopwords')"
   ]
  },
  {
   "cell_type": "code",
   "execution_count": 140,
   "id": "f8fb70f9",
   "metadata": {},
   "outputs": [],
   "source": [
    "stop_words = nltk.corpus.stopwords.words('english')"
   ]
  },
  {
   "cell_type": "code",
   "execution_count": 141,
   "id": "6725b31a",
   "metadata": {},
   "outputs": [
    {
     "data": {
      "text/plain": [
       "['i',\n",
       " 'me',\n",
       " 'my',\n",
       " 'myself',\n",
       " 'we',\n",
       " 'our',\n",
       " 'ours',\n",
       " 'ourselves',\n",
       " 'you',\n",
       " \"you're\",\n",
       " \"you've\",\n",
       " \"you'll\",\n",
       " \"you'd\",\n",
       " 'your',\n",
       " 'yours',\n",
       " 'yourself',\n",
       " 'yourselves',\n",
       " 'he',\n",
       " 'him',\n",
       " 'his',\n",
       " 'himself',\n",
       " 'she',\n",
       " \"she's\",\n",
       " 'her',\n",
       " 'hers',\n",
       " 'herself',\n",
       " 'it',\n",
       " \"it's\",\n",
       " 'its',\n",
       " 'itself',\n",
       " 'they',\n",
       " 'them',\n",
       " 'their',\n",
       " 'theirs',\n",
       " 'themselves',\n",
       " 'what',\n",
       " 'which',\n",
       " 'who',\n",
       " 'whom',\n",
       " 'this',\n",
       " 'that',\n",
       " \"that'll\",\n",
       " 'these',\n",
       " 'those',\n",
       " 'am',\n",
       " 'is',\n",
       " 'are',\n",
       " 'was',\n",
       " 'were',\n",
       " 'be',\n",
       " 'been',\n",
       " 'being',\n",
       " 'have',\n",
       " 'has',\n",
       " 'had',\n",
       " 'having',\n",
       " 'do',\n",
       " 'does',\n",
       " 'did',\n",
       " 'doing',\n",
       " 'a',\n",
       " 'an',\n",
       " 'the',\n",
       " 'and',\n",
       " 'but',\n",
       " 'if',\n",
       " 'or',\n",
       " 'because',\n",
       " 'as',\n",
       " 'until',\n",
       " 'while',\n",
       " 'of',\n",
       " 'at',\n",
       " 'by',\n",
       " 'for',\n",
       " 'with',\n",
       " 'about',\n",
       " 'against',\n",
       " 'between',\n",
       " 'into',\n",
       " 'through',\n",
       " 'during',\n",
       " 'before',\n",
       " 'after',\n",
       " 'above',\n",
       " 'below',\n",
       " 'to',\n",
       " 'from',\n",
       " 'up',\n",
       " 'down',\n",
       " 'in',\n",
       " 'out',\n",
       " 'on',\n",
       " 'off',\n",
       " 'over',\n",
       " 'under',\n",
       " 'again',\n",
       " 'further',\n",
       " 'then',\n",
       " 'once',\n",
       " 'here',\n",
       " 'there',\n",
       " 'when',\n",
       " 'where',\n",
       " 'why',\n",
       " 'how',\n",
       " 'all',\n",
       " 'any',\n",
       " 'both',\n",
       " 'each',\n",
       " 'few',\n",
       " 'more',\n",
       " 'most',\n",
       " 'other',\n",
       " 'some',\n",
       " 'such',\n",
       " 'no',\n",
       " 'nor',\n",
       " 'not',\n",
       " 'only',\n",
       " 'own',\n",
       " 'same',\n",
       " 'so',\n",
       " 'than',\n",
       " 'too',\n",
       " 'very',\n",
       " 's',\n",
       " 't',\n",
       " 'can',\n",
       " 'will',\n",
       " 'just',\n",
       " 'don',\n",
       " \"don't\",\n",
       " 'should',\n",
       " \"should've\",\n",
       " 'now',\n",
       " 'd',\n",
       " 'll',\n",
       " 'm',\n",
       " 'o',\n",
       " 're',\n",
       " 've',\n",
       " 'y',\n",
       " 'ain',\n",
       " 'aren',\n",
       " \"aren't\",\n",
       " 'couldn',\n",
       " \"couldn't\",\n",
       " 'didn',\n",
       " \"didn't\",\n",
       " 'doesn',\n",
       " \"doesn't\",\n",
       " 'hadn',\n",
       " \"hadn't\",\n",
       " 'hasn',\n",
       " \"hasn't\",\n",
       " 'haven',\n",
       " \"haven't\",\n",
       " 'isn',\n",
       " \"isn't\",\n",
       " 'ma',\n",
       " 'mightn',\n",
       " \"mightn't\",\n",
       " 'mustn',\n",
       " \"mustn't\",\n",
       " 'needn',\n",
       " \"needn't\",\n",
       " 'shan',\n",
       " \"shan't\",\n",
       " 'shouldn',\n",
       " \"shouldn't\",\n",
       " 'wasn',\n",
       " \"wasn't\",\n",
       " 'weren',\n",
       " \"weren't\",\n",
       " 'won',\n",
       " \"won't\",\n",
       " 'wouldn',\n",
       " \"wouldn't\"]"
      ]
     },
     "execution_count": 141,
     "metadata": {},
     "output_type": "execute_result"
    }
   ],
   "source": [
    "stop_words"
   ]
  },
  {
   "cell_type": "code",
   "execution_count": 142,
   "id": "fcdce39a",
   "metadata": {},
   "outputs": [
    {
     "data": {
      "text/plain": [
       "'So sleepy again and it is not even that late. I fail once again should not '"
      ]
     },
     "execution_count": 142,
     "metadata": {},
     "output_type": "execute_result"
    }
   ],
   "source": [
    "s"
   ]
  },
  {
   "cell_type": "code",
   "execution_count": 145,
   "id": "fb975a98",
   "metadata": {},
   "outputs": [],
   "source": [
    "text = [w for w in s.split(' ') if w not in stop_words]"
   ]
  },
  {
   "cell_type": "code",
   "execution_count": 146,
   "id": "583db378",
   "metadata": {},
   "outputs": [
    {
     "data": {
      "text/plain": [
       "['So', 'sleepy', 'even', 'late.', 'I', 'fail', '']"
      ]
     },
     "execution_count": 146,
     "metadata": {},
     "output_type": "execute_result"
    }
   ],
   "source": [
    "text"
   ]
  },
  {
   "cell_type": "code",
   "execution_count": null,
   "id": "61a7747d",
   "metadata": {},
   "outputs": [],
   "source": []
  }
 ],
 "metadata": {
  "kernelspec": {
   "display_name": "Python 3 (ipykernel)",
   "language": "python",
   "name": "python3"
  },
  "language_info": {
   "codemirror_mode": {
    "name": "ipython",
    "version": 3
   },
   "file_extension": ".py",
   "mimetype": "text/x-python",
   "name": "python",
   "nbconvert_exporter": "python",
   "pygments_lexer": "ipython3",
   "version": "3.10.9"
  }
 },
 "nbformat": 4,
 "nbformat_minor": 5
}
