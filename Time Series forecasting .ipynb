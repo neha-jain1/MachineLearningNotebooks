{
 "cells": [
  {
   "cell_type": "code",
   "execution_count": 1,
   "id": "5b9f0459",
   "metadata": {},
   "outputs": [],
   "source": [
    "import pandas as pd"
   ]
  },
  {
   "cell_type": "code",
   "execution_count": 7,
   "id": "7d067465",
   "metadata": {},
   "outputs": [],
   "source": [
    "import matplotlib.pyplot as pyplot"
   ]
  },
  {
   "cell_type": "code",
   "execution_count": 33,
   "id": "65c3fca6",
   "metadata": {},
   "outputs": [],
   "source": [
    "import seaborn as sns"
   ]
  },
  {
   "cell_type": "code",
   "execution_count": 56,
   "id": "3eb74a4d",
   "metadata": {},
   "outputs": [],
   "source": [
    "df= pd.read_csv('carsalesdata.csv')"
   ]
  },
  {
   "cell_type": "code",
   "execution_count": null,
   "id": "d4c9bdbb",
   "metadata": {},
   "outputs": [],
   "source": []
  },
  {
   "cell_type": "code",
   "execution_count": 57,
   "id": "395597ad",
   "metadata": {},
   "outputs": [
    {
     "data": {
      "text/plain": [
       "(144, 2)"
      ]
     },
     "execution_count": 57,
     "metadata": {},
     "output_type": "execute_result"
    }
   ],
   "source": [
    "df.shape"
   ]
  },
  {
   "cell_type": "code",
   "execution_count": 58,
   "id": "e2d0ba59",
   "metadata": {},
   "outputs": [
    {
     "data": {
      "text/html": [
       "<div>\n",
       "<style scoped>\n",
       "    .dataframe tbody tr th:only-of-type {\n",
       "        vertical-align: middle;\n",
       "    }\n",
       "\n",
       "    .dataframe tbody tr th {\n",
       "        vertical-align: top;\n",
       "    }\n",
       "\n",
       "    .dataframe thead th {\n",
       "        text-align: right;\n",
       "    }\n",
       "</style>\n",
       "<table border=\"1\" class=\"dataframe\">\n",
       "  <thead>\n",
       "    <tr style=\"text-align: right;\">\n",
       "      <th></th>\n",
       "      <th>Month</th>\n",
       "      <th>Passengers</th>\n",
       "    </tr>\n",
       "  </thead>\n",
       "  <tbody>\n",
       "    <tr>\n",
       "      <th>0</th>\n",
       "      <td>1949-01</td>\n",
       "      <td>112</td>\n",
       "    </tr>\n",
       "    <tr>\n",
       "      <th>1</th>\n",
       "      <td>1949-02</td>\n",
       "      <td>118</td>\n",
       "    </tr>\n",
       "    <tr>\n",
       "      <th>2</th>\n",
       "      <td>1949-03</td>\n",
       "      <td>132</td>\n",
       "    </tr>\n",
       "    <tr>\n",
       "      <th>3</th>\n",
       "      <td>1949-04</td>\n",
       "      <td>129</td>\n",
       "    </tr>\n",
       "    <tr>\n",
       "      <th>4</th>\n",
       "      <td>1949-05</td>\n",
       "      <td>121</td>\n",
       "    </tr>\n",
       "  </tbody>\n",
       "</table>\n",
       "</div>"
      ],
      "text/plain": [
       "     Month  Passengers\n",
       "0  1949-01         112\n",
       "1  1949-02         118\n",
       "2  1949-03         132\n",
       "3  1949-04         129\n",
       "4  1949-05         121"
      ]
     },
     "execution_count": 58,
     "metadata": {},
     "output_type": "execute_result"
    }
   ],
   "source": [
    "df.head()"
   ]
  },
  {
   "cell_type": "code",
   "execution_count": 28,
   "id": "1696f1e1",
   "metadata": {},
   "outputs": [
    {
     "name": "stdout",
     "output_type": "stream",
     "text": [
      "<class 'pandas.core.frame.DataFrame'>\n",
      "RangeIndex: 144 entries, 0 to 143\n",
      "Data columns (total 2 columns):\n",
      " #   Column      Non-Null Count  Dtype \n",
      "---  ------      --------------  ----- \n",
      " 0   Month       144 non-null    object\n",
      " 1   Passengers  144 non-null    int64 \n",
      "dtypes: int64(1), object(1)\n",
      "memory usage: 2.4+ KB\n"
     ]
    }
   ],
   "source": [
    "df.info()"
   ]
  },
  {
   "cell_type": "code",
   "execution_count": 20,
   "id": "5459b946",
   "metadata": {},
   "outputs": [],
   "source": [
    "from statsmodels.tsa.seasonal import seasonal_decompose"
   ]
  },
  {
   "cell_type": "code",
   "execution_count": 22,
   "id": "fec12fc7",
   "metadata": {},
   "outputs": [],
   "source": [
    "import datetime"
   ]
  },
  {
   "cell_type": "code",
   "execution_count": 43,
   "id": "f9461761",
   "metadata": {},
   "outputs": [],
   "source": [
    "df['Month'] = pd.to_datetime(df['Month']).dt.date"
   ]
  },
  {
   "cell_type": "code",
   "execution_count": 44,
   "id": "a73a5add",
   "metadata": {},
   "outputs": [
    {
     "data": {
      "text/html": [
       "<div>\n",
       "<style scoped>\n",
       "    .dataframe tbody tr th:only-of-type {\n",
       "        vertical-align: middle;\n",
       "    }\n",
       "\n",
       "    .dataframe tbody tr th {\n",
       "        vertical-align: top;\n",
       "    }\n",
       "\n",
       "    .dataframe thead th {\n",
       "        text-align: right;\n",
       "    }\n",
       "</style>\n",
       "<table border=\"1\" class=\"dataframe\">\n",
       "  <thead>\n",
       "    <tr style=\"text-align: right;\">\n",
       "      <th></th>\n",
       "      <th>Month</th>\n",
       "      <th>Passengers</th>\n",
       "    </tr>\n",
       "  </thead>\n",
       "  <tbody>\n",
       "    <tr>\n",
       "      <th>0</th>\n",
       "      <td>1949-01-01</td>\n",
       "      <td>112</td>\n",
       "    </tr>\n",
       "    <tr>\n",
       "      <th>1</th>\n",
       "      <td>1949-02-01</td>\n",
       "      <td>118</td>\n",
       "    </tr>\n",
       "    <tr>\n",
       "      <th>2</th>\n",
       "      <td>1949-03-01</td>\n",
       "      <td>132</td>\n",
       "    </tr>\n",
       "    <tr>\n",
       "      <th>3</th>\n",
       "      <td>1949-04-01</td>\n",
       "      <td>129</td>\n",
       "    </tr>\n",
       "    <tr>\n",
       "      <th>4</th>\n",
       "      <td>1949-05-01</td>\n",
       "      <td>121</td>\n",
       "    </tr>\n",
       "  </tbody>\n",
       "</table>\n",
       "</div>"
      ],
      "text/plain": [
       "        Month  Passengers\n",
       "0  1949-01-01         112\n",
       "1  1949-02-01         118\n",
       "2  1949-03-01         132\n",
       "3  1949-04-01         129\n",
       "4  1949-05-01         121"
      ]
     },
     "execution_count": 44,
     "metadata": {},
     "output_type": "execute_result"
    }
   ],
   "source": [
    "df.head()"
   ]
  },
  {
   "cell_type": "code",
   "execution_count": 45,
   "id": "00f716fb",
   "metadata": {},
   "outputs": [
    {
     "name": "stdout",
     "output_type": "stream",
     "text": [
      "<class 'pandas.core.frame.DataFrame'>\n",
      "RangeIndex: 144 entries, 0 to 143\n",
      "Data columns (total 2 columns):\n",
      " #   Column      Non-Null Count  Dtype \n",
      "---  ------      --------------  ----- \n",
      " 0   Month       144 non-null    object\n",
      " 1   Passengers  144 non-null    int64 \n",
      "dtypes: int64(1), object(1)\n",
      "memory usage: 2.4+ KB\n"
     ]
    }
   ],
   "source": [
    "df.info()"
   ]
  },
  {
   "cell_type": "code",
   "execution_count": 46,
   "id": "9cf8f709",
   "metadata": {},
   "outputs": [
    {
     "data": {
      "text/plain": [
       "<Axes: xlabel='Month', ylabel='Passengers'>"
      ]
     },
     "execution_count": 46,
     "metadata": {},
     "output_type": "execute_result"
    },
    {
     "data": {
      "image/png": "[encoded data removed]",
      "text/plain": [
       "<Figure size 640x480 with 1 Axes>"
      ]
     },
     "metadata": {},
     "output_type": "display_data"
    }
   ],
   "source": [
    "sns.lineplot(x=df['Month'],y=df['Passengers'])"
   ]
  },
  {
   "cell_type": "code",
   "execution_count": 74,
   "id": "328d00d9",
   "metadata": {},
   "outputs": [
    {
     "data": {
      "text/plain": [
       "<Axes: xlabel='Month', ylabel='Passengers'>"
      ]
     },
     "execution_count": 74,
     "metadata": {},
     "output_type": "execute_result"
    },
    {
     "data": {
      "image/png": "[encoded data removed]",
      "text/plain": [
       "<Figure size 640x480 with 1 Axes>"
      ]
     },
     "metadata": {},
     "output_type": "display_data"
    }
   ],
   "source": [
    "sns.lineplot(x='Month',y='Passengers', data=df[df['Month'].\\\n",
    "                                                isin(['1956-01','1956-02','1956-03','1956-04','1956-05','1956-06',\\\n",
    "                                                      '1956-07','1956-09','1956-10','1956-11','1956-12'])])"
   ]
  },
  {
   "cell_type": "code",
   "execution_count": 75,
   "id": "c7d99df1",
   "metadata": {},
   "outputs": [
    {
     "data": {
      "text/plain": [
       "<Axes: xlabel='Month', ylabel='Passengers'>"
      ]
     },
     "execution_count": 75,
     "metadata": {},
     "output_type": "execute_result"
    },
    {
     "data": {
      "image/png": "[encoded data removed]",
      "text/plain": [
       "<Figure size 640x480 with 1 Axes>"
      ]
     },
     "metadata": {},
     "output_type": "display_data"
    }
   ],
   "source": [
    "sns.lineplot(x='Month',y='Passengers', data=df[df['Month'].\\\n",
    "                                                isin(['1957-01','1957-02','1957-03','1957-04','1957-05','1957-06',\\\n",
    "                                                      '1957-07','1957-09','1957-10','1957-11','1957-12'])])"
   ]
  },
  {
   "cell_type": "code",
   "execution_count": 71,
   "id": "7256c8b8",
   "metadata": {
    "scrolled": true
   },
   "outputs": [
    {
     "data": {
      "text/html": [
       "<div>\n",
       "<style scoped>\n",
       "    .dataframe tbody tr th:only-of-type {\n",
       "        vertical-align: middle;\n",
       "    }\n",
       "\n",
       "    .dataframe tbody tr th {\n",
       "        vertical-align: top;\n",
       "    }\n",
       "\n",
       "    .dataframe thead th {\n",
       "        text-align: right;\n",
       "    }\n",
       "</style>\n",
       "<table border=\"1\" class=\"dataframe\">\n",
       "  <thead>\n",
       "    <tr style=\"text-align: right;\">\n",
       "      <th></th>\n",
       "      <th>Month</th>\n",
       "      <th>Passengers</th>\n",
       "    </tr>\n",
       "  </thead>\n",
       "  <tbody>\n",
       "    <tr>\n",
       "      <th>84</th>\n",
       "      <td>1956-01</td>\n",
       "      <td>284</td>\n",
       "    </tr>\n",
       "    <tr>\n",
       "      <th>85</th>\n",
       "      <td>1956-02</td>\n",
       "      <td>277</td>\n",
       "    </tr>\n",
       "    <tr>\n",
       "      <th>86</th>\n",
       "      <td>1956-03</td>\n",
       "      <td>317</td>\n",
       "    </tr>\n",
       "    <tr>\n",
       "      <th>87</th>\n",
       "      <td>1956-04</td>\n",
       "      <td>313</td>\n",
       "    </tr>\n",
       "    <tr>\n",
       "      <th>88</th>\n",
       "      <td>1956-05</td>\n",
       "      <td>318</td>\n",
       "    </tr>\n",
       "    <tr>\n",
       "      <th>89</th>\n",
       "      <td>1956-06</td>\n",
       "      <td>374</td>\n",
       "    </tr>\n",
       "    <tr>\n",
       "      <th>90</th>\n",
       "      <td>1956-07</td>\n",
       "      <td>413</td>\n",
       "    </tr>\n",
       "    <tr>\n",
       "      <th>92</th>\n",
       "      <td>1956-09</td>\n",
       "      <td>355</td>\n",
       "    </tr>\n",
       "    <tr>\n",
       "      <th>93</th>\n",
       "      <td>1956-10</td>\n",
       "      <td>306</td>\n",
       "    </tr>\n",
       "    <tr>\n",
       "      <th>94</th>\n",
       "      <td>1956-11</td>\n",
       "      <td>271</td>\n",
       "    </tr>\n",
       "    <tr>\n",
       "      <th>95</th>\n",
       "      <td>1956-12</td>\n",
       "      <td>306</td>\n",
       "    </tr>\n",
       "  </tbody>\n",
       "</table>\n",
       "</div>"
      ],
      "text/plain": [
       "      Month  Passengers\n",
       "84  1956-01         284\n",
       "85  1956-02         277\n",
       "86  1956-03         317\n",
       "87  1956-04         313\n",
       "88  1956-05         318\n",
       "89  1956-06         374\n",
       "90  1956-07         413\n",
       "92  1956-09         355\n",
       "93  1956-10         306\n",
       "94  1956-11         271\n",
       "95  1956-12         306"
      ]
     },
     "execution_count": 71,
     "metadata": {},
     "output_type": "execute_result"
    }
   ],
   "source": [
    "df[df['Month'].isin(['1956-01','1956-02','1956-03','1956-04','1956-05','1956-06','1956-07','1956-09','1956-10','1956-11','1956-12'])]"
   ]
  },
  {
   "cell_type": "code",
   "execution_count": 63,
   "id": "f6d63732",
   "metadata": {},
   "outputs": [
    {
     "name": "stdout",
     "output_type": "stream",
     "text": [
      "<class 'pandas.core.frame.DataFrame'>\n",
      "RangeIndex: 144 entries, 0 to 143\n",
      "Data columns (total 2 columns):\n",
      " #   Column      Non-Null Count  Dtype \n",
      "---  ------      --------------  ----- \n",
      " 0   Month       144 non-null    object\n",
      " 1   Passengers  144 non-null    int64 \n",
      "dtypes: int64(1), object(1)\n",
      "memory usage: 2.4+ KB\n"
     ]
    }
   ],
   "source": [
    "df.info()"
   ]
  },
  {
   "cell_type": "code",
   "execution_count": null,
   "id": "ab67417d",
   "metadata": {},
   "outputs": [],
   "source": []
  },
  {
   "cell_type": "code",
   "execution_count": null,
   "id": "6c67f75a",
   "metadata": {},
   "outputs": [],
   "source": []
  },
  {
   "cell_type": "code",
   "execution_count": 47,
   "id": "e49a6761",
   "metadata": {
    "scrolled": true
   },
   "outputs": [
    {
     "data": {
      "text/plain": [
       "Month         0\n",
       "Passengers    0\n",
       "dtype: int64"
      ]
     },
     "execution_count": 47,
     "metadata": {},
     "output_type": "execute_result"
    }
   ],
   "source": [
    "df.isnull().sum()"
   ]
  },
  {
   "cell_type": "code",
   "execution_count": null,
   "id": "89841329",
   "metadata": {},
   "outputs": [],
   "source": [
    "df.fillna()"
   ]
  },
  {
   "cell_type": "code",
   "execution_count": 36,
   "id": "455bad5a",
   "metadata": {},
   "outputs": [
    {
     "data": {
      "text/plain": [
       "(144, 2)"
      ]
     },
     "execution_count": 36,
     "metadata": {},
     "output_type": "execute_result"
    }
   ],
   "source": [
    "df.shape"
   ]
  },
  {
   "cell_type": "code",
   "execution_count": 37,
   "id": "6ed19db7",
   "metadata": {},
   "outputs": [
    {
     "data": {
      "text/plain": [
       "112"
      ]
     },
     "execution_count": 37,
     "metadata": {},
     "output_type": "execute_result"
    }
   ],
   "source": [
    "14*8"
   ]
  },
  {
   "cell_type": "code",
   "execution_count": 48,
   "id": "0ffea4ac",
   "metadata": {},
   "outputs": [],
   "source": [
    "train_x = df.iloc[:112,0]\n",
    "train_y = df.iloc[:112,1]\n",
    "test_x = df.iloc[112:,0]\n",
    "test_x = df.iloc[112:,1]"
   ]
  },
  {
   "cell_type": "code",
   "execution_count": 59,
   "id": "41f5c722",
   "metadata": {},
   "outputs": [],
   "source": [
    "traindata = df.iloc[:112,:]"
   ]
  },
  {
   "cell_type": "code",
   "execution_count": 60,
   "id": "ce7be9f6",
   "metadata": {},
   "outputs": [
    {
     "data": {
      "text/html": [
       "<div>\n",
       "<style scoped>\n",
       "    .dataframe tbody tr th:only-of-type {\n",
       "        vertical-align: middle;\n",
       "    }\n",
       "\n",
       "    .dataframe tbody tr th {\n",
       "        vertical-align: top;\n",
       "    }\n",
       "\n",
       "    .dataframe thead th {\n",
       "        text-align: right;\n",
       "    }\n",
       "</style>\n",
       "<table border=\"1\" class=\"dataframe\">\n",
       "  <thead>\n",
       "    <tr style=\"text-align: right;\">\n",
       "      <th></th>\n",
       "      <th>Month</th>\n",
       "      <th>Passengers</th>\n",
       "    </tr>\n",
       "  </thead>\n",
       "  <tbody>\n",
       "    <tr>\n",
       "      <th>139</th>\n",
       "      <td>1960-08</td>\n",
       "      <td>606</td>\n",
       "    </tr>\n",
       "    <tr>\n",
       "      <th>140</th>\n",
       "      <td>1960-09</td>\n",
       "      <td>508</td>\n",
       "    </tr>\n",
       "    <tr>\n",
       "      <th>141</th>\n",
       "      <td>1960-10</td>\n",
       "      <td>461</td>\n",
       "    </tr>\n",
       "    <tr>\n",
       "      <th>142</th>\n",
       "      <td>1960-11</td>\n",
       "      <td>390</td>\n",
       "    </tr>\n",
       "    <tr>\n",
       "      <th>143</th>\n",
       "      <td>1960-12</td>\n",
       "      <td>432</td>\n",
       "    </tr>\n",
       "  </tbody>\n",
       "</table>\n",
       "</div>"
      ],
      "text/plain": [
       "       Month  Passengers\n",
       "139  1960-08         606\n",
       "140  1960-09         508\n",
       "141  1960-10         461\n",
       "142  1960-11         390\n",
       "143  1960-12         432"
      ]
     },
     "execution_count": 60,
     "metadata": {},
     "output_type": "execute_result"
    }
   ],
   "source": [
    "df.tail()"
   ]
  },
  {
   "cell_type": "code",
   "execution_count": null,
   "id": "eb17e8e7",
   "metadata": {},
   "outputs": [],
   "source": []
  },
  {
   "cell_type": "code",
   "execution_count": null,
   "id": "da8bac86",
   "metadata": {},
   "outputs": [],
   "source": []
  },
  {
   "cell_type": "code",
   "execution_count": 78,
   "id": "8815ac32",
   "metadata": {},
   "outputs": [],
   "source": [
    "df = pd.read_csv('carsales.csv')"
   ]
  },
  {
   "cell_type": "code",
   "execution_count": 79,
   "id": "75e7b3b2",
   "metadata": {},
   "outputs": [
    {
     "data": {
      "text/html": [
       "<div>\n",
       "<style scoped>\n",
       "    .dataframe tbody tr th:only-of-type {\n",
       "        vertical-align: middle;\n",
       "    }\n",
       "\n",
       "    .dataframe tbody tr th {\n",
       "        vertical-align: top;\n",
       "    }\n",
       "\n",
       "    .dataframe thead th {\n",
       "        text-align: right;\n",
       "    }\n",
       "</style>\n",
       "<table border=\"1\" class=\"dataframe\">\n",
       "  <thead>\n",
       "    <tr style=\"text-align: right;\">\n",
       "      <th></th>\n",
       "      <th>Month</th>\n",
       "      <th>Sales</th>\n",
       "    </tr>\n",
       "  </thead>\n",
       "  <tbody>\n",
       "    <tr>\n",
       "      <th>0</th>\n",
       "      <td>1960-01</td>\n",
       "      <td>6550</td>\n",
       "    </tr>\n",
       "    <tr>\n",
       "      <th>1</th>\n",
       "      <td>1960-02</td>\n",
       "      <td>8728</td>\n",
       "    </tr>\n",
       "    <tr>\n",
       "      <th>2</th>\n",
       "      <td>1960-03</td>\n",
       "      <td>12026</td>\n",
       "    </tr>\n",
       "    <tr>\n",
       "      <th>3</th>\n",
       "      <td>1960-04</td>\n",
       "      <td>14395</td>\n",
       "    </tr>\n",
       "    <tr>\n",
       "      <th>4</th>\n",
       "      <td>1960-05</td>\n",
       "      <td>14587</td>\n",
       "    </tr>\n",
       "  </tbody>\n",
       "</table>\n",
       "</div>"
      ],
      "text/plain": [
       "     Month  Sales\n",
       "0  1960-01   6550\n",
       "1  1960-02   8728\n",
       "2  1960-03  12026\n",
       "3  1960-04  14395\n",
       "4  1960-05  14587"
      ]
     },
     "execution_count": 79,
     "metadata": {},
     "output_type": "execute_result"
    }
   ],
   "source": [
    "df.head()"
   ]
  },
  {
   "cell_type": "code",
   "execution_count": 94,
   "id": "d947d8b4",
   "metadata": {},
   "outputs": [],
   "source": [
    "import prophet"
   ]
  },
  {
   "cell_type": "code",
   "execution_count": 96,
   "id": "a41a37ef",
   "metadata": {},
   "outputs": [
    {
     "data": {
      "text/plain": [
       "<Axes: xlabel='Month', ylabel='Sales'>"
      ]
     },
     "execution_count": 96,
     "metadata": {},
     "output_type": "execute_result"
    },
    {
     "data": {
      "image/png": "[encoded data removed]",
      "text/plain": [
       "<Figure size 1200x500 with 1 Axes>"
      ]
     },
     "metadata": {},
     "output_type": "display_data"
    }
   ],
   "source": [
    "pyplot.figure(figsize=(12,5))\n",
    "sns.lineplot(x=df['Month'],y=df['Sales'])"
   ]
  },
  {
   "cell_type": "code",
   "execution_count": 97,
   "id": "78420b19",
   "metadata": {},
   "outputs": [],
   "source": [
    "df['Date']= pd.to_datetime(df['Month'])"
   ]
  },
  {
   "cell_type": "code",
   "execution_count": 98,
   "id": "e2d9fe8b",
   "metadata": {},
   "outputs": [
    {
     "data": {
      "text/html": [
       "<div>\n",
       "<style scoped>\n",
       "    .dataframe tbody tr th:only-of-type {\n",
       "        vertical-align: middle;\n",
       "    }\n",
       "\n",
       "    .dataframe tbody tr th {\n",
       "        vertical-align: top;\n",
       "    }\n",
       "\n",
       "    .dataframe thead th {\n",
       "        text-align: right;\n",
       "    }\n",
       "</style>\n",
       "<table border=\"1\" class=\"dataframe\">\n",
       "  <thead>\n",
       "    <tr style=\"text-align: right;\">\n",
       "      <th></th>\n",
       "      <th>Month</th>\n",
       "      <th>Sales</th>\n",
       "      <th>Date</th>\n",
       "    </tr>\n",
       "  </thead>\n",
       "  <tbody>\n",
       "    <tr>\n",
       "      <th>0</th>\n",
       "      <td>1960-01</td>\n",
       "      <td>6550</td>\n",
       "      <td>1960-01-01</td>\n",
       "    </tr>\n",
       "    <tr>\n",
       "      <th>1</th>\n",
       "      <td>1960-02</td>\n",
       "      <td>8728</td>\n",
       "      <td>1960-02-01</td>\n",
       "    </tr>\n",
       "    <tr>\n",
       "      <th>2</th>\n",
       "      <td>1960-03</td>\n",
       "      <td>12026</td>\n",
       "      <td>1960-03-01</td>\n",
       "    </tr>\n",
       "    <tr>\n",
       "      <th>3</th>\n",
       "      <td>1960-04</td>\n",
       "      <td>14395</td>\n",
       "      <td>1960-04-01</td>\n",
       "    </tr>\n",
       "    <tr>\n",
       "      <th>4</th>\n",
       "      <td>1960-05</td>\n",
       "      <td>14587</td>\n",
       "      <td>1960-05-01</td>\n",
       "    </tr>\n",
       "  </tbody>\n",
       "</table>\n",
       "</div>"
      ],
      "text/plain": [
       "     Month  Sales       Date\n",
       "0  1960-01   6550 1960-01-01\n",
       "1  1960-02   8728 1960-02-01\n",
       "2  1960-03  12026 1960-03-01\n",
       "3  1960-04  14395 1960-04-01\n",
       "4  1960-05  14587 1960-05-01"
      ]
     },
     "execution_count": 98,
     "metadata": {},
     "output_type": "execute_result"
    }
   ],
   "source": [
    "df.head()"
   ]
  },
  {
   "cell_type": "code",
   "execution_count": 99,
   "id": "738d4d86",
   "metadata": {},
   "outputs": [
    {
     "name": "stdout",
     "output_type": "stream",
     "text": [
      "<class 'pandas.core.frame.DataFrame'>\n",
      "RangeIndex: 108 entries, 0 to 107\n",
      "Data columns (total 3 columns):\n",
      " #   Column  Non-Null Count  Dtype         \n",
      "---  ------  --------------  -----         \n",
      " 0   Month   108 non-null    object        \n",
      " 1   Sales   108 non-null    int64         \n",
      " 2   Date    108 non-null    datetime64[ns]\n",
      "dtypes: datetime64[ns](1), int64(1), object(1)\n",
      "memory usage: 2.7+ KB\n"
     ]
    }
   ],
   "source": [
    "df.info()"
   ]
  },
  {
   "cell_type": "code",
   "execution_count": 104,
   "id": "3d66cb07",
   "metadata": {},
   "outputs": [],
   "source": [
    "df['Year'] = df['Date'].dt.year\n",
    "df['Month'] = df['Date'].dt.month"
   ]
  },
  {
   "cell_type": "code",
   "execution_count": 105,
   "id": "1fb78094",
   "metadata": {},
   "outputs": [
    {
     "data": {
      "text/html": [
       "<div>\n",
       "<style scoped>\n",
       "    .dataframe tbody tr th:only-of-type {\n",
       "        vertical-align: middle;\n",
       "    }\n",
       "\n",
       "    .dataframe tbody tr th {\n",
       "        vertical-align: top;\n",
       "    }\n",
       "\n",
       "    .dataframe thead th {\n",
       "        text-align: right;\n",
       "    }\n",
       "</style>\n",
       "<table border=\"1\" class=\"dataframe\">\n",
       "  <thead>\n",
       "    <tr style=\"text-align: right;\">\n",
       "      <th></th>\n",
       "      <th>Month</th>\n",
       "      <th>Sales</th>\n",
       "      <th>Date</th>\n",
       "      <th>Year</th>\n",
       "    </tr>\n",
       "  </thead>\n",
       "  <tbody>\n",
       "    <tr>\n",
       "      <th>0</th>\n",
       "      <td>1</td>\n",
       "      <td>6550</td>\n",
       "      <td>1960-01-01</td>\n",
       "      <td>1960</td>\n",
       "    </tr>\n",
       "    <tr>\n",
       "      <th>1</th>\n",
       "      <td>2</td>\n",
       "      <td>8728</td>\n",
       "      <td>1960-02-01</td>\n",
       "      <td>1960</td>\n",
       "    </tr>\n",
       "    <tr>\n",
       "      <th>2</th>\n",
       "      <td>3</td>\n",
       "      <td>12026</td>\n",
       "      <td>1960-03-01</td>\n",
       "      <td>1960</td>\n",
       "    </tr>\n",
       "    <tr>\n",
       "      <th>3</th>\n",
       "      <td>4</td>\n",
       "      <td>14395</td>\n",
       "      <td>1960-04-01</td>\n",
       "      <td>1960</td>\n",
       "    </tr>\n",
       "    <tr>\n",
       "      <th>4</th>\n",
       "      <td>5</td>\n",
       "      <td>14587</td>\n",
       "      <td>1960-05-01</td>\n",
       "      <td>1960</td>\n",
       "    </tr>\n",
       "  </tbody>\n",
       "</table>\n",
       "</div>"
      ],
      "text/plain": [
       "   Month  Sales       Date  Year\n",
       "0      1   6550 1960-01-01  1960\n",
       "1      2   8728 1960-02-01  1960\n",
       "2      3  12026 1960-03-01  1960\n",
       "3      4  14395 1960-04-01  1960\n",
       "4      5  14587 1960-05-01  1960"
      ]
     },
     "execution_count": 105,
     "metadata": {},
     "output_type": "execute_result"
    }
   ],
   "source": [
    "df.head()"
   ]
  },
  {
   "cell_type": "code",
   "execution_count": 107,
   "id": "7fb9c755",
   "metadata": {},
   "outputs": [],
   "source": [
    "model = prophet.Prophet()"
   ]
  },
  {
   "cell_type": "code",
   "execution_count": 108,
   "id": "691aa3d9",
   "metadata": {},
   "outputs": [],
   "source": [
    "data = df[['Date','Sales']]"
   ]
  },
  {
   "cell_type": "code",
   "execution_count": 109,
   "id": "8a5e6e9f",
   "metadata": {},
   "outputs": [
    {
     "data": {
      "text/html": [
       "<div>\n",
       "<style scoped>\n",
       "    .dataframe tbody tr th:only-of-type {\n",
       "        vertical-align: middle;\n",
       "    }\n",
       "\n",
       "    .dataframe tbody tr th {\n",
       "        vertical-align: top;\n",
       "    }\n",
       "\n",
       "    .dataframe thead th {\n",
       "        text-align: right;\n",
       "    }\n",
       "</style>\n",
       "<table border=\"1\" class=\"dataframe\">\n",
       "  <thead>\n",
       "    <tr style=\"text-align: right;\">\n",
       "      <th></th>\n",
       "      <th>Date</th>\n",
       "      <th>Sales</th>\n",
       "    </tr>\n",
       "  </thead>\n",
       "  <tbody>\n",
       "    <tr>\n",
       "      <th>0</th>\n",
       "      <td>1960-01-01</td>\n",
       "      <td>6550</td>\n",
       "    </tr>\n",
       "    <tr>\n",
       "      <th>1</th>\n",
       "      <td>1960-02-01</td>\n",
       "      <td>8728</td>\n",
       "    </tr>\n",
       "    <tr>\n",
       "      <th>2</th>\n",
       "      <td>1960-03-01</td>\n",
       "      <td>12026</td>\n",
       "    </tr>\n",
       "    <tr>\n",
       "      <th>3</th>\n",
       "      <td>1960-04-01</td>\n",
       "      <td>14395</td>\n",
       "    </tr>\n",
       "    <tr>\n",
       "      <th>4</th>\n",
       "      <td>1960-05-01</td>\n",
       "      <td>14587</td>\n",
       "    </tr>\n",
       "  </tbody>\n",
       "</table>\n",
       "</div>"
      ],
      "text/plain": [
       "        Date  Sales\n",
       "0 1960-01-01   6550\n",
       "1 1960-02-01   8728\n",
       "2 1960-03-01  12026\n",
       "3 1960-04-01  14395\n",
       "4 1960-05-01  14587"
      ]
     },
     "execution_count": 109,
     "metadata": {},
     "output_type": "execute_result"
    }
   ],
   "source": [
    "data.head()"
   ]
  },
  {
   "cell_type": "code",
   "execution_count": 110,
   "id": "8613e27a",
   "metadata": {},
   "outputs": [
    {
     "data": {
      "text/plain": [
       "(108, 4)"
      ]
     },
     "execution_count": 110,
     "metadata": {},
     "output_type": "execute_result"
    }
   ],
   "source": [
    "df.shape"
   ]
  },
  {
   "cell_type": "code",
   "execution_count": 113,
   "id": "753932f3",
   "metadata": {},
   "outputs": [],
   "source": [
    "traindata= data.iloc[:90]"
   ]
  },
  {
   "cell_type": "code",
   "execution_count": 114,
   "id": "b124f56e",
   "metadata": {},
   "outputs": [
    {
     "data": {
      "text/html": [
       "<div>\n",
       "<style scoped>\n",
       "    .dataframe tbody tr th:only-of-type {\n",
       "        vertical-align: middle;\n",
       "    }\n",
       "\n",
       "    .dataframe tbody tr th {\n",
       "        vertical-align: top;\n",
       "    }\n",
       "\n",
       "    .dataframe thead th {\n",
       "        text-align: right;\n",
       "    }\n",
       "</style>\n",
       "<table border=\"1\" class=\"dataframe\">\n",
       "  <thead>\n",
       "    <tr style=\"text-align: right;\">\n",
       "      <th></th>\n",
       "      <th>Date</th>\n",
       "      <th>Sales</th>\n",
       "    </tr>\n",
       "  </thead>\n",
       "  <tbody>\n",
       "    <tr>\n",
       "      <th>0</th>\n",
       "      <td>1960-01-01</td>\n",
       "      <td>6550</td>\n",
       "    </tr>\n",
       "    <tr>\n",
       "      <th>1</th>\n",
       "      <td>1960-02-01</td>\n",
       "      <td>8728</td>\n",
       "    </tr>\n",
       "    <tr>\n",
       "      <th>2</th>\n",
       "      <td>1960-03-01</td>\n",
       "      <td>12026</td>\n",
       "    </tr>\n",
       "    <tr>\n",
       "      <th>3</th>\n",
       "      <td>1960-04-01</td>\n",
       "      <td>14395</td>\n",
       "    </tr>\n",
       "    <tr>\n",
       "      <th>4</th>\n",
       "      <td>1960-05-01</td>\n",
       "      <td>14587</td>\n",
       "    </tr>\n",
       "  </tbody>\n",
       "</table>\n",
       "</div>"
      ],
      "text/plain": [
       "        Date  Sales\n",
       "0 1960-01-01   6550\n",
       "1 1960-02-01   8728\n",
       "2 1960-03-01  12026\n",
       "3 1960-04-01  14395\n",
       "4 1960-05-01  14587"
      ]
     },
     "execution_count": 114,
     "metadata": {},
     "output_type": "execute_result"
    }
   ],
   "source": [
    "traindata.head()"
   ]
  },
  {
   "cell_type": "code",
   "execution_count": 116,
   "id": "3f29fb3a",
   "metadata": {},
   "outputs": [],
   "source": [
    "traindata.columns=['ds','y']"
   ]
  },
  {
   "cell_type": "code",
   "execution_count": 117,
   "id": "3f84d907",
   "metadata": {
    "scrolled": true
   },
   "outputs": [
    {
     "name": "stderr",
     "output_type": "stream",
     "text": [
      "11:56:23 - cmdstanpy - INFO - Chain [1] start processing\n",
      "11:56:24 - cmdstanpy - INFO - Chain [1] done processing\n"
     ]
    },
    {
     "data": {
      "text/plain": [
       "<prophet.forecaster.Prophet at 0x21c81296680>"
      ]
     },
     "execution_count": 117,
     "metadata": {},
     "output_type": "execute_result"
    }
   ],
   "source": [
    "model.fit(traindata)"
   ]
  },
  {
   "cell_type": "code",
   "execution_count": 127,
   "id": "8072caaa",
   "metadata": {},
   "outputs": [],
   "source": [
    "testx = data.iloc[90:,0]\n",
    "testy = data.iloc[90:,1]"
   ]
  },
  {
   "cell_type": "code",
   "execution_count": 128,
   "id": "5f3ccce9",
   "metadata": {},
   "outputs": [],
   "source": [
    "testx = pd.DataFrame(testx)"
   ]
  },
  {
   "cell_type": "code",
   "execution_count": 129,
   "id": "2d164d02",
   "metadata": {},
   "outputs": [
    {
     "data": {
      "text/html": [
       "<div>\n",
       "<style scoped>\n",
       "    .dataframe tbody tr th:only-of-type {\n",
       "        vertical-align: middle;\n",
       "    }\n",
       "\n",
       "    .dataframe tbody tr th {\n",
       "        vertical-align: top;\n",
       "    }\n",
       "\n",
       "    .dataframe thead th {\n",
       "        text-align: right;\n",
       "    }\n",
       "</style>\n",
       "<table border=\"1\" class=\"dataframe\">\n",
       "  <thead>\n",
       "    <tr style=\"text-align: right;\">\n",
       "      <th></th>\n",
       "      <th>Date</th>\n",
       "    </tr>\n",
       "  </thead>\n",
       "  <tbody>\n",
       "    <tr>\n",
       "      <th>90</th>\n",
       "      <td>1967-07-01</td>\n",
       "    </tr>\n",
       "    <tr>\n",
       "      <th>91</th>\n",
       "      <td>1967-08-01</td>\n",
       "    </tr>\n",
       "    <tr>\n",
       "      <th>92</th>\n",
       "      <td>1967-09-01</td>\n",
       "    </tr>\n",
       "    <tr>\n",
       "      <th>93</th>\n",
       "      <td>1967-10-01</td>\n",
       "    </tr>\n",
       "    <tr>\n",
       "      <th>94</th>\n",
       "      <td>1967-11-01</td>\n",
       "    </tr>\n",
       "  </tbody>\n",
       "</table>\n",
       "</div>"
      ],
      "text/plain": [
       "         Date\n",
       "90 1967-07-01\n",
       "91 1967-08-01\n",
       "92 1967-09-01\n",
       "93 1967-10-01\n",
       "94 1967-11-01"
      ]
     },
     "execution_count": 129,
     "metadata": {},
     "output_type": "execute_result"
    }
   ],
   "source": [
    "testx.head()"
   ]
  },
  {
   "cell_type": "code",
   "execution_count": 143,
   "id": "e6c29e98",
   "metadata": {},
   "outputs": [
    {
     "data": {
      "text/html": [
       "<div>\n",
       "<style scoped>\n",
       "    .dataframe tbody tr th:only-of-type {\n",
       "        vertical-align: middle;\n",
       "    }\n",
       "\n",
       "    .dataframe tbody tr th {\n",
       "        vertical-align: top;\n",
       "    }\n",
       "\n",
       "    .dataframe thead th {\n",
       "        text-align: right;\n",
       "    }\n",
       "</style>\n",
       "<table border=\"1\" class=\"dataframe\">\n",
       "  <thead>\n",
       "    <tr style=\"text-align: right;\">\n",
       "      <th></th>\n",
       "      <th>ds</th>\n",
       "    </tr>\n",
       "  </thead>\n",
       "  <tbody>\n",
       "    <tr>\n",
       "      <th>103</th>\n",
       "      <td>1968-08-01</td>\n",
       "    </tr>\n",
       "    <tr>\n",
       "      <th>104</th>\n",
       "      <td>1968-09-01</td>\n",
       "    </tr>\n",
       "    <tr>\n",
       "      <th>105</th>\n",
       "      <td>1968-10-01</td>\n",
       "    </tr>\n",
       "    <tr>\n",
       "      <th>106</th>\n",
       "      <td>1968-11-01</td>\n",
       "    </tr>\n",
       "    <tr>\n",
       "      <th>107</th>\n",
       "      <td>1968-12-01</td>\n",
       "    </tr>\n",
       "  </tbody>\n",
       "</table>\n",
       "</div>"
      ],
      "text/plain": [
       "            ds\n",
       "103 1968-08-01\n",
       "104 1968-09-01\n",
       "105 1968-10-01\n",
       "106 1968-11-01\n",
       "107 1968-12-01"
      ]
     },
     "execution_count": 143,
     "metadata": {},
     "output_type": "execute_result"
    }
   ],
   "source": [
    "testx.tail()"
   ]
  },
  {
   "cell_type": "code",
   "execution_count": null,
   "id": "9ffd68b8",
   "metadata": {},
   "outputs": [],
   "source": []
  },
  {
   "cell_type": "code",
   "execution_count": 130,
   "id": "e77597f8",
   "metadata": {},
   "outputs": [],
   "source": [
    "testx.columns=['ds']"
   ]
  },
  {
   "cell_type": "code",
   "execution_count": 133,
   "id": "8e95356b",
   "metadata": {},
   "outputs": [],
   "source": [
    "y_pred =model.predict(testx)"
   ]
  },
  {
   "cell_type": "code",
   "execution_count": 135,
   "id": "ad92a27c",
   "metadata": {},
   "outputs": [
    {
     "data": {
      "text/html": [
       "<div>\n",
       "<style scoped>\n",
       "    .dataframe tbody tr th:only-of-type {\n",
       "        vertical-align: middle;\n",
       "    }\n",
       "\n",
       "    .dataframe tbody tr th {\n",
       "        vertical-align: top;\n",
       "    }\n",
       "\n",
       "    .dataframe thead th {\n",
       "        text-align: right;\n",
       "    }\n",
       "</style>\n",
       "<table border=\"1\" class=\"dataframe\">\n",
       "  <thead>\n",
       "    <tr style=\"text-align: right;\">\n",
       "      <th></th>\n",
       "      <th>ds</th>\n",
       "      <th>trend</th>\n",
       "      <th>yhat_lower</th>\n",
       "      <th>yhat_upper</th>\n",
       "      <th>trend_lower</th>\n",
       "      <th>trend_upper</th>\n",
       "      <th>additive_terms</th>\n",
       "      <th>additive_terms_lower</th>\n",
       "      <th>additive_terms_upper</th>\n",
       "      <th>yearly</th>\n",
       "      <th>yearly_lower</th>\n",
       "      <th>yearly_upper</th>\n",
       "      <th>multiplicative_terms</th>\n",
       "      <th>multiplicative_terms_lower</th>\n",
       "      <th>multiplicative_terms_upper</th>\n",
       "      <th>yhat</th>\n",
       "    </tr>\n",
       "  </thead>\n",
       "  <tbody>\n",
       "    <tr>\n",
       "      <th>0</th>\n",
       "      <td>1967-07-01</td>\n",
       "      <td>17469.371875</td>\n",
       "      <td>14973.975943</td>\n",
       "      <td>18067.621059</td>\n",
       "      <td>17469.180421</td>\n",
       "      <td>17469.765676</td>\n",
       "      <td>-898.359167</td>\n",
       "      <td>-898.359167</td>\n",
       "      <td>-898.359167</td>\n",
       "      <td>-898.359167</td>\n",
       "      <td>-898.359167</td>\n",
       "      <td>-898.359167</td>\n",
       "      <td>0.0</td>\n",
       "      <td>0.0</td>\n",
       "      <td>0.0</td>\n",
       "      <td>16571.012708</td>\n",
       "    </tr>\n",
       "    <tr>\n",
       "      <th>1</th>\n",
       "      <td>1967-08-01</td>\n",
       "      <td>17520.371540</td>\n",
       "      <td>12629.206688</td>\n",
       "      <td>15515.159336</td>\n",
       "      <td>17518.691190</td>\n",
       "      <td>17522.287601</td>\n",
       "      <td>-3466.209856</td>\n",
       "      <td>-3466.209856</td>\n",
       "      <td>-3466.209856</td>\n",
       "      <td>-3466.209856</td>\n",
       "      <td>-3466.209856</td>\n",
       "      <td>-3466.209856</td>\n",
       "      <td>0.0</td>\n",
       "      <td>0.0</td>\n",
       "      <td>0.0</td>\n",
       "      <td>14054.161684</td>\n",
       "    </tr>\n",
       "    <tr>\n",
       "      <th>2</th>\n",
       "      <td>1967-09-01</td>\n",
       "      <td>17571.371205</td>\n",
       "      <td>10080.649384</td>\n",
       "      <td>13200.958410</td>\n",
       "      <td>17567.529962</td>\n",
       "      <td>17576.099129</td>\n",
       "      <td>-5912.907687</td>\n",
       "      <td>-5912.907687</td>\n",
       "      <td>-5912.907687</td>\n",
       "      <td>-5912.907687</td>\n",
       "      <td>-5912.907687</td>\n",
       "      <td>-5912.907687</td>\n",
       "      <td>0.0</td>\n",
       "      <td>0.0</td>\n",
       "      <td>0.0</td>\n",
       "      <td>11658.463518</td>\n",
       "    </tr>\n",
       "    <tr>\n",
       "      <th>3</th>\n",
       "      <td>1967-10-01</td>\n",
       "      <td>17620.725720</td>\n",
       "      <td>15360.908886</td>\n",
       "      <td>18516.456803</td>\n",
       "      <td>17613.998167</td>\n",
       "      <td>17628.029828</td>\n",
       "      <td>-679.385229</td>\n",
       "      <td>-679.385229</td>\n",
       "      <td>-679.385229</td>\n",
       "      <td>-679.385229</td>\n",
       "      <td>-679.385229</td>\n",
       "      <td>-679.385229</td>\n",
       "      <td>0.0</td>\n",
       "      <td>0.0</td>\n",
       "      <td>0.0</td>\n",
       "      <td>16941.340490</td>\n",
       "    </tr>\n",
       "    <tr>\n",
       "      <th>4</th>\n",
       "      <td>1967-11-01</td>\n",
       "      <td>17671.725385</td>\n",
       "      <td>17286.707821</td>\n",
       "      <td>20290.259088</td>\n",
       "      <td>17661.859265</td>\n",
       "      <td>17682.005939</td>\n",
       "      <td>1170.968902</td>\n",
       "      <td>1170.968902</td>\n",
       "      <td>1170.968902</td>\n",
       "      <td>1170.968902</td>\n",
       "      <td>1170.968902</td>\n",
       "      <td>1170.968902</td>\n",
       "      <td>0.0</td>\n",
       "      <td>0.0</td>\n",
       "      <td>0.0</td>\n",
       "      <td>18842.694286</td>\n",
       "    </tr>\n",
       "  </tbody>\n",
       "</table>\n",
       "</div>"
      ],
      "text/plain": [
       "          ds         trend    yhat_lower    yhat_upper   trend_lower  \\\n",
       "0 1967-07-01  17469.371875  14973.975943  18067.621059  17469.180421   \n",
       "1 1967-08-01  17520.371540  12629.206688  15515.159336  17518.691190   \n",
       "2 1967-09-01  17571.371205  10080.649384  13200.958410  17567.529962   \n",
       "3 1967-10-01  17620.725720  15360.908886  18516.456803  17613.998167   \n",
       "4 1967-11-01  17671.725385  17286.707821  20290.259088  17661.859265   \n",
       "\n",
       "    trend_upper  additive_terms  additive_terms_lower  additive_terms_upper  \\\n",
       "0  17469.765676     -898.359167           -898.359167           -898.359167   \n",
       "1  17522.287601    -3466.209856          -3466.209856          -3466.209856   \n",
       "2  17576.099129    -5912.907687          -5912.907687          -5912.907687   \n",
       "3  17628.029828     -679.385229           -679.385229           -679.385229   \n",
       "4  17682.005939     1170.968902           1170.968902           1170.968902   \n",
       "\n",
       "        yearly  yearly_lower  yearly_upper  multiplicative_terms  \\\n",
       "0  -898.359167   -898.359167   -898.359167                   0.0   \n",
       "1 -3466.209856  -3466.209856  -3466.209856                   0.0   \n",
       "2 -5912.907687  -5912.907687  -5912.907687                   0.0   \n",
       "3  -679.385229   -679.385229   -679.385229                   0.0   \n",
       "4  1170.968902   1170.968902   1170.968902                   0.0   \n",
       "\n",
       "   multiplicative_terms_lower  multiplicative_terms_upper          yhat  \n",
       "0                         0.0                         0.0  16571.012708  \n",
       "1                         0.0                         0.0  14054.161684  \n",
       "2                         0.0                         0.0  11658.463518  \n",
       "3                         0.0                         0.0  16941.340490  \n",
       "4                         0.0                         0.0  18842.694286  "
      ]
     },
     "execution_count": 135,
     "metadata": {},
     "output_type": "execute_result"
    }
   ],
   "source": [
    "y_pred.head()"
   ]
  },
  {
   "cell_type": "code",
   "execution_count": null,
   "id": "4ff69d14",
   "metadata": {},
   "outputs": [],
   "source": []
  },
  {
   "cell_type": "code",
   "execution_count": 136,
   "id": "35d0639a",
   "metadata": {},
   "outputs": [
    {
     "data": {
      "text/plain": [
       "90     14220\n",
       "91     13434\n",
       "92     13598\n",
       "93     17187\n",
       "94     16119\n",
       "95     13713\n",
       "96     13210\n",
       "97     14251\n",
       "98     20139\n",
       "99     21725\n",
       "100    26099\n",
       "101    21084\n",
       "102    18024\n",
       "103    16722\n",
       "104    14385\n",
       "105    21342\n",
       "106    17180\n",
       "107    14577\n",
       "Name: Sales, dtype: int64"
      ]
     },
     "execution_count": 136,
     "metadata": {},
     "output_type": "execute_result"
    }
   ],
   "source": [
    "testy"
   ]
  },
  {
   "cell_type": "code",
   "execution_count": 137,
   "id": "3ba5180f",
   "metadata": {},
   "outputs": [],
   "source": [
    "from sklearn.metrics import mean_absolute_percentage_error , mean_absolute_error"
   ]
  },
  {
   "cell_type": "code",
   "execution_count": 138,
   "id": "dae1d14d",
   "metadata": {},
   "outputs": [
    {
     "data": {
      "text/plain": [
       "0.08441887755637484"
      ]
     },
     "execution_count": 138,
     "metadata": {},
     "output_type": "execute_result"
    }
   ],
   "source": [
    "mean_absolute_percentage_error(testy, y_pred['yhat'])"
   ]
  },
  {
   "cell_type": "code",
   "execution_count": 139,
   "id": "b5c26a3a",
   "metadata": {},
   "outputs": [
    {
     "data": {
      "text/plain": [
       "1414.6839105561148"
      ]
     },
     "execution_count": 139,
     "metadata": {},
     "output_type": "execute_result"
    }
   ],
   "source": [
    "mean_absolute_error(testy, y_pred['yhat'])"
   ]
  },
  {
   "cell_type": "code",
   "execution_count": 141,
   "id": "500247b2",
   "metadata": {},
   "outputs": [
    {
     "data": {
      "text/plain": [
       "0.09063884544377752"
      ]
     },
     "execution_count": 141,
     "metadata": {},
     "output_type": "execute_result"
    }
   ],
   "source": [
    "mean_absolute_percentage_error(testy, y_pred['yhat_lower'])"
   ]
  },
  {
   "cell_type": "code",
   "execution_count": 149,
   "id": "ab78aecf",
   "metadata": {},
   "outputs": [
    {
     "data": {
      "text/plain": [
       "['1969-01',\n",
       " '1969-02',\n",
       " '1969-03',\n",
       " '1969-04',\n",
       " '1969-05',\n",
       " '1969-06',\n",
       " '1969-07',\n",
       " '1969-08',\n",
       " '1969-09',\n",
       " '1969-10',\n",
       " '1969-11',\n",
       " '1969-12']"
      ]
     },
     "execution_count": 149,
     "metadata": {},
     "output_type": "execute_result"
    }
   ],
   "source": [
    "date_list = []\n",
    "for i in range(1,13):\n",
    "    date = '1969-%02d' % i\n",
    "    date_list.append(date)\n",
    "    \n",
    "date_list"
   ]
  },
  {
   "cell_type": "code",
   "execution_count": 150,
   "id": "050ef700",
   "metadata": {},
   "outputs": [],
   "source": [
    "date_values = pd.DataFrame(date_list)\n",
    "date_values.columns =['ds']\n",
    "date_values['ds'] = pd.to_datetime(date_values['ds'])"
   ]
  },
  {
   "cell_type": "code",
   "execution_count": 151,
   "id": "068c1079",
   "metadata": {},
   "outputs": [
    {
     "data": {
      "text/html": [
       "<div>\n",
       "<style scoped>\n",
       "    .dataframe tbody tr th:only-of-type {\n",
       "        vertical-align: middle;\n",
       "    }\n",
       "\n",
       "    .dataframe tbody tr th {\n",
       "        vertical-align: top;\n",
       "    }\n",
       "\n",
       "    .dataframe thead th {\n",
       "        text-align: right;\n",
       "    }\n",
       "</style>\n",
       "<table border=\"1\" class=\"dataframe\">\n",
       "  <thead>\n",
       "    <tr style=\"text-align: right;\">\n",
       "      <th></th>\n",
       "      <th>ds</th>\n",
       "    </tr>\n",
       "  </thead>\n",
       "  <tbody>\n",
       "    <tr>\n",
       "      <th>0</th>\n",
       "      <td>1969-01-01</td>\n",
       "    </tr>\n",
       "    <tr>\n",
       "      <th>1</th>\n",
       "      <td>1969-02-01</td>\n",
       "    </tr>\n",
       "    <tr>\n",
       "      <th>2</th>\n",
       "      <td>1969-03-01</td>\n",
       "    </tr>\n",
       "    <tr>\n",
       "      <th>3</th>\n",
       "      <td>1969-04-01</td>\n",
       "    </tr>\n",
       "    <tr>\n",
       "      <th>4</th>\n",
       "      <td>1969-05-01</td>\n",
       "    </tr>\n",
       "    <tr>\n",
       "      <th>5</th>\n",
       "      <td>1969-06-01</td>\n",
       "    </tr>\n",
       "    <tr>\n",
       "      <th>6</th>\n",
       "      <td>1969-07-01</td>\n",
       "    </tr>\n",
       "    <tr>\n",
       "      <th>7</th>\n",
       "      <td>1969-08-01</td>\n",
       "    </tr>\n",
       "    <tr>\n",
       "      <th>8</th>\n",
       "      <td>1969-09-01</td>\n",
       "    </tr>\n",
       "    <tr>\n",
       "      <th>9</th>\n",
       "      <td>1969-10-01</td>\n",
       "    </tr>\n",
       "    <tr>\n",
       "      <th>10</th>\n",
       "      <td>1969-11-01</td>\n",
       "    </tr>\n",
       "    <tr>\n",
       "      <th>11</th>\n",
       "      <td>1969-12-01</td>\n",
       "    </tr>\n",
       "  </tbody>\n",
       "</table>\n",
       "</div>"
      ],
      "text/plain": [
       "           ds\n",
       "0  1969-01-01\n",
       "1  1969-02-01\n",
       "2  1969-03-01\n",
       "3  1969-04-01\n",
       "4  1969-05-01\n",
       "5  1969-06-01\n",
       "6  1969-07-01\n",
       "7  1969-08-01\n",
       "8  1969-09-01\n",
       "9  1969-10-01\n",
       "10 1969-11-01\n",
       "11 1969-12-01"
      ]
     },
     "execution_count": 151,
     "metadata": {},
     "output_type": "execute_result"
    }
   ],
   "source": [
    "date_values"
   ]
  },
  {
   "cell_type": "code",
   "execution_count": 152,
   "id": "0c5eb111",
   "metadata": {},
   "outputs": [
    {
     "data": {
      "text/html": [
       "<div>\n",
       "<style scoped>\n",
       "    .dataframe tbody tr th:only-of-type {\n",
       "        vertical-align: middle;\n",
       "    }\n",
       "\n",
       "    .dataframe tbody tr th {\n",
       "        vertical-align: top;\n",
       "    }\n",
       "\n",
       "    .dataframe thead th {\n",
       "        text-align: right;\n",
       "    }\n",
       "</style>\n",
       "<table border=\"1\" class=\"dataframe\">\n",
       "  <thead>\n",
       "    <tr style=\"text-align: right;\">\n",
       "      <th></th>\n",
       "      <th>ds</th>\n",
       "      <th>trend</th>\n",
       "      <th>yhat_lower</th>\n",
       "      <th>yhat_upper</th>\n",
       "      <th>trend_lower</th>\n",
       "      <th>trend_upper</th>\n",
       "      <th>additive_terms</th>\n",
       "      <th>additive_terms_lower</th>\n",
       "      <th>additive_terms_upper</th>\n",
       "      <th>yearly</th>\n",
       "      <th>yearly_lower</th>\n",
       "      <th>yearly_upper</th>\n",
       "      <th>multiplicative_terms</th>\n",
       "      <th>multiplicative_terms_lower</th>\n",
       "      <th>multiplicative_terms_upper</th>\n",
       "      <th>yhat</th>\n",
       "    </tr>\n",
       "  </thead>\n",
       "  <tbody>\n",
       "    <tr>\n",
       "      <th>0</th>\n",
       "      <td>1969-01-01</td>\n",
       "      <td>18374.204640</td>\n",
       "      <td>13823.149194</td>\n",
       "      <td>16844.253784</td>\n",
       "      <td>18373.890190</td>\n",
       "      <td>18374.472581</td>\n",
       "      <td>-3048.952826</td>\n",
       "      <td>-3048.952826</td>\n",
       "      <td>-3048.952826</td>\n",
       "      <td>-3048.952826</td>\n",
       "      <td>-3048.952826</td>\n",
       "      <td>-3048.952826</td>\n",
       "      <td>0.0</td>\n",
       "      <td>0.0</td>\n",
       "      <td>0.0</td>\n",
       "      <td>15325.251814</td>\n",
       "    </tr>\n",
       "    <tr>\n",
       "      <th>1</th>\n",
       "      <td>1969-02-01</td>\n",
       "      <td>18425.204305</td>\n",
       "      <td>14508.749818</td>\n",
       "      <td>17511.278725</td>\n",
       "      <td>18423.526150</td>\n",
       "      <td>18426.694410</td>\n",
       "      <td>-2356.382663</td>\n",
       "      <td>-2356.382663</td>\n",
       "      <td>-2356.382663</td>\n",
       "      <td>-2356.382663</td>\n",
       "      <td>-2356.382663</td>\n",
       "      <td>-2356.382663</td>\n",
       "      <td>0.0</td>\n",
       "      <td>0.0</td>\n",
       "      <td>0.0</td>\n",
       "      <td>16068.821642</td>\n",
       "    </tr>\n",
       "    <tr>\n",
       "      <th>2</th>\n",
       "      <td>1969-03-01</td>\n",
       "      <td>18471.268519</td>\n",
       "      <td>19916.848865</td>\n",
       "      <td>22985.438801</td>\n",
       "      <td>18467.227959</td>\n",
       "      <td>18474.998869</td>\n",
       "      <td>2992.914357</td>\n",
       "      <td>2992.914357</td>\n",
       "      <td>2992.914357</td>\n",
       "      <td>2992.914357</td>\n",
       "      <td>2992.914357</td>\n",
       "      <td>2992.914357</td>\n",
       "      <td>0.0</td>\n",
       "      <td>0.0</td>\n",
       "      <td>0.0</td>\n",
       "      <td>21464.182876</td>\n",
       "    </tr>\n",
       "    <tr>\n",
       "      <th>3</th>\n",
       "      <td>1969-04-01</td>\n",
       "      <td>18522.268183</td>\n",
       "      <td>22074.694623</td>\n",
       "      <td>25125.298866</td>\n",
       "      <td>18515.365963</td>\n",
       "      <td>18528.433282</td>\n",
       "      <td>5128.595890</td>\n",
       "      <td>5128.595890</td>\n",
       "      <td>5128.595890</td>\n",
       "      <td>5128.595890</td>\n",
       "      <td>5128.595890</td>\n",
       "      <td>5128.595890</td>\n",
       "      <td>0.0</td>\n",
       "      <td>0.0</td>\n",
       "      <td>0.0</td>\n",
       "      <td>23650.864073</td>\n",
       "    </tr>\n",
       "    <tr>\n",
       "      <th>4</th>\n",
       "      <td>1969-05-01</td>\n",
       "      <td>18571.622698</td>\n",
       "      <td>23099.522704</td>\n",
       "      <td>26119.798208</td>\n",
       "      <td>18561.540366</td>\n",
       "      <td>18581.101859</td>\n",
       "      <td>6007.224401</td>\n",
       "      <td>6007.224401</td>\n",
       "      <td>6007.224401</td>\n",
       "      <td>6007.224401</td>\n",
       "      <td>6007.224401</td>\n",
       "      <td>6007.224401</td>\n",
       "      <td>0.0</td>\n",
       "      <td>0.0</td>\n",
       "      <td>0.0</td>\n",
       "      <td>24578.847099</td>\n",
       "    </tr>\n",
       "    <tr>\n",
       "      <th>5</th>\n",
       "      <td>1969-06-01</td>\n",
       "      <td>18622.622363</td>\n",
       "      <td>20647.893886</td>\n",
       "      <td>23812.650822</td>\n",
       "      <td>18609.896229</td>\n",
       "      <td>18635.652401</td>\n",
       "      <td>3618.038835</td>\n",
       "      <td>3618.038835</td>\n",
       "      <td>3618.038835</td>\n",
       "      <td>3618.038835</td>\n",
       "      <td>3618.038835</td>\n",
       "      <td>3618.038835</td>\n",
       "      <td>0.0</td>\n",
       "      <td>0.0</td>\n",
       "      <td>0.0</td>\n",
       "      <td>22240.661197</td>\n",
       "    </tr>\n",
       "    <tr>\n",
       "      <th>6</th>\n",
       "      <td>1969-07-01</td>\n",
       "      <td>18671.976877</td>\n",
       "      <td>16315.776598</td>\n",
       "      <td>19369.128424</td>\n",
       "      <td>18654.799266</td>\n",
       "      <td>18688.614242</td>\n",
       "      <td>-740.796984</td>\n",
       "      <td>-740.796984</td>\n",
       "      <td>-740.796984</td>\n",
       "      <td>-740.796984</td>\n",
       "      <td>-740.796984</td>\n",
       "      <td>-740.796984</td>\n",
       "      <td>0.0</td>\n",
       "      <td>0.0</td>\n",
       "      <td>0.0</td>\n",
       "      <td>17931.179894</td>\n",
       "    </tr>\n",
       "    <tr>\n",
       "      <th>7</th>\n",
       "      <td>1969-08-01</td>\n",
       "      <td>18722.976542</td>\n",
       "      <td>14124.061351</td>\n",
       "      <td>16980.702184</td>\n",
       "      <td>18701.382948</td>\n",
       "      <td>18744.058517</td>\n",
       "      <td>-3213.323457</td>\n",
       "      <td>-3213.323457</td>\n",
       "      <td>-3213.323457</td>\n",
       "      <td>-3213.323457</td>\n",
       "      <td>-3213.323457</td>\n",
       "      <td>-3213.323457</td>\n",
       "      <td>0.0</td>\n",
       "      <td>0.0</td>\n",
       "      <td>0.0</td>\n",
       "      <td>15509.653085</td>\n",
       "    </tr>\n",
       "    <tr>\n",
       "      <th>8</th>\n",
       "      <td>1969-09-01</td>\n",
       "      <td>18773.976207</td>\n",
       "      <td>12528.043634</td>\n",
       "      <td>15663.206080</td>\n",
       "      <td>18747.447989</td>\n",
       "      <td>18800.477799</td>\n",
       "      <td>-4712.641408</td>\n",
       "      <td>-4712.641408</td>\n",
       "      <td>-4712.641408</td>\n",
       "      <td>-4712.641408</td>\n",
       "      <td>-4712.641408</td>\n",
       "      <td>-4712.641408</td>\n",
       "      <td>0.0</td>\n",
       "      <td>0.0</td>\n",
       "      <td>0.0</td>\n",
       "      <td>14061.334799</td>\n",
       "    </tr>\n",
       "    <tr>\n",
       "      <th>9</th>\n",
       "      <td>1969-10-01</td>\n",
       "      <td>18823.330722</td>\n",
       "      <td>16577.719371</td>\n",
       "      <td>19611.709233</td>\n",
       "      <td>18790.699964</td>\n",
       "      <td>18854.716288</td>\n",
       "      <td>-733.573294</td>\n",
       "      <td>-733.573294</td>\n",
       "      <td>-733.573294</td>\n",
       "      <td>-733.573294</td>\n",
       "      <td>-733.573294</td>\n",
       "      <td>-733.573294</td>\n",
       "      <td>0.0</td>\n",
       "      <td>0.0</td>\n",
       "      <td>0.0</td>\n",
       "      <td>18089.757428</td>\n",
       "    </tr>\n",
       "    <tr>\n",
       "      <th>10</th>\n",
       "      <td>1969-11-01</td>\n",
       "      <td>18874.330387</td>\n",
       "      <td>17266.489453</td>\n",
       "      <td>20297.890337</td>\n",
       "      <td>18835.181264</td>\n",
       "      <td>18911.800237</td>\n",
       "      <td>-83.225527</td>\n",
       "      <td>-83.225527</td>\n",
       "      <td>-83.225527</td>\n",
       "      <td>-83.225527</td>\n",
       "      <td>-83.225527</td>\n",
       "      <td>-83.225527</td>\n",
       "      <td>0.0</td>\n",
       "      <td>0.0</td>\n",
       "      <td>0.0</td>\n",
       "      <td>18791.104860</td>\n",
       "    </tr>\n",
       "    <tr>\n",
       "      <th>11</th>\n",
       "      <td>1969-12-01</td>\n",
       "      <td>18923.684901</td>\n",
       "      <td>15127.156959</td>\n",
       "      <td>18188.680816</td>\n",
       "      <td>18879.428524</td>\n",
       "      <td>18968.492875</td>\n",
       "      <td>-2250.894308</td>\n",
       "      <td>-2250.894308</td>\n",
       "      <td>-2250.894308</td>\n",
       "      <td>-2250.894308</td>\n",
       "      <td>-2250.894308</td>\n",
       "      <td>-2250.894308</td>\n",
       "      <td>0.0</td>\n",
       "      <td>0.0</td>\n",
       "      <td>0.0</td>\n",
       "      <td>16672.790593</td>\n",
       "    </tr>\n",
       "  </tbody>\n",
       "</table>\n",
       "</div>"
      ],
      "text/plain": [
       "           ds         trend    yhat_lower    yhat_upper   trend_lower  \\\n",
       "0  1969-01-01  18374.204640  13823.149194  16844.253784  18373.890190   \n",
       "1  1969-02-01  18425.204305  14508.749818  17511.278725  18423.526150   \n",
       "2  1969-03-01  18471.268519  19916.848865  22985.438801  18467.227959   \n",
       "3  1969-04-01  18522.268183  22074.694623  25125.298866  18515.365963   \n",
       "4  1969-05-01  18571.622698  23099.522704  26119.798208  18561.540366   \n",
       "5  1969-06-01  18622.622363  20647.893886  23812.650822  18609.896229   \n",
       "6  1969-07-01  18671.976877  16315.776598  19369.128424  18654.799266   \n",
       "7  1969-08-01  18722.976542  14124.061351  16980.702184  18701.382948   \n",
       "8  1969-09-01  18773.976207  12528.043634  15663.206080  18747.447989   \n",
       "9  1969-10-01  18823.330722  16577.719371  19611.709233  18790.699964   \n",
       "10 1969-11-01  18874.330387  17266.489453  20297.890337  18835.181264   \n",
       "11 1969-12-01  18923.684901  15127.156959  18188.680816  18879.428524   \n",
       "\n",
       "     trend_upper  additive_terms  additive_terms_lower  additive_terms_upper  \\\n",
       "0   18374.472581    -3048.952826          -3048.952826          -3048.952826   \n",
       "1   18426.694410    -2356.382663          -2356.382663          -2356.382663   \n",
       "2   18474.998869     2992.914357           2992.914357           2992.914357   \n",
       "3   18528.433282     5128.595890           5128.595890           5128.595890   \n",
       "4   18581.101859     6007.224401           6007.224401           6007.224401   \n",
       "5   18635.652401     3618.038835           3618.038835           3618.038835   \n",
       "6   18688.614242     -740.796984           -740.796984           -740.796984   \n",
       "7   18744.058517    -3213.323457          -3213.323457          -3213.323457   \n",
       "8   18800.477799    -4712.641408          -4712.641408          -4712.641408   \n",
       "9   18854.716288     -733.573294           -733.573294           -733.573294   \n",
       "10  18911.800237      -83.225527            -83.225527            -83.225527   \n",
       "11  18968.492875    -2250.894308          -2250.894308          -2250.894308   \n",
       "\n",
       "         yearly  yearly_lower  yearly_upper  multiplicative_terms  \\\n",
       "0  -3048.952826  -3048.952826  -3048.952826                   0.0   \n",
       "1  -2356.382663  -2356.382663  -2356.382663                   0.0   \n",
       "2   2992.914357   2992.914357   2992.914357                   0.0   \n",
       "3   5128.595890   5128.595890   5128.595890                   0.0   \n",
       "4   6007.224401   6007.224401   6007.224401                   0.0   \n",
       "5   3618.038835   3618.038835   3618.038835                   0.0   \n",
       "6   -740.796984   -740.796984   -740.796984                   0.0   \n",
       "7  -3213.323457  -3213.323457  -3213.323457                   0.0   \n",
       "8  -4712.641408  -4712.641408  -4712.641408                   0.0   \n",
       "9   -733.573294   -733.573294   -733.573294                   0.0   \n",
       "10   -83.225527    -83.225527    -83.225527                   0.0   \n",
       "11 -2250.894308  -2250.894308  -2250.894308                   0.0   \n",
       "\n",
       "    multiplicative_terms_lower  multiplicative_terms_upper          yhat  \n",
       "0                          0.0                         0.0  15325.251814  \n",
       "1                          0.0                         0.0  16068.821642  \n",
       "2                          0.0                         0.0  21464.182876  \n",
       "3                          0.0                         0.0  23650.864073  \n",
       "4                          0.0                         0.0  24578.847099  \n",
       "5                          0.0                         0.0  22240.661197  \n",
       "6                          0.0                         0.0  17931.179894  \n",
       "7                          0.0                         0.0  15509.653085  \n",
       "8                          0.0                         0.0  14061.334799  \n",
       "9                          0.0                         0.0  18089.757428  \n",
       "10                         0.0                         0.0  18791.104860  \n",
       "11                         0.0                         0.0  16672.790593  "
      ]
     },
     "execution_count": 152,
     "metadata": {},
     "output_type": "execute_result"
    }
   ],
   "source": [
    "model.predict(date_values)"
   ]
  },
  {
   "cell_type": "code",
   "execution_count": null,
   "id": "a3e9ba5c",
   "metadata": {},
   "outputs": [],
   "source": []
  },
  {
   "cell_type": "code",
   "execution_count": null,
   "id": "10e92019",
   "metadata": {},
   "outputs": [],
   "source": []
  },
  {
   "cell_type": "code",
   "execution_count": null,
   "id": "da192e2a",
   "metadata": {},
   "outputs": [],
   "source": []
  },
  {
   "cell_type": "code",
   "execution_count": null,
   "id": "4b1b7f9b",
   "metadata": {},
   "outputs": [],
   "source": []
  },
  {
   "cell_type": "code",
   "execution_count": 89,
   "id": "855a5ee4",
   "metadata": {
    "scrolled": false
   },
   "outputs": [
    {
     "data": {
      "image/png": "[encoded data removed]",
      "text/plain": [
       "<Figure size 640x480 with 4 Axes>"
      ]
     },
     "metadata": {},
     "output_type": "display_data"
    }
   ],
   "source": [
    "result = seasonal_decompose(df['Sales'], model='additive', extrapolate_trend='freq', period=2)\n",
    "result.plot()\n",
    "pyplot.show()"
   ]
  },
  {
   "cell_type": "code",
   "execution_count": 85,
   "id": "a981c472",
   "metadata": {},
   "outputs": [
    {
     "data": {
      "image/png": "[encoded data removed]",
      "text/plain": [
       "<Figure size 640x480 with 4 Axes>"
      ]
     },
     "metadata": {},
     "output_type": "display_data"
    }
   ],
   "source": [
    "result = seasonal_decompose(df['Sales'], model='multiplicative', extrapolate_trend='freq', period=20)\n",
    "result.plot()\n",
    "pyplot.show()"
   ]
  },
  {
   "cell_type": "code",
   "execution_count": null,
   "id": "53f85d44",
   "metadata": {},
   "outputs": [],
   "source": []
  },
  {
   "cell_type": "code",
   "execution_count": 156,
   "id": "9065ac1e",
   "metadata": {},
   "outputs": [
    {
     "data": {
      "text/html": [
       "<div>\n",
       "<style scoped>\n",
       "    .dataframe tbody tr th:only-of-type {\n",
       "        vertical-align: middle;\n",
       "    }\n",
       "\n",
       "    .dataframe tbody tr th {\n",
       "        vertical-align: top;\n",
       "    }\n",
       "\n",
       "    .dataframe thead th {\n",
       "        text-align: right;\n",
       "    }\n",
       "</style>\n",
       "<table border=\"1\" class=\"dataframe\">\n",
       "  <thead>\n",
       "    <tr style=\"text-align: right;\">\n",
       "      <th></th>\n",
       "      <th>Month</th>\n",
       "      <th>Sales</th>\n",
       "      <th>Date</th>\n",
       "      <th>Year</th>\n",
       "    </tr>\n",
       "  </thead>\n",
       "  <tbody>\n",
       "    <tr>\n",
       "      <th>0</th>\n",
       "      <td>1</td>\n",
       "      <td>6550</td>\n",
       "      <td>1960-01-01</td>\n",
       "      <td>1960</td>\n",
       "    </tr>\n",
       "    <tr>\n",
       "      <th>1</th>\n",
       "      <td>2</td>\n",
       "      <td>8728</td>\n",
       "      <td>1960-02-01</td>\n",
       "      <td>1960</td>\n",
       "    </tr>\n",
       "    <tr>\n",
       "      <th>2</th>\n",
       "      <td>3</td>\n",
       "      <td>12026</td>\n",
       "      <td>1960-03-01</td>\n",
       "      <td>1960</td>\n",
       "    </tr>\n",
       "    <tr>\n",
       "      <th>3</th>\n",
       "      <td>4</td>\n",
       "      <td>14395</td>\n",
       "      <td>1960-04-01</td>\n",
       "      <td>1960</td>\n",
       "    </tr>\n",
       "    <tr>\n",
       "      <th>4</th>\n",
       "      <td>5</td>\n",
       "      <td>14587</td>\n",
       "      <td>1960-05-01</td>\n",
       "      <td>1960</td>\n",
       "    </tr>\n",
       "  </tbody>\n",
       "</table>\n",
       "</div>"
      ],
      "text/plain": [
       "   Month  Sales       Date  Year\n",
       "0      1   6550 1960-01-01  1960\n",
       "1      2   8728 1960-02-01  1960\n",
       "2      3  12026 1960-03-01  1960\n",
       "3      4  14395 1960-04-01  1960\n",
       "4      5  14587 1960-05-01  1960"
      ]
     },
     "execution_count": 156,
     "metadata": {},
     "output_type": "execute_result"
    }
   ],
   "source": [
    "df.head()"
   ]
  },
  {
   "cell_type": "code",
   "execution_count": 158,
   "id": "57e996b1",
   "metadata": {},
   "outputs": [
    {
     "data": {
      "text/html": [
       "<div>\n",
       "<style scoped>\n",
       "    .dataframe tbody tr th:only-of-type {\n",
       "        vertical-align: middle;\n",
       "    }\n",
       "\n",
       "    .dataframe tbody tr th {\n",
       "        vertical-align: top;\n",
       "    }\n",
       "\n",
       "    .dataframe thead th {\n",
       "        text-align: right;\n",
       "    }\n",
       "</style>\n",
       "<table border=\"1\" class=\"dataframe\">\n",
       "  <thead>\n",
       "    <tr style=\"text-align: right;\">\n",
       "      <th></th>\n",
       "      <th>Date</th>\n",
       "      <th>Sales</th>\n",
       "    </tr>\n",
       "  </thead>\n",
       "  <tbody>\n",
       "    <tr>\n",
       "      <th>0</th>\n",
       "      <td>1960-01-01</td>\n",
       "      <td>6550</td>\n",
       "    </tr>\n",
       "    <tr>\n",
       "      <th>1</th>\n",
       "      <td>1960-02-01</td>\n",
       "      <td>8728</td>\n",
       "    </tr>\n",
       "    <tr>\n",
       "      <th>2</th>\n",
       "      <td>1960-03-01</td>\n",
       "      <td>12026</td>\n",
       "    </tr>\n",
       "    <tr>\n",
       "      <th>3</th>\n",
       "      <td>1960-04-01</td>\n",
       "      <td>14395</td>\n",
       "    </tr>\n",
       "    <tr>\n",
       "      <th>4</th>\n",
       "      <td>1960-05-01</td>\n",
       "      <td>14587</td>\n",
       "    </tr>\n",
       "  </tbody>\n",
       "</table>\n",
       "</div>"
      ],
      "text/plain": [
       "        Date  Sales\n",
       "0 1960-01-01   6550\n",
       "1 1960-02-01   8728\n",
       "2 1960-03-01  12026\n",
       "3 1960-04-01  14395\n",
       "4 1960-05-01  14587"
      ]
     },
     "execution_count": 158,
     "metadata": {},
     "output_type": "execute_result"
    }
   ],
   "source": [
    "data.head()"
   ]
  },
  {
   "cell_type": "code",
   "execution_count": 159,
   "id": "61423c97",
   "metadata": {},
   "outputs": [
    {
     "name": "stdout",
     "output_type": "stream",
     "text": [
      "<class 'pandas.core.frame.DataFrame'>\n",
      "RangeIndex: 108 entries, 0 to 107\n",
      "Data columns (total 2 columns):\n",
      " #   Column  Non-Null Count  Dtype         \n",
      "---  ------  --------------  -----         \n",
      " 0   Date    108 non-null    datetime64[ns]\n",
      " 1   Sales   108 non-null    int64         \n",
      "dtypes: datetime64[ns](1), int64(1)\n",
      "memory usage: 1.8 KB\n"
     ]
    }
   ],
   "source": [
    "data.info()"
   ]
  },
  {
   "cell_type": "markdown",
   "id": "cd73a5d7",
   "metadata": {},
   "source": [
    "## Implementing Dicky Fuller Test"
   ]
  },
  {
   "cell_type": "code",
   "execution_count": 155,
   "id": "6184b4c7",
   "metadata": {},
   "outputs": [],
   "source": [
    "from statsmodels.tsa.stattools import adfuller"
   ]
  },
  {
   "cell_type": "code",
   "execution_count": 160,
   "id": "22074304",
   "metadata": {},
   "outputs": [],
   "source": [
    "datapoints = adfuller(data['Sales'])"
   ]
  },
  {
   "cell_type": "code",
   "execution_count": 161,
   "id": "c3142ec0",
   "metadata": {},
   "outputs": [
    {
     "data": {
      "text/plain": [
       "(-1.2238127661752862,\n",
       " 0.6632691049832858,\n",
       " 12,\n",
       " 95,\n",
       " {'1%': -3.5011373281819504,\n",
       "  '5%': -2.8924800524857854,\n",
       "  '10%': -2.5832749307479226},\n",
       " 1671.1995896872572)"
      ]
     },
     "execution_count": 161,
     "metadata": {},
     "output_type": "execute_result"
    }
   ],
   "source": [
    "datapoints"
   ]
  },
  {
   "cell_type": "code",
   "execution_count": 162,
   "id": "b0235069",
   "metadata": {},
   "outputs": [],
   "source": [
    "labels = ['test_parameters','p-value','lags-used','dataobs']"
   ]
  },
  {
   "cell_type": "code",
   "execution_count": 164,
   "id": "03c9a95f",
   "metadata": {},
   "outputs": [],
   "source": [
    "d = dict(zip(labels,datapoints[:4]))"
   ]
  },
  {
   "cell_type": "code",
   "execution_count": 165,
   "id": "26b1d7d1",
   "metadata": {},
   "outputs": [
    {
     "data": {
      "text/plain": [
       "{'test_parameters': -1.2238127661752862,\n",
       " 'p-value': 0.6632691049832858,\n",
       " 'lags-used': 12,\n",
       " 'dataobs': 95}"
      ]
     },
     "execution_count": 165,
     "metadata": {},
     "output_type": "execute_result"
    }
   ],
   "source": [
    "d"
   ]
  },
  {
   "cell_type": "code",
   "execution_count": null,
   "id": "0a427a36",
   "metadata": {},
   "outputs": [],
   "source": [
    "## our p-value is > 0.05 we accept the null hypothesis and dataset is non -stationary "
   ]
  },
  {
   "cell_type": "code",
   "execution_count": 166,
   "id": "543a5549",
   "metadata": {},
   "outputs": [
    {
     "name": "stderr",
     "output_type": "stream",
     "text": [
      "C:\\Users\\Hp\\AppData\\Local\\Temp\\ipykernel_13552\\3084284489.py:1: SettingWithCopyWarning: \n",
      "A value is trying to be set on a copy of a slice from a DataFrame.\n",
      "Try using .loc[row_indexer,col_indexer] = value instead\n",
      "\n",
      "See the caveats in the documentation: https://pandas.pydata.org/pandas-docs/stable/user_guide/indexing.html#returning-a-view-versus-a-copy\n",
      "  data['diff_6'] = data['Sales']-data['Sales'].shift(6)\n"
     ]
    }
   ],
   "source": [
    "data['diff_6'] = data['Sales']-data['Sales'].shift(6)\n",
    "data['diff_12'] = data['Sales']-data['Sales'].shift(12)"
   ]
  },
  {
   "cell_type": "code",
   "execution_count": 168,
   "id": "f521992c",
   "metadata": {},
   "outputs": [
    {
     "data": {
      "text/html": [
       "<div>\n",
       "<style scoped>\n",
       "    .dataframe tbody tr th:only-of-type {\n",
       "        vertical-align: middle;\n",
       "    }\n",
       "\n",
       "    .dataframe tbody tr th {\n",
       "        vertical-align: top;\n",
       "    }\n",
       "\n",
       "    .dataframe thead th {\n",
       "        text-align: right;\n",
       "    }\n",
       "</style>\n",
       "<table border=\"1\" class=\"dataframe\">\n",
       "  <thead>\n",
       "    <tr style=\"text-align: right;\">\n",
       "      <th></th>\n",
       "      <th>Date</th>\n",
       "      <th>Sales</th>\n",
       "      <th>diff_6</th>\n",
       "      <th>diff_12</th>\n",
       "    </tr>\n",
       "  </thead>\n",
       "  <tbody>\n",
       "    <tr>\n",
       "      <th>0</th>\n",
       "      <td>1960-01-01</td>\n",
       "      <td>6550</td>\n",
       "      <td>NaN</td>\n",
       "      <td>NaN</td>\n",
       "    </tr>\n",
       "    <tr>\n",
       "      <th>1</th>\n",
       "      <td>1960-02-01</td>\n",
       "      <td>8728</td>\n",
       "      <td>NaN</td>\n",
       "      <td>NaN</td>\n",
       "    </tr>\n",
       "    <tr>\n",
       "      <th>2</th>\n",
       "      <td>1960-03-01</td>\n",
       "      <td>12026</td>\n",
       "      <td>NaN</td>\n",
       "      <td>NaN</td>\n",
       "    </tr>\n",
       "    <tr>\n",
       "      <th>3</th>\n",
       "      <td>1960-04-01</td>\n",
       "      <td>14395</td>\n",
       "      <td>NaN</td>\n",
       "      <td>NaN</td>\n",
       "    </tr>\n",
       "    <tr>\n",
       "      <th>4</th>\n",
       "      <td>1960-05-01</td>\n",
       "      <td>14587</td>\n",
       "      <td>NaN</td>\n",
       "      <td>NaN</td>\n",
       "    </tr>\n",
       "    <tr>\n",
       "      <th>5</th>\n",
       "      <td>1960-06-01</td>\n",
       "      <td>13791</td>\n",
       "      <td>NaN</td>\n",
       "      <td>NaN</td>\n",
       "    </tr>\n",
       "    <tr>\n",
       "      <th>6</th>\n",
       "      <td>1960-07-01</td>\n",
       "      <td>9498</td>\n",
       "      <td>2948.0</td>\n",
       "      <td>NaN</td>\n",
       "    </tr>\n",
       "    <tr>\n",
       "      <th>7</th>\n",
       "      <td>1960-08-01</td>\n",
       "      <td>8251</td>\n",
       "      <td>-477.0</td>\n",
       "      <td>NaN</td>\n",
       "    </tr>\n",
       "    <tr>\n",
       "      <th>8</th>\n",
       "      <td>1960-09-01</td>\n",
       "      <td>7049</td>\n",
       "      <td>-4977.0</td>\n",
       "      <td>NaN</td>\n",
       "    </tr>\n",
       "    <tr>\n",
       "      <th>9</th>\n",
       "      <td>1960-10-01</td>\n",
       "      <td>9545</td>\n",
       "      <td>-4850.0</td>\n",
       "      <td>NaN</td>\n",
       "    </tr>\n",
       "  </tbody>\n",
       "</table>\n",
       "</div>"
      ],
      "text/plain": [
       "        Date  Sales  diff_6  diff_12\n",
       "0 1960-01-01   6550     NaN      NaN\n",
       "1 1960-02-01   8728     NaN      NaN\n",
       "2 1960-03-01  12026     NaN      NaN\n",
       "3 1960-04-01  14395     NaN      NaN\n",
       "4 1960-05-01  14587     NaN      NaN\n",
       "5 1960-06-01  13791     NaN      NaN\n",
       "6 1960-07-01   9498  2948.0      NaN\n",
       "7 1960-08-01   8251  -477.0      NaN\n",
       "8 1960-09-01   7049 -4977.0      NaN\n",
       "9 1960-10-01   9545 -4850.0      NaN"
      ]
     },
     "execution_count": 168,
     "metadata": {},
     "output_type": "execute_result"
    }
   ],
   "source": [
    "data.head(10)"
   ]
  },
  {
   "cell_type": "code",
   "execution_count": 169,
   "id": "fb71bb86",
   "metadata": {},
   "outputs": [],
   "source": [
    "data.dropna(inplace=True)"
   ]
  },
  {
   "cell_type": "code",
   "execution_count": 170,
   "id": "18cade6e",
   "metadata": {},
   "outputs": [
    {
     "data": {
      "text/html": [
       "<div>\n",
       "<style scoped>\n",
       "    .dataframe tbody tr th:only-of-type {\n",
       "        vertical-align: middle;\n",
       "    }\n",
       "\n",
       "    .dataframe tbody tr th {\n",
       "        vertical-align: top;\n",
       "    }\n",
       "\n",
       "    .dataframe thead th {\n",
       "        text-align: right;\n",
       "    }\n",
       "</style>\n",
       "<table border=\"1\" class=\"dataframe\">\n",
       "  <thead>\n",
       "    <tr style=\"text-align: right;\">\n",
       "      <th></th>\n",
       "      <th>Date</th>\n",
       "      <th>Sales</th>\n",
       "      <th>diff_6</th>\n",
       "      <th>diff_12</th>\n",
       "    </tr>\n",
       "  </thead>\n",
       "  <tbody>\n",
       "    <tr>\n",
       "      <th>12</th>\n",
       "      <td>1961-01-01</td>\n",
       "      <td>7237</td>\n",
       "      <td>-2261.0</td>\n",
       "      <td>687.0</td>\n",
       "    </tr>\n",
       "    <tr>\n",
       "      <th>13</th>\n",
       "      <td>1961-02-01</td>\n",
       "      <td>9374</td>\n",
       "      <td>1123.0</td>\n",
       "      <td>646.0</td>\n",
       "    </tr>\n",
       "    <tr>\n",
       "      <th>14</th>\n",
       "      <td>1961-03-01</td>\n",
       "      <td>11837</td>\n",
       "      <td>4788.0</td>\n",
       "      <td>-189.0</td>\n",
       "    </tr>\n",
       "    <tr>\n",
       "      <th>15</th>\n",
       "      <td>1961-04-01</td>\n",
       "      <td>13784</td>\n",
       "      <td>4239.0</td>\n",
       "      <td>-611.0</td>\n",
       "    </tr>\n",
       "    <tr>\n",
       "      <th>16</th>\n",
       "      <td>1961-05-01</td>\n",
       "      <td>15926</td>\n",
       "      <td>6562.0</td>\n",
       "      <td>1339.0</td>\n",
       "    </tr>\n",
       "  </tbody>\n",
       "</table>\n",
       "</div>"
      ],
      "text/plain": [
       "         Date  Sales  diff_6  diff_12\n",
       "12 1961-01-01   7237 -2261.0    687.0\n",
       "13 1961-02-01   9374  1123.0    646.0\n",
       "14 1961-03-01  11837  4788.0   -189.0\n",
       "15 1961-04-01  13784  4239.0   -611.0\n",
       "16 1961-05-01  15926  6562.0   1339.0"
      ]
     },
     "execution_count": 170,
     "metadata": {},
     "output_type": "execute_result"
    }
   ],
   "source": [
    "data.head()"
   ]
  },
  {
   "cell_type": "code",
   "execution_count": 171,
   "id": "ab2186c3",
   "metadata": {},
   "outputs": [
    {
     "data": {
      "text/plain": [
       "(-6.609951321001912,\n",
       " 6.4142553985564994e-09,\n",
       " 6,\n",
       " 89,\n",
       " {'1%': -3.506057133647011,\n",
       "  '5%': -2.8946066061911946,\n",
       "  '10%': -2.5844100201994697},\n",
       " 1485.124816060243)"
      ]
     },
     "execution_count": 171,
     "metadata": {},
     "output_type": "execute_result"
    }
   ],
   "source": [
    " adfuller(data['diff_6'])"
   ]
  },
  {
   "cell_type": "code",
   "execution_count": 172,
   "id": "efe22e32",
   "metadata": {},
   "outputs": [
    {
     "data": {
      "text/plain": [
       "(-3.644396602406012,\n",
       " 0.004966833586579766,\n",
       " 11,\n",
       " 84,\n",
       " {'1%': -3.510711795769895,\n",
       "  '5%': -2.8966159448223734,\n",
       "  '10%': -2.5854823866213152},\n",
       " 1477.5087214225468)"
      ]
     },
     "execution_count": 172,
     "metadata": {},
     "output_type": "execute_result"
    }
   ],
   "source": [
    " adfuller(data['diff_12'])"
   ]
  },
  {
   "cell_type": "markdown",
   "id": "7f7bd00b",
   "metadata": {},
   "source": [
    "## Identifying values of p and q using ACF and PACF"
   ]
  },
  {
   "cell_type": "code",
   "execution_count": 174,
   "id": "58402ce0",
   "metadata": {},
   "outputs": [],
   "source": [
    "from statsmodels.graphics.tsaplots import plot_acf, plot_pacf\n",
    "import statsmodels.api as sn"
   ]
  },
  {
   "cell_type": "code",
   "execution_count": 176,
   "id": "c30db3b1",
   "metadata": {},
   "outputs": [
    {
     "data": {
      "image/png": "[encoded data removed]",
      "text/plain": [
       "<Figure size 640x480 with 1 Axes>"
      ]
     },
     "metadata": {},
     "output_type": "display_data"
    }
   ],
   "source": [
    "#ax11 = pyplot.fifig.add_subplot(211)\n",
    "fig = sn.graphics.tsa.plot_acf(data['diff_6'],lags=40)"
   ]
  },
  {
   "cell_type": "code",
   "execution_count": 177,
   "id": "e5c07751",
   "metadata": {},
   "outputs": [
    {
     "data": {
      "image/png": "[encoded data removed]",
      "text/plain": [
       "<Figure size 640x480 with 1 Axes>"
      ]
     },
     "metadata": {},
     "output_type": "display_data"
    }
   ],
   "source": [
    "#ax11 = pyplot.fifig.add_subplot(211)\n",
    "fig = sn.graphics.tsa.plot_acf(data['diff_6'],lags=20)"
   ]
  },
  {
   "cell_type": "code",
   "execution_count": null,
   "id": "8006c9f6",
   "metadata": {},
   "outputs": [],
   "source": [
    "q = 2,3"
   ]
  },
  {
   "cell_type": "code",
   "execution_count": 178,
   "id": "06632871",
   "metadata": {},
   "outputs": [
    {
     "name": "stderr",
     "output_type": "stream",
     "text": [
      "C:\\Users\\Hp\\anaconda3\\lib\\site-packages\\statsmodels\\graphics\\tsaplots.py:348: FutureWarning: The default method 'yw' can produce PACF values outside of the [-1,1] interval. After 0.13, the default will change tounadjusted Yule-Walker ('ywm'). You can use this method now by setting method='ywm'.\n",
      "  warnings.warn(\n"
     ]
    },
    {
     "data": {
      "image/png": "[encoded data removed]",
      "text/plain": [
       "<Figure size 640x480 with 1 Axes>"
      ]
     },
     "metadata": {},
     "output_type": "display_data"
    }
   ],
   "source": [
    "#ax11 = pyplot.fifig.add_subplot(211)\n",
    "fig = sn.graphics.tsa.plot_pacf(data['diff_6'],lags=40)"
   ]
  },
  {
   "cell_type": "code",
   "execution_count": null,
   "id": "52acf835",
   "metadata": {},
   "outputs": [],
   "source": [
    "p = 2,3"
   ]
  },
  {
   "cell_type": "code",
   "execution_count": null,
   "id": "7950926f",
   "metadata": {},
   "outputs": [],
   "source": [
    "1,2,3,4,5,6,7,8,9\n",
    "n,n,1,2,3,4,5,6,7"
   ]
  },
  {
   "cell_type": "code",
   "execution_count": null,
   "id": "6c9bf568",
   "metadata": {},
   "outputs": [],
   "source": []
  },
  {
   "cell_type": "code",
   "execution_count": 154,
   "id": "41ee5782",
   "metadata": {},
   "outputs": [],
   "source": [
    "from statsmodels.tsa.arima.model import ARIMA"
   ]
  },
  {
   "cell_type": "code",
   "execution_count": 179,
   "id": "ce28253a",
   "metadata": {},
   "outputs": [
    {
     "name": "stderr",
     "output_type": "stream",
     "text": [
      "C:\\Users\\Hp\\anaconda3\\lib\\site-packages\\statsmodels\\tsa\\base\\tsa_model.py:471: ValueWarning: An unsupported index was provided and will be ignored when e.g. forecasting.\n",
      "  self._init_dates(dates, freq)\n"
     ]
    }
   ],
   "source": [
    "arima = ARIMA(data['diff_6'],order=(2,0,2))"
   ]
  },
  {
   "cell_type": "code",
   "execution_count": 180,
   "id": "6a7e3d42",
   "metadata": {},
   "outputs": [
    {
     "name": "stderr",
     "output_type": "stream",
     "text": [
      "C:\\Users\\Hp\\anaconda3\\lib\\site-packages\\statsmodels\\base\\model.py:604: ConvergenceWarning: Maximum Likelihood optimization failed to converge. Check mle_retvals\n",
      "  warnings.warn(\"Maximum Likelihood optimization failed to \"\n"
     ]
    }
   ],
   "source": [
    "model = arima.fit()"
   ]
  },
  {
   "cell_type": "code",
   "execution_count": 181,
   "id": "e5227405",
   "metadata": {},
   "outputs": [
    {
     "data": {
      "text/plain": [
       "(96, 4)"
      ]
     },
     "execution_count": 181,
     "metadata": {},
     "output_type": "execute_result"
    }
   ],
   "source": [
    "data.shape"
   ]
  },
  {
   "cell_type": "code",
   "execution_count": 186,
   "id": "b28c9884",
   "metadata": {},
   "outputs": [
    {
     "name": "stderr",
     "output_type": "stream",
     "text": [
      "C:\\Users\\Hp\\anaconda3\\lib\\site-packages\\statsmodels\\tsa\\base\\tsa_model.py:834: ValueWarning: No supported index is available. Prediction results will be given with an integer index beginning at `start`.\n",
      "  return get_prediction_index(\n"
     ]
    }
   ],
   "source": [
    "data['forecast']= model.predict(start=90, end=107,dynamic=True)"
   ]
  },
  {
   "cell_type": "code",
   "execution_count": 187,
   "id": "03816719",
   "metadata": {},
   "outputs": [
    {
     "data": {
      "text/html": [
       "<div>\n",
       "<style scoped>\n",
       "    .dataframe tbody tr th:only-of-type {\n",
       "        vertical-align: middle;\n",
       "    }\n",
       "\n",
       "    .dataframe tbody tr th {\n",
       "        vertical-align: top;\n",
       "    }\n",
       "\n",
       "    .dataframe thead th {\n",
       "        text-align: right;\n",
       "    }\n",
       "</style>\n",
       "<table border=\"1\" class=\"dataframe\">\n",
       "  <thead>\n",
       "    <tr style=\"text-align: right;\">\n",
       "      <th></th>\n",
       "      <th>Date</th>\n",
       "      <th>Sales</th>\n",
       "      <th>diff_6</th>\n",
       "      <th>diff_12</th>\n",
       "      <th>forecast</th>\n",
       "    </tr>\n",
       "  </thead>\n",
       "  <tbody>\n",
       "    <tr>\n",
       "      <th>12</th>\n",
       "      <td>1961-01-01</td>\n",
       "      <td>7237</td>\n",
       "      <td>-2261.0</td>\n",
       "      <td>687.0</td>\n",
       "      <td>NaN</td>\n",
       "    </tr>\n",
       "    <tr>\n",
       "      <th>13</th>\n",
       "      <td>1961-02-01</td>\n",
       "      <td>9374</td>\n",
       "      <td>1123.0</td>\n",
       "      <td>646.0</td>\n",
       "      <td>NaN</td>\n",
       "    </tr>\n",
       "    <tr>\n",
       "      <th>14</th>\n",
       "      <td>1961-03-01</td>\n",
       "      <td>11837</td>\n",
       "      <td>4788.0</td>\n",
       "      <td>-189.0</td>\n",
       "      <td>NaN</td>\n",
       "    </tr>\n",
       "    <tr>\n",
       "      <th>15</th>\n",
       "      <td>1961-04-01</td>\n",
       "      <td>13784</td>\n",
       "      <td>4239.0</td>\n",
       "      <td>-611.0</td>\n",
       "      <td>NaN</td>\n",
       "    </tr>\n",
       "    <tr>\n",
       "      <th>16</th>\n",
       "      <td>1961-05-01</td>\n",
       "      <td>15926</td>\n",
       "      <td>6562.0</td>\n",
       "      <td>1339.0</td>\n",
       "      <td>NaN</td>\n",
       "    </tr>\n",
       "  </tbody>\n",
       "</table>\n",
       "</div>"
      ],
      "text/plain": [
       "         Date  Sales  diff_6  diff_12  forecast\n",
       "12 1961-01-01   7237 -2261.0    687.0       NaN\n",
       "13 1961-02-01   9374  1123.0    646.0       NaN\n",
       "14 1961-03-01  11837  4788.0   -189.0       NaN\n",
       "15 1961-04-01  13784  4239.0   -611.0       NaN\n",
       "16 1961-05-01  15926  6562.0   1339.0       NaN"
      ]
     },
     "execution_count": 187,
     "metadata": {},
     "output_type": "execute_result"
    }
   ],
   "source": [
    "data.head()"
   ]
  },
  {
   "cell_type": "code",
   "execution_count": 188,
   "id": "f6e88ec3",
   "metadata": {},
   "outputs": [
    {
     "data": {
      "text/html": [
       "<div>\n",
       "<style scoped>\n",
       "    .dataframe tbody tr th:only-of-type {\n",
       "        vertical-align: middle;\n",
       "    }\n",
       "\n",
       "    .dataframe tbody tr th {\n",
       "        vertical-align: top;\n",
       "    }\n",
       "\n",
       "    .dataframe thead th {\n",
       "        text-align: right;\n",
       "    }\n",
       "</style>\n",
       "<table border=\"1\" class=\"dataframe\">\n",
       "  <thead>\n",
       "    <tr style=\"text-align: right;\">\n",
       "      <th></th>\n",
       "      <th>Date</th>\n",
       "      <th>Sales</th>\n",
       "      <th>diff_6</th>\n",
       "      <th>diff_12</th>\n",
       "      <th>forecast</th>\n",
       "    </tr>\n",
       "  </thead>\n",
       "  <tbody>\n",
       "    <tr>\n",
       "      <th>103</th>\n",
       "      <td>1968-08-01</td>\n",
       "      <td>16722</td>\n",
       "      <td>2471.0</td>\n",
       "      <td>3288.0</td>\n",
       "      <td>1439.343267</td>\n",
       "    </tr>\n",
       "    <tr>\n",
       "      <th>104</th>\n",
       "      <td>1968-09-01</td>\n",
       "      <td>14385</td>\n",
       "      <td>-5754.0</td>\n",
       "      <td>787.0</td>\n",
       "      <td>-2275.372490</td>\n",
       "    </tr>\n",
       "    <tr>\n",
       "      <th>105</th>\n",
       "      <td>1968-10-01</td>\n",
       "      <td>21342</td>\n",
       "      <td>-383.0</td>\n",
       "      <td>4155.0</td>\n",
       "      <td>-5260.122171</td>\n",
       "    </tr>\n",
       "    <tr>\n",
       "      <th>106</th>\n",
       "      <td>1968-11-01</td>\n",
       "      <td>17180</td>\n",
       "      <td>-8919.0</td>\n",
       "      <td>1061.0</td>\n",
       "      <td>-6735.848539</td>\n",
       "    </tr>\n",
       "    <tr>\n",
       "      <th>107</th>\n",
       "      <td>1968-12-01</td>\n",
       "      <td>14577</td>\n",
       "      <td>-6507.0</td>\n",
       "      <td>864.0</td>\n",
       "      <td>-6317.549676</td>\n",
       "    </tr>\n",
       "  </tbody>\n",
       "</table>\n",
       "</div>"
      ],
      "text/plain": [
       "          Date  Sales  diff_6  diff_12     forecast\n",
       "103 1968-08-01  16722  2471.0   3288.0  1439.343267\n",
       "104 1968-09-01  14385 -5754.0    787.0 -2275.372490\n",
       "105 1968-10-01  21342  -383.0   4155.0 -5260.122171\n",
       "106 1968-11-01  17180 -8919.0   1061.0 -6735.848539\n",
       "107 1968-12-01  14577 -6507.0    864.0 -6317.549676"
      ]
     },
     "execution_count": 188,
     "metadata": {},
     "output_type": "execute_result"
    }
   ],
   "source": [
    "data.tail()"
   ]
  },
  {
   "cell_type": "code",
   "execution_count": 189,
   "id": "d8a202dc",
   "metadata": {},
   "outputs": [
    {
     "data": {
      "text/plain": [
       "<Axes: >"
      ]
     },
     "execution_count": 189,
     "metadata": {},
     "output_type": "execute_result"
    },
    {
     "data": {
      "image/png": "[encoded data removed]",
      "text/plain": [
       "<Figure size 1200x800 with 1 Axes>"
      ]
     },
     "metadata": {},
     "output_type": "display_data"
    }
   ],
   "source": [
    "data[['diff_6','forecast']].plot(figsize=(12,8))"
   ]
  },
  {
   "cell_type": "code",
   "execution_count": null,
   "id": "c2cb71a4",
   "metadata": {},
   "outputs": [],
   "source": []
  }
 ],
 "metadata": {
  "kernelspec": {
   "display_name": "Python 3 (ipykernel)",
   "language": "python",
   "name": "python3"
  },
  "language_info": {
   "codemirror_mode": {
    "name": "ipython",
    "version": 3
   },
   "file_extension": ".py",
   "mimetype": "text/x-python",
   "name": "python",
   "nbconvert_exporter": "python",
   "pygments_lexer": "ipython3",
   "version": "3.10.9"
  }
 },
 "nbformat": 4,
 "nbformat_minor": 5
}
