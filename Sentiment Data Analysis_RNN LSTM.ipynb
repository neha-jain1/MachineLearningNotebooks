{
 "cells": [
  {
   "cell_type": "code",
   "execution_count": 1,
   "id": "164b15c2",
   "metadata": {},
   "outputs": [],
   "source": [
    "from nltk.stem import PorterStemmer\n",
    "ps = PorterStemmer()\n",
    "import pandas as pd\n",
    "from nltk.stem import PorterStemmer\n",
    "import nltk\n",
    "import contractions\n",
    "import re\n",
    "\n",
    "stop_words = nltk.corpus.stopwords.words('english')"
   ]
  },
  {
   "cell_type": "code",
   "execution_count": 2,
   "id": "758cd829",
   "metadata": {},
   "outputs": [],
   "source": [
    "import warnings\n",
    "warnings.filterwarnings(\"ignore\")"
   ]
  },
  {
   "cell_type": "code",
   "execution_count": 3,
   "id": "fe0a58d6",
   "metadata": {},
   "outputs": [],
   "source": [
    "import numpy as np "
   ]
  },
  {
   "cell_type": "code",
   "execution_count": 4,
   "id": "ddb4dedc",
   "metadata": {},
   "outputs": [],
   "source": [
    "df = pd.read_csv('TwitterData.csv')"
   ]
  },
  {
   "cell_type": "code",
   "execution_count": 5,
   "id": "386860c5",
   "metadata": {},
   "outputs": [
    {
     "data": {
      "text/html": [
       "<div>\n",
       "<style scoped>\n",
       "    .dataframe tbody tr th:only-of-type {\n",
       "        vertical-align: middle;\n",
       "    }\n",
       "\n",
       "    .dataframe tbody tr th {\n",
       "        vertical-align: top;\n",
       "    }\n",
       "\n",
       "    .dataframe thead th {\n",
       "        text-align: right;\n",
       "    }\n",
       "</style>\n",
       "<table border=\"1\" class=\"dataframe\">\n",
       "  <thead>\n",
       "    <tr style=\"text-align: right;\">\n",
       "      <th></th>\n",
       "      <th>sentiment</th>\n",
       "      <th>content</th>\n",
       "      <th>text</th>\n",
       "    </tr>\n",
       "  </thead>\n",
       "  <tbody>\n",
       "    <tr>\n",
       "      <th>0</th>\n",
       "      <td>empty</td>\n",
       "      <td>@tiffanylue i know  i was listenin to bad habi...</td>\n",
       "      <td>know  wa listenin bad habit earlier start frea...</td>\n",
       "    </tr>\n",
       "    <tr>\n",
       "      <th>1</th>\n",
       "      <td>sadness</td>\n",
       "      <td>Layin n bed with a headache  ughhhh...waitin o...</td>\n",
       "      <td>layin n bed headach  ughhhh waitin call</td>\n",
       "    </tr>\n",
       "    <tr>\n",
       "      <th>2</th>\n",
       "      <td>sadness</td>\n",
       "      <td>Funeral ceremony...gloomy friday...</td>\n",
       "      <td>funer ceremoni gloomi friday</td>\n",
       "    </tr>\n",
       "    <tr>\n",
       "      <th>3</th>\n",
       "      <td>enthusiasm</td>\n",
       "      <td>wants to hang out with friends SOON!</td>\n",
       "      <td>want hang friend soon</td>\n",
       "    </tr>\n",
       "    <tr>\n",
       "      <th>4</th>\n",
       "      <td>neutral</td>\n",
       "      <td>@dannycastillo We want to trade with someone w...</td>\n",
       "      <td>want trade someon ha houston ticket one</td>\n",
       "    </tr>\n",
       "  </tbody>\n",
       "</table>\n",
       "</div>"
      ],
      "text/plain": [
       "    sentiment                                            content  \\\n",
       "0       empty  @tiffanylue i know  i was listenin to bad habi...   \n",
       "1     sadness  Layin n bed with a headache  ughhhh...waitin o...   \n",
       "2     sadness                Funeral ceremony...gloomy friday...   \n",
       "3  enthusiasm               wants to hang out with friends SOON!   \n",
       "4     neutral  @dannycastillo We want to trade with someone w...   \n",
       "\n",
       "                                                text  \n",
       "0  know  wa listenin bad habit earlier start frea...  \n",
       "1            layin n bed headach  ughhhh waitin call  \n",
       "2                       funer ceremoni gloomi friday  \n",
       "3                              want hang friend soon  \n",
       "4            want trade someon ha houston ticket one  "
      ]
     },
     "execution_count": 5,
     "metadata": {},
     "output_type": "execute_result"
    }
   ],
   "source": [
    "df.head()"
   ]
  },
  {
   "cell_type": "code",
   "execution_count": 6,
   "id": "fbb6a464",
   "metadata": {},
   "outputs": [
    {
     "data": {
      "text/plain": [
       "sentiment      0\n",
       "content        0\n",
       "text         201\n",
       "dtype: int64"
      ]
     },
     "execution_count": 6,
     "metadata": {},
     "output_type": "execute_result"
    }
   ],
   "source": [
    "df.isnull().sum()"
   ]
  },
  {
   "cell_type": "code",
   "execution_count": 7,
   "id": "3cd4041c",
   "metadata": {},
   "outputs": [],
   "source": [
    "df.dropna(inplace=True)"
   ]
  },
  {
   "cell_type": "code",
   "execution_count": 8,
   "id": "74e26b4c",
   "metadata": {},
   "outputs": [
    {
     "data": {
      "text/plain": [
       "sentiment    0\n",
       "content      0\n",
       "text         0\n",
       "dtype: int64"
      ]
     },
     "execution_count": 8,
     "metadata": {},
     "output_type": "execute_result"
    }
   ],
   "source": [
    "df.isnull().sum()"
   ]
  },
  {
   "cell_type": "code",
   "execution_count": null,
   "id": "9b96f187",
   "metadata": {},
   "outputs": [],
   "source": []
  },
  {
   "cell_type": "code",
   "execution_count": 9,
   "id": "c38304a4",
   "metadata": {},
   "outputs": [
    {
     "data": {
      "text/plain": [
       "neutral       8508\n",
       "worry         8439\n",
       "happiness     5205\n",
       "sadness       5155\n",
       "love          3837\n",
       "surprise      2182\n",
       "fun           1775\n",
       "relief        1524\n",
       "hate          1322\n",
       "empty          805\n",
       "enthusiasm     758\n",
       "boredom        179\n",
       "anger          110\n",
       "Name: sentiment, dtype: int64"
      ]
     },
     "execution_count": 9,
     "metadata": {},
     "output_type": "execute_result"
    }
   ],
   "source": [
    "df['sentiment'].value_counts()"
   ]
  },
  {
   "cell_type": "code",
   "execution_count": 10,
   "id": "5ca26ed6",
   "metadata": {},
   "outputs": [],
   "source": [
    "df1 = df[df['sentiment'].isin(['happiness','sadness'])]"
   ]
  },
  {
   "cell_type": "code",
   "execution_count": 11,
   "id": "c25353e6",
   "metadata": {},
   "outputs": [
    {
     "data": {
      "text/plain": [
       "(10360, 3)"
      ]
     },
     "execution_count": 11,
     "metadata": {},
     "output_type": "execute_result"
    }
   ],
   "source": [
    "df1.shape"
   ]
  },
  {
   "cell_type": "code",
   "execution_count": 12,
   "id": "843afef4",
   "metadata": {},
   "outputs": [
    {
     "data": {
      "text/plain": [
       "happiness    5205\n",
       "sadness      5155\n",
       "Name: sentiment, dtype: int64"
      ]
     },
     "execution_count": 12,
     "metadata": {},
     "output_type": "execute_result"
    }
   ],
   "source": [
    "df1['sentiment'].value_counts()"
   ]
  },
  {
   "cell_type": "code",
   "execution_count": 13,
   "id": "b8be6849",
   "metadata": {},
   "outputs": [],
   "source": [
    "labels_mapping = {'sadness':0,'happiness':1}\n",
    "df1['label'] = df1['sentiment'].apply(lambda x: labels_mapping[x])"
   ]
  },
  {
   "cell_type": "code",
   "execution_count": 14,
   "id": "bb13b0fe",
   "metadata": {},
   "outputs": [
    {
     "data": {
      "text/html": [
       "<div>\n",
       "<style scoped>\n",
       "    .dataframe tbody tr th:only-of-type {\n",
       "        vertical-align: middle;\n",
       "    }\n",
       "\n",
       "    .dataframe tbody tr th {\n",
       "        vertical-align: top;\n",
       "    }\n",
       "\n",
       "    .dataframe thead th {\n",
       "        text-align: right;\n",
       "    }\n",
       "</style>\n",
       "<table border=\"1\" class=\"dataframe\">\n",
       "  <thead>\n",
       "    <tr style=\"text-align: right;\">\n",
       "      <th></th>\n",
       "      <th>sentiment</th>\n",
       "      <th>content</th>\n",
       "      <th>text</th>\n",
       "      <th>label</th>\n",
       "    </tr>\n",
       "  </thead>\n",
       "  <tbody>\n",
       "    <tr>\n",
       "      <th>1</th>\n",
       "      <td>sadness</td>\n",
       "      <td>Layin n bed with a headache  ughhhh...waitin o...</td>\n",
       "      <td>layin n bed headach  ughhhh waitin call</td>\n",
       "      <td>0</td>\n",
       "    </tr>\n",
       "    <tr>\n",
       "      <th>2</th>\n",
       "      <td>sadness</td>\n",
       "      <td>Funeral ceremony...gloomy friday...</td>\n",
       "      <td>funer ceremoni gloomi friday</td>\n",
       "      <td>0</td>\n",
       "    </tr>\n",
       "    <tr>\n",
       "      <th>6</th>\n",
       "      <td>sadness</td>\n",
       "      <td>I should be sleep, but im not! thinking about ...</td>\n",
       "      <td>sleep think old friend want marri damn amp wan...</td>\n",
       "      <td>0</td>\n",
       "    </tr>\n",
       "    <tr>\n",
       "      <th>8</th>\n",
       "      <td>sadness</td>\n",
       "      <td>@charviray Charlene my love. I miss you</td>\n",
       "      <td>charlen love miss</td>\n",
       "      <td>0</td>\n",
       "    </tr>\n",
       "    <tr>\n",
       "      <th>9</th>\n",
       "      <td>sadness</td>\n",
       "      <td>@kelcouch I'm sorry  at least it's Friday?</td>\n",
       "      <td>sorri  least friday</td>\n",
       "      <td>0</td>\n",
       "    </tr>\n",
       "  </tbody>\n",
       "</table>\n",
       "</div>"
      ],
      "text/plain": [
       "  sentiment                                            content  \\\n",
       "1   sadness  Layin n bed with a headache  ughhhh...waitin o...   \n",
       "2   sadness                Funeral ceremony...gloomy friday...   \n",
       "6   sadness  I should be sleep, but im not! thinking about ...   \n",
       "8   sadness            @charviray Charlene my love. I miss you   \n",
       "9   sadness         @kelcouch I'm sorry  at least it's Friday?   \n",
       "\n",
       "                                                text  label  \n",
       "1            layin n bed headach  ughhhh waitin call      0  \n",
       "2                       funer ceremoni gloomi friday      0  \n",
       "6  sleep think old friend want marri damn amp wan...      0  \n",
       "8                                  charlen love miss      0  \n",
       "9                                sorri  least friday      0  "
      ]
     },
     "execution_count": 14,
     "metadata": {},
     "output_type": "execute_result"
    }
   ],
   "source": [
    "df1.head()"
   ]
  },
  {
   "cell_type": "code",
   "execution_count": 15,
   "id": "ef5347ba",
   "metadata": {},
   "outputs": [
    {
     "data": {
      "text/html": [
       "<div>\n",
       "<style scoped>\n",
       "    .dataframe tbody tr th:only-of-type {\n",
       "        vertical-align: middle;\n",
       "    }\n",
       "\n",
       "    .dataframe tbody tr th {\n",
       "        vertical-align: top;\n",
       "    }\n",
       "\n",
       "    .dataframe thead th {\n",
       "        text-align: right;\n",
       "    }\n",
       "</style>\n",
       "<table border=\"1\" class=\"dataframe\">\n",
       "  <thead>\n",
       "    <tr style=\"text-align: right;\">\n",
       "      <th></th>\n",
       "      <th>sentiment</th>\n",
       "      <th>content</th>\n",
       "      <th>text</th>\n",
       "      <th>label</th>\n",
       "    </tr>\n",
       "  </thead>\n",
       "  <tbody>\n",
       "    <tr>\n",
       "      <th>39986</th>\n",
       "      <td>happiness</td>\n",
       "      <td>going to watch boy in the striped pj's hope i ...</td>\n",
       "      <td>go watch boy stripe pj hope cri</td>\n",
       "      <td>1</td>\n",
       "    </tr>\n",
       "    <tr>\n",
       "      <th>39987</th>\n",
       "      <td>happiness</td>\n",
       "      <td>gave the bikes a thorough wash, degrease it an...</td>\n",
       "      <td>gave bike thorough wash degreas greas think re...</td>\n",
       "      <td>1</td>\n",
       "    </tr>\n",
       "    <tr>\n",
       "      <th>39988</th>\n",
       "      <td>happiness</td>\n",
       "      <td>had SUCH and AMAZING time last night, McFly we...</td>\n",
       "      <td>amaz time last night mcfli incred</td>\n",
       "      <td>1</td>\n",
       "    </tr>\n",
       "    <tr>\n",
       "      <th>39994</th>\n",
       "      <td>happiness</td>\n",
       "      <td>Succesfully following Tayla!!</td>\n",
       "      <td>succes follow tayla</td>\n",
       "      <td>1</td>\n",
       "    </tr>\n",
       "    <tr>\n",
       "      <th>39998</th>\n",
       "      <td>happiness</td>\n",
       "      <td>@niariley WASSUP BEAUTIFUL!!! FOLLOW ME!!  PEE...</td>\n",
       "      <td>wassup beauti follow  peep new hit singl wwwmy...</td>\n",
       "      <td>1</td>\n",
       "    </tr>\n",
       "  </tbody>\n",
       "</table>\n",
       "</div>"
      ],
      "text/plain": [
       "       sentiment                                            content  \\\n",
       "39986  happiness  going to watch boy in the striped pj's hope i ...   \n",
       "39987  happiness  gave the bikes a thorough wash, degrease it an...   \n",
       "39988  happiness  had SUCH and AMAZING time last night, McFly we...   \n",
       "39994  happiness                      Succesfully following Tayla!!   \n",
       "39998  happiness  @niariley WASSUP BEAUTIFUL!!! FOLLOW ME!!  PEE...   \n",
       "\n",
       "                                                    text  label  \n",
       "39986                    go watch boy stripe pj hope cri      1  \n",
       "39987  gave bike thorough wash degreas greas think re...      1  \n",
       "39988                  amaz time last night mcfli incred      1  \n",
       "39994                                succes follow tayla      1  \n",
       "39998  wassup beauti follow  peep new hit singl wwwmy...      1  "
      ]
     },
     "execution_count": 15,
     "metadata": {},
     "output_type": "execute_result"
    }
   ],
   "source": [
    "df1.tail()"
   ]
  },
  {
   "cell_type": "code",
   "execution_count": 16,
   "id": "6542cfab",
   "metadata": {},
   "outputs": [],
   "source": [
    "df1 = df1.reset_index(drop=True)"
   ]
  },
  {
   "cell_type": "code",
   "execution_count": 17,
   "id": "4e44ff6f",
   "metadata": {},
   "outputs": [
    {
     "data": {
      "text/html": [
       "<div>\n",
       "<style scoped>\n",
       "    .dataframe tbody tr th:only-of-type {\n",
       "        vertical-align: middle;\n",
       "    }\n",
       "\n",
       "    .dataframe tbody tr th {\n",
       "        vertical-align: top;\n",
       "    }\n",
       "\n",
       "    .dataframe thead th {\n",
       "        text-align: right;\n",
       "    }\n",
       "</style>\n",
       "<table border=\"1\" class=\"dataframe\">\n",
       "  <thead>\n",
       "    <tr style=\"text-align: right;\">\n",
       "      <th></th>\n",
       "      <th>sentiment</th>\n",
       "      <th>content</th>\n",
       "      <th>text</th>\n",
       "      <th>label</th>\n",
       "    </tr>\n",
       "  </thead>\n",
       "  <tbody>\n",
       "    <tr>\n",
       "      <th>0</th>\n",
       "      <td>sadness</td>\n",
       "      <td>Layin n bed with a headache  ughhhh...waitin o...</td>\n",
       "      <td>layin n bed headach  ughhhh waitin call</td>\n",
       "      <td>0</td>\n",
       "    </tr>\n",
       "    <tr>\n",
       "      <th>1</th>\n",
       "      <td>sadness</td>\n",
       "      <td>Funeral ceremony...gloomy friday...</td>\n",
       "      <td>funer ceremoni gloomi friday</td>\n",
       "      <td>0</td>\n",
       "    </tr>\n",
       "    <tr>\n",
       "      <th>2</th>\n",
       "      <td>sadness</td>\n",
       "      <td>I should be sleep, but im not! thinking about ...</td>\n",
       "      <td>sleep think old friend want marri damn amp wan...</td>\n",
       "      <td>0</td>\n",
       "    </tr>\n",
       "    <tr>\n",
       "      <th>3</th>\n",
       "      <td>sadness</td>\n",
       "      <td>@charviray Charlene my love. I miss you</td>\n",
       "      <td>charlen love miss</td>\n",
       "      <td>0</td>\n",
       "    </tr>\n",
       "    <tr>\n",
       "      <th>4</th>\n",
       "      <td>sadness</td>\n",
       "      <td>@kelcouch I'm sorry  at least it's Friday?</td>\n",
       "      <td>sorri  least friday</td>\n",
       "      <td>0</td>\n",
       "    </tr>\n",
       "  </tbody>\n",
       "</table>\n",
       "</div>"
      ],
      "text/plain": [
       "  sentiment                                            content  \\\n",
       "0   sadness  Layin n bed with a headache  ughhhh...waitin o...   \n",
       "1   sadness                Funeral ceremony...gloomy friday...   \n",
       "2   sadness  I should be sleep, but im not! thinking about ...   \n",
       "3   sadness            @charviray Charlene my love. I miss you   \n",
       "4   sadness         @kelcouch I'm sorry  at least it's Friday?   \n",
       "\n",
       "                                                text  label  \n",
       "0            layin n bed headach  ughhhh waitin call      0  \n",
       "1                       funer ceremoni gloomi friday      0  \n",
       "2  sleep think old friend want marri damn amp wan...      0  \n",
       "3                                  charlen love miss      0  \n",
       "4                                sorri  least friday      0  "
      ]
     },
     "execution_count": 17,
     "metadata": {},
     "output_type": "execute_result"
    }
   ],
   "source": [
    "df1.head()"
   ]
  },
  {
   "cell_type": "code",
   "execution_count": 19,
   "id": "95d8388d",
   "metadata": {},
   "outputs": [],
   "source": [
    "def wordcheck(x):\n",
    "    s = [w for w in x if len(w)>=4]\n",
    "    return ' '.join(s)"
   ]
  },
  {
   "cell_type": "code",
   "execution_count": 20,
   "id": "4777ca29",
   "metadata": {},
   "outputs": [],
   "source": [
    "df1['text2'] = df1['text'].apply(lambda x : wordcheck(x.split(' ')))"
   ]
  },
  {
   "cell_type": "code",
   "execution_count": 21,
   "id": "6ece7f59",
   "metadata": {
    "scrolled": true
   },
   "outputs": [
    {
     "data": {
      "text/html": [
       "<div>\n",
       "<style scoped>\n",
       "    .dataframe tbody tr th:only-of-type {\n",
       "        vertical-align: middle;\n",
       "    }\n",
       "\n",
       "    .dataframe tbody tr th {\n",
       "        vertical-align: top;\n",
       "    }\n",
       "\n",
       "    .dataframe thead th {\n",
       "        text-align: right;\n",
       "    }\n",
       "</style>\n",
       "<table border=\"1\" class=\"dataframe\">\n",
       "  <thead>\n",
       "    <tr style=\"text-align: right;\">\n",
       "      <th></th>\n",
       "      <th>sentiment</th>\n",
       "      <th>content</th>\n",
       "      <th>text</th>\n",
       "      <th>label</th>\n",
       "      <th>text2</th>\n",
       "    </tr>\n",
       "  </thead>\n",
       "  <tbody>\n",
       "    <tr>\n",
       "      <th>0</th>\n",
       "      <td>sadness</td>\n",
       "      <td>Layin n bed with a headache  ughhhh...waitin o...</td>\n",
       "      <td>layin n bed headach  ughhhh waitin call</td>\n",
       "      <td>0</td>\n",
       "      <td>layin headach ughhhh waitin call</td>\n",
       "    </tr>\n",
       "    <tr>\n",
       "      <th>1</th>\n",
       "      <td>sadness</td>\n",
       "      <td>Funeral ceremony...gloomy friday...</td>\n",
       "      <td>funer ceremoni gloomi friday</td>\n",
       "      <td>0</td>\n",
       "      <td>funer ceremoni gloomi friday</td>\n",
       "    </tr>\n",
       "    <tr>\n",
       "      <th>2</th>\n",
       "      <td>sadness</td>\n",
       "      <td>I should be sleep, but im not! thinking about ...</td>\n",
       "      <td>sleep think old friend want marri damn amp wan...</td>\n",
       "      <td>0</td>\n",
       "      <td>sleep think friend want marri damn want scandal</td>\n",
       "    </tr>\n",
       "    <tr>\n",
       "      <th>3</th>\n",
       "      <td>sadness</td>\n",
       "      <td>@charviray Charlene my love. I miss you</td>\n",
       "      <td>charlen love miss</td>\n",
       "      <td>0</td>\n",
       "      <td>charlen love miss</td>\n",
       "    </tr>\n",
       "    <tr>\n",
       "      <th>4</th>\n",
       "      <td>sadness</td>\n",
       "      <td>@kelcouch I'm sorry  at least it's Friday?</td>\n",
       "      <td>sorri  least friday</td>\n",
       "      <td>0</td>\n",
       "      <td>sorri least friday</td>\n",
       "    </tr>\n",
       "  </tbody>\n",
       "</table>\n",
       "</div>"
      ],
      "text/plain": [
       "  sentiment                                            content  \\\n",
       "0   sadness  Layin n bed with a headache  ughhhh...waitin o...   \n",
       "1   sadness                Funeral ceremony...gloomy friday...   \n",
       "2   sadness  I should be sleep, but im not! thinking about ...   \n",
       "3   sadness            @charviray Charlene my love. I miss you   \n",
       "4   sadness         @kelcouch I'm sorry  at least it's Friday?   \n",
       "\n",
       "                                                text  label  \\\n",
       "0            layin n bed headach  ughhhh waitin call      0   \n",
       "1                       funer ceremoni gloomi friday      0   \n",
       "2  sleep think old friend want marri damn amp wan...      0   \n",
       "3                                  charlen love miss      0   \n",
       "4                                sorri  least friday      0   \n",
       "\n",
       "                                             text2  \n",
       "0                 layin headach ughhhh waitin call  \n",
       "1                     funer ceremoni gloomi friday  \n",
       "2  sleep think friend want marri damn want scandal  \n",
       "3                                charlen love miss  \n",
       "4                               sorri least friday  "
      ]
     },
     "execution_count": 21,
     "metadata": {},
     "output_type": "execute_result"
    }
   ],
   "source": [
    "df1.head()"
   ]
  },
  {
   "cell_type": "code",
   "execution_count": 22,
   "id": "aa5182b1",
   "metadata": {},
   "outputs": [
    {
     "data": {
      "text/plain": [
       "sentiment    0\n",
       "content      0\n",
       "text         0\n",
       "label        0\n",
       "text2        0\n",
       "dtype: int64"
      ]
     },
     "execution_count": 22,
     "metadata": {},
     "output_type": "execute_result"
    }
   ],
   "source": [
    "df1.isnull().sum()"
   ]
  },
  {
   "cell_type": "code",
   "execution_count": 23,
   "id": "1eeb3524",
   "metadata": {
    "scrolled": true
   },
   "outputs": [
    {
     "data": {
      "text/plain": [
       "1    5205\n",
       "0    5155\n",
       "Name: label, dtype: int64"
      ]
     },
     "execution_count": 23,
     "metadata": {},
     "output_type": "execute_result"
    }
   ],
   "source": [
    "df1['label'].value_counts()"
   ]
  },
  {
   "cell_type": "markdown",
   "id": "7da50c2e",
   "metadata": {},
   "source": [
    "## Create Tokens"
   ]
  },
  {
   "cell_type": "code",
   "execution_count": 27,
   "id": "e037fc07",
   "metadata": {},
   "outputs": [],
   "source": [
    "from tensorflow.keras.preprocessing.sequence import pad_sequences\n",
    "from tensorflow.keras.preprocessing.text import Tokenizer "
   ]
  },
  {
   "cell_type": "code",
   "execution_count": 29,
   "id": "fc08f557",
   "metadata": {},
   "outputs": [],
   "source": [
    "from sklearn.model_selection import train_test_split"
   ]
  },
  {
   "cell_type": "code",
   "execution_count": 93,
   "id": "14e73f32",
   "metadata": {},
   "outputs": [],
   "source": [
    "X = df1['text2'].values\n",
    "Y = df1['label'].values"
   ]
  },
  {
   "cell_type": "code",
   "execution_count": 94,
   "id": "5e490954",
   "metadata": {},
   "outputs": [
    {
     "data": {
      "text/plain": [
       "(array(['layin headach ughhhh waitin call', 'funer ceremoni gloomi friday',\n",
       "        'sleep think friend want marri damn want scandal'], dtype=object),\n",
       " array([0, 0, 0], dtype=int64))"
      ]
     },
     "execution_count": 94,
     "metadata": {},
     "output_type": "execute_result"
    }
   ],
   "source": [
    "X[:3],Y[:3]"
   ]
  },
  {
   "cell_type": "code",
   "execution_count": 95,
   "id": "dfc23dcf",
   "metadata": {},
   "outputs": [
    {
     "data": {
      "text/plain": [
       "((8288,), (2072,), (8288,), (2072,))"
      ]
     },
     "execution_count": 95,
     "metadata": {},
     "output_type": "execute_result"
    }
   ],
   "source": [
    "xtrain, xtest, ytrain, ytest = train_test_split(X, Y, test_size=0.20 , random_state=1, stratify=Y)\n",
    "xtrain.shape,xtest.shape,ytrain.shape, ytest.shape"
   ]
  },
  {
   "cell_type": "code",
   "execution_count": 96,
   "id": "fcccaaee",
   "metadata": {},
   "outputs": [],
   "source": [
    "t = Tokenizer()\n",
    "t.fit_on_texts(xtrain)"
   ]
  },
  {
   "cell_type": "code",
   "execution_count": 97,
   "id": "2360c56c",
   "metadata": {},
   "outputs": [],
   "source": [
    "encoded_train = t.texts_to_sequences(xtrain)\n",
    "encoded_test = t.texts_to_sequences(xtest)"
   ]
  },
  {
   "cell_type": "code",
   "execution_count": 98,
   "id": "8ceb5785",
   "metadata": {},
   "outputs": [
    {
     "data": {
      "text/plain": [
       "8288"
      ]
     },
     "execution_count": 98,
     "metadata": {},
     "output_type": "execute_result"
    }
   ],
   "source": [
    "len(encoded_train)"
   ]
  },
  {
   "cell_type": "code",
   "execution_count": 99,
   "id": "298c3e28",
   "metadata": {
    "scrolled": true
   },
   "outputs": [
    {
     "data": {
      "text/plain": [
       "[[342],\n",
       " [491, 82, 47, 228, 113, 115, 262, 1289, 16, 229, 14],\n",
       " [6, 30, 3106],\n",
       " [79],\n",
       " [3107, 3108, 3109, 89, 3110, 1290, 383, 1291, 492, 1585]]"
      ]
     },
     "execution_count": 99,
     "metadata": {},
     "output_type": "execute_result"
    }
   ],
   "source": [
    "encoded_train[:5]"
   ]
  },
  {
   "cell_type": "code",
   "execution_count": 101,
   "id": "0a579f15",
   "metadata": {},
   "outputs": [],
   "source": [
    "max_len = 8\n",
    "transformed_train = pad_sequences(encoded_train,maxlen= max_len , padding='post')\n",
    "transformed_test = pad_sequences(encoded_test,maxlen= max_len , padding='post')"
   ]
  },
  {
   "cell_type": "code",
   "execution_count": 102,
   "id": "01d10364",
   "metadata": {},
   "outputs": [
    {
     "data": {
      "text/plain": [
       "array([[ 342,    0,    0,    0,    0,    0,    0,    0],\n",
       "       [ 228,  113,  115,  262, 1289,   16,  229,   14],\n",
       "       [   6,   30, 3106,    0,    0,    0,    0,    0],\n",
       "       [  79,    0,    0,    0,    0,    0,    0,    0],\n",
       "       [3109,   89, 3110, 1290,  383, 1291,  492, 1585]])"
      ]
     },
     "execution_count": 102,
     "metadata": {},
     "output_type": "execute_result"
    }
   ],
   "source": [
    "transformed_train[:5]"
   ]
  },
  {
   "cell_type": "code",
   "execution_count": 103,
   "id": "2eecaa7b",
   "metadata": {},
   "outputs": [
    {
     "data": {
      "text/plain": [
       "((2072, 8), (8288, 8))"
      ]
     },
     "execution_count": 103,
     "metadata": {},
     "output_type": "execute_result"
    }
   ],
   "source": [
    "transformed_test.shape, transformed_train.shape"
   ]
  },
  {
   "cell_type": "code",
   "execution_count": 104,
   "id": "0d046d7a",
   "metadata": {},
   "outputs": [],
   "source": [
    "vocab = len(t.word_index)+1"
   ]
  },
  {
   "cell_type": "code",
   "execution_count": 105,
   "id": "63feb1da",
   "metadata": {},
   "outputs": [],
   "source": [
    "from keras.models import Sequential\n",
    "from keras.layers import Dense,Dropout, LSTM , SimpleRNN, Embedding"
   ]
  },
  {
   "cell_type": "code",
   "execution_count": 106,
   "id": "775c664f",
   "metadata": {},
   "outputs": [],
   "source": [
    "model = Sequential()\n",
    "model.add(Embedding(vocab,64, input_length=max_len))\n",
    "model.add(SimpleRNN(64, return_sequences=True))\n",
    "model.add(SimpleRNN(32,dropout=0.2))\n",
    "model.add(Dense(1,activation='sigmoid'))"
   ]
  },
  {
   "cell_type": "code",
   "execution_count": 107,
   "id": "d0a101cb",
   "metadata": {},
   "outputs": [
    {
     "name": "stdout",
     "output_type": "stream",
     "text": [
      "Model: \"sequential_6\"\n",
      "_________________________________________________________________\n",
      " Layer (type)                Output Shape              Param #   \n",
      "=================================================================\n",
      " embedding_6 (Embedding)     (None, 8, 64)             564160    \n",
      "                                                                 \n",
      " simple_rnn_8 (SimpleRNN)    (None, 8, 64)             8256      \n",
      "                                                                 \n",
      " simple_rnn_9 (SimpleRNN)    (None, 32)                3104      \n",
      "                                                                 \n",
      " dense_4 (Dense)             (None, 1)                 33        \n",
      "                                                                 \n",
      "=================================================================\n",
      "Total params: 575553 (2.20 MB)\n",
      "Trainable params: 575553 (2.20 MB)\n",
      "Non-trainable params: 0 (0.00 Byte)\n",
      "_________________________________________________________________\n"
     ]
    }
   ],
   "source": [
    "model.summary()"
   ]
  },
  {
   "cell_type": "code",
   "execution_count": 108,
   "id": "a817166d",
   "metadata": {},
   "outputs": [
    {
     "name": "stdout",
     "output_type": "stream",
     "text": [
      "Epoch 1/10\n",
      "259/259 [==============================] - 6s 13ms/step - loss: 0.5719 - accuracy: 0.6834\n",
      "Epoch 2/10\n",
      "259/259 [==============================] - 3s 12ms/step - loss: 0.4205 - accuracy: 0.8102\n",
      "Epoch 3/10\n",
      "259/259 [==============================] - 3s 13ms/step - loss: 0.3141 - accuracy: 0.8710\n",
      "Epoch 4/10\n",
      "259/259 [==============================] - 3s 12ms/step - loss: 0.2216 - accuracy: 0.9106\n",
      "Epoch 5/10\n",
      "259/259 [==============================] - 3s 12ms/step - loss: 0.1657 - accuracy: 0.9356\n",
      "Epoch 6/10\n",
      "259/259 [==============================] - 3s 11ms/step - loss: 0.1297 - accuracy: 0.9498\n",
      "Epoch 7/10\n",
      "259/259 [==============================] - 3s 11ms/step - loss: 0.1078 - accuracy: 0.9595\n",
      "Epoch 8/10\n",
      "259/259 [==============================] - 4s 14ms/step - loss: 0.0934 - accuracy: 0.9655\n",
      "Epoch 9/10\n",
      "259/259 [==============================] - 3s 13ms/step - loss: 0.0816 - accuracy: 0.9692\n",
      "Epoch 10/10\n",
      "259/259 [==============================] - 3s 13ms/step - loss: 0.0738 - accuracy: 0.9719\n"
     ]
    },
    {
     "data": {
      "text/plain": [
       "<keras.src.callbacks.History at 0x27476669720>"
      ]
     },
     "execution_count": 108,
     "metadata": {},
     "output_type": "execute_result"
    }
   ],
   "source": [
    "model.compile(loss='binary_crossentropy',metrics=['accuracy'])\n",
    "\n",
    "model.fit(x = transformed_train, y = ytrain, epochs=10)"
   ]
  },
  {
   "cell_type": "code",
   "execution_count": 77,
   "id": "532ed79a",
   "metadata": {},
   "outputs": [],
   "source": [
    "from sklearn.metrics import accuracy_score"
   ]
  },
  {
   "cell_type": "code",
   "execution_count": 109,
   "id": "add1e886",
   "metadata": {},
   "outputs": [
    {
     "name": "stdout",
     "output_type": "stream",
     "text": [
      "65/65 [==============================] - 1s 5ms/step\n"
     ]
    },
    {
     "data": {
      "text/plain": [
       "0.7224903474903475"
      ]
     },
     "execution_count": 109,
     "metadata": {},
     "output_type": "execute_result"
    }
   ],
   "source": [
    "pred = (model.predict(transformed_test)>0.50)\n",
    "pred = pred *1\n",
    "accuracy_score(ytest, pred)"
   ]
  },
  {
   "cell_type": "markdown",
   "id": "595eb2aa",
   "metadata": {},
   "source": [
    "# LSTM"
   ]
  },
  {
   "cell_type": "code",
   "execution_count": 110,
   "id": "b543977c",
   "metadata": {},
   "outputs": [],
   "source": [
    "model1 = Sequential()\n",
    "model1.add(Embedding(vocab,64, input_length=max_len))\n",
    "model1.add(LSTM(64))\n",
    "model1.add(Dense(1,activation='sigmoid'))"
   ]
  },
  {
   "cell_type": "code",
   "execution_count": 111,
   "id": "1ca28aaa",
   "metadata": {},
   "outputs": [
    {
     "name": "stdout",
     "output_type": "stream",
     "text": [
      "Epoch 1/10\n",
      "259/259 [==============================] - 6s 13ms/step - loss: 0.6009 - accuracy: 0.6511\n",
      "Epoch 2/10\n",
      "259/259 [==============================] - 3s 12ms/step - loss: 0.4569 - accuracy: 0.7884\n",
      "Epoch 3/10\n",
      "259/259 [==============================] - 3s 12ms/step - loss: 0.4032 - accuracy: 0.8242\n",
      "Epoch 4/10\n",
      "259/259 [==============================] - 3s 12ms/step - loss: 0.3661 - accuracy: 0.8476\n",
      "Epoch 5/10\n",
      "259/259 [==============================] - 3s 11ms/step - loss: 0.3357 - accuracy: 0.8614\n",
      "Epoch 6/10\n",
      "259/259 [==============================] - 3s 12ms/step - loss: 0.3105 - accuracy: 0.8719\n",
      "Epoch 7/10\n",
      "259/259 [==============================] - 3s 12ms/step - loss: 0.2841 - accuracy: 0.8872\n",
      "Epoch 8/10\n",
      "259/259 [==============================] - 3s 12ms/step - loss: 0.2647 - accuracy: 0.8964\n",
      "Epoch 9/10\n",
      "259/259 [==============================] - 3s 13ms/step - loss: 0.2457 - accuracy: 0.9077\n",
      "Epoch 10/10\n",
      "259/259 [==============================] - 4s 15ms/step - loss: 0.2295 - accuracy: 0.9114\n"
     ]
    },
    {
     "data": {
      "text/plain": [
       "<keras.src.callbacks.History at 0x2747a591e40>"
      ]
     },
     "execution_count": 111,
     "metadata": {},
     "output_type": "execute_result"
    }
   ],
   "source": [
    "model1.compile(loss='binary_crossentropy',metrics=['accuracy'])\n",
    "\n",
    "model1.fit(x = transformed_train, y = ytrain, epochs=10)"
   ]
  },
  {
   "cell_type": "code",
   "execution_count": 112,
   "id": "5789ca15",
   "metadata": {},
   "outputs": [
    {
     "name": "stdout",
     "output_type": "stream",
     "text": [
      "65/65 [==============================] - 0s 4ms/step\n"
     ]
    },
    {
     "data": {
      "text/plain": [
       "0.7224903474903475"
      ]
     },
     "execution_count": 112,
     "metadata": {},
     "output_type": "execute_result"
    }
   ],
   "source": [
    "pred = (model.predict(transformed_test)>0.50)\n",
    "pred = pred *1\n",
    "accuracy_score(ytest, pred)"
   ]
  },
  {
   "cell_type": "code",
   "execution_count": null,
   "id": "a2c9fed1",
   "metadata": {},
   "outputs": [],
   "source": []
  },
  {
   "cell_type": "code",
   "execution_count": null,
   "id": "97ccf2aa",
   "metadata": {},
   "outputs": [],
   "source": []
  }
 ],
 "metadata": {
  "kernelspec": {
   "display_name": "Python 3 (ipykernel)",
   "language": "python",
   "name": "python3"
  },
  "language_info": {
   "codemirror_mode": {
    "name": "ipython",
    "version": 3
   },
   "file_extension": ".py",
   "mimetype": "text/x-python",
   "name": "python",
   "nbconvert_exporter": "python",
   "pygments_lexer": "ipython3",
   "version": "3.10.9"
  }
 },
 "nbformat": 4,
 "nbformat_minor": 5
}
