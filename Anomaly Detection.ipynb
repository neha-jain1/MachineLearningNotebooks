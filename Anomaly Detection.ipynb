{
 "cells": [
  {
   "cell_type": "code",
   "execution_count": 1,
   "id": "3972c5b3",
   "metadata": {},
   "outputs": [],
   "source": [
    "import pandas as pd"
   ]
  },
  {
   "cell_type": "code",
   "execution_count": 2,
   "id": "c82d19a0",
   "metadata": {},
   "outputs": [],
   "source": [
    "df = pd.read_csv('titanic.csv')"
   ]
  },
  {
   "cell_type": "code",
   "execution_count": 3,
   "id": "de651ccf",
   "metadata": {},
   "outputs": [
    {
     "data": {
      "text/html": [
       "<div>\n",
       "<style scoped>\n",
       "    .dataframe tbody tr th:only-of-type {\n",
       "        vertical-align: middle;\n",
       "    }\n",
       "\n",
       "    .dataframe tbody tr th {\n",
       "        vertical-align: top;\n",
       "    }\n",
       "\n",
       "    .dataframe thead th {\n",
       "        text-align: right;\n",
       "    }\n",
       "</style>\n",
       "<table border=\"1\" class=\"dataframe\">\n",
       "  <thead>\n",
       "    <tr style=\"text-align: right;\">\n",
       "      <th></th>\n",
       "      <th>PassengerId</th>\n",
       "      <th>Survived</th>\n",
       "      <th>Pclass</th>\n",
       "      <th>Name</th>\n",
       "      <th>Sex</th>\n",
       "      <th>Age</th>\n",
       "      <th>SibSp</th>\n",
       "      <th>Parch</th>\n",
       "      <th>Ticket</th>\n",
       "      <th>Fare</th>\n",
       "      <th>Cabin</th>\n",
       "      <th>Embarked</th>\n",
       "    </tr>\n",
       "  </thead>\n",
       "  <tbody>\n",
       "    <tr>\n",
       "      <th>0</th>\n",
       "      <td>1</td>\n",
       "      <td>0</td>\n",
       "      <td>3</td>\n",
       "      <td>Braund, Mr. Owen Harris</td>\n",
       "      <td>male</td>\n",
       "      <td>22.0</td>\n",
       "      <td>1</td>\n",
       "      <td>0</td>\n",
       "      <td>A/5 21171</td>\n",
       "      <td>7.2500</td>\n",
       "      <td>NaN</td>\n",
       "      <td>S</td>\n",
       "    </tr>\n",
       "    <tr>\n",
       "      <th>1</th>\n",
       "      <td>2</td>\n",
       "      <td>1</td>\n",
       "      <td>1</td>\n",
       "      <td>Cumings, Mrs. John Bradley (Florence Briggs Th...</td>\n",
       "      <td>female</td>\n",
       "      <td>38.0</td>\n",
       "      <td>1</td>\n",
       "      <td>0</td>\n",
       "      <td>PC 17599</td>\n",
       "      <td>71.2833</td>\n",
       "      <td>C85</td>\n",
       "      <td>C</td>\n",
       "    </tr>\n",
       "    <tr>\n",
       "      <th>2</th>\n",
       "      <td>3</td>\n",
       "      <td>1</td>\n",
       "      <td>3</td>\n",
       "      <td>Heikkinen, Miss. Laina</td>\n",
       "      <td>female</td>\n",
       "      <td>26.0</td>\n",
       "      <td>0</td>\n",
       "      <td>0</td>\n",
       "      <td>STON/O2. 3101282</td>\n",
       "      <td>7.9250</td>\n",
       "      <td>NaN</td>\n",
       "      <td>S</td>\n",
       "    </tr>\n",
       "    <tr>\n",
       "      <th>3</th>\n",
       "      <td>4</td>\n",
       "      <td>1</td>\n",
       "      <td>1</td>\n",
       "      <td>Futrelle, Mrs. Jacques Heath (Lily May Peel)</td>\n",
       "      <td>female</td>\n",
       "      <td>35.0</td>\n",
       "      <td>1</td>\n",
       "      <td>0</td>\n",
       "      <td>113803</td>\n",
       "      <td>53.1000</td>\n",
       "      <td>C123</td>\n",
       "      <td>S</td>\n",
       "    </tr>\n",
       "    <tr>\n",
       "      <th>4</th>\n",
       "      <td>5</td>\n",
       "      <td>0</td>\n",
       "      <td>3</td>\n",
       "      <td>Allen, Mr. William Henry</td>\n",
       "      <td>male</td>\n",
       "      <td>35.0</td>\n",
       "      <td>0</td>\n",
       "      <td>0</td>\n",
       "      <td>373450</td>\n",
       "      <td>8.0500</td>\n",
       "      <td>NaN</td>\n",
       "      <td>S</td>\n",
       "    </tr>\n",
       "  </tbody>\n",
       "</table>\n",
       "</div>"
      ],
      "text/plain": [
       "   PassengerId  Survived  Pclass  \\\n",
       "0            1         0       3   \n",
       "1            2         1       1   \n",
       "2            3         1       3   \n",
       "3            4         1       1   \n",
       "4            5         0       3   \n",
       "\n",
       "                                                Name     Sex   Age  SibSp  \\\n",
       "0                            Braund, Mr. Owen Harris    male  22.0      1   \n",
       "1  Cumings, Mrs. John Bradley (Florence Briggs Th...  female  38.0      1   \n",
       "2                             Heikkinen, Miss. Laina  female  26.0      0   \n",
       "3       Futrelle, Mrs. Jacques Heath (Lily May Peel)  female  35.0      1   \n",
       "4                           Allen, Mr. William Henry    male  35.0      0   \n",
       "\n",
       "   Parch            Ticket     Fare Cabin Embarked  \n",
       "0      0         A/5 21171   7.2500   NaN        S  \n",
       "1      0          PC 17599  71.2833   C85        C  \n",
       "2      0  STON/O2. 3101282   7.9250   NaN        S  \n",
       "3      0            113803  53.1000  C123        S  \n",
       "4      0            373450   8.0500   NaN        S  "
      ]
     },
     "execution_count": 3,
     "metadata": {},
     "output_type": "execute_result"
    }
   ],
   "source": [
    "df.head()"
   ]
  },
  {
   "cell_type": "code",
   "execution_count": 101,
   "id": "ce83f098",
   "metadata": {},
   "outputs": [
    {
     "data": {
      "text/plain": [
       "(891, 12)"
      ]
     },
     "execution_count": 101,
     "metadata": {},
     "output_type": "execute_result"
    }
   ],
   "source": [
    "df.shape"
   ]
  },
  {
   "cell_type": "code",
   "execution_count": 5,
   "id": "cecc8c9f",
   "metadata": {},
   "outputs": [
    {
     "data": {
      "text/plain": [
       "0    0.616162\n",
       "1    0.383838\n",
       "Name: Survived, dtype: float64"
      ]
     },
     "execution_count": 5,
     "metadata": {},
     "output_type": "execute_result"
    }
   ],
   "source": [
    "df[\"Survived\"].value_counts()/df.shape[0]"
   ]
  },
  {
   "cell_type": "code",
   "execution_count": 6,
   "id": "9c3ed1b4",
   "metadata": {},
   "outputs": [
    {
     "data": {
      "text/plain": [
       "0    549\n",
       "1    342\n",
       "Name: Survived, dtype: int64"
      ]
     },
     "execution_count": 6,
     "metadata": {},
     "output_type": "execute_result"
    }
   ],
   "source": [
    "df[\"Survived\"].value_counts()"
   ]
  },
  {
   "cell_type": "code",
   "execution_count": 48,
   "id": "c3ebb0a0",
   "metadata": {},
   "outputs": [],
   "source": [
    "xtest = df[df['Survived']==1].sample(n=5)[['Pclass','Fare','Age']].fillna(56)"
   ]
  },
  {
   "cell_type": "code",
   "execution_count": 49,
   "id": "64a934de",
   "metadata": {},
   "outputs": [
    {
     "data": {
      "text/plain": [
       "array([[  2.    ,  13.    ,  28.    ],\n",
       "       [  3.    ,  19.2583,   0.75  ],\n",
       "       [  2.    ,  13.    ,  24.    ],\n",
       "       [  1.    , 227.525 ,  42.    ],\n",
       "       [  2.    ,  29.    ,   0.83  ]])"
      ]
     },
     "execution_count": 49,
     "metadata": {},
     "output_type": "execute_result"
    }
   ],
   "source": [
    "xtest.values"
   ]
  },
  {
   "cell_type": "code",
   "execution_count": null,
   "id": "c1276f04",
   "metadata": {},
   "outputs": [],
   "source": []
  },
  {
   "cell_type": "code",
   "execution_count": 7,
   "id": "cb51596d",
   "metadata": {},
   "outputs": [],
   "source": [
    "df1= df[df['Survived']==1].sample(n=6)"
   ]
  },
  {
   "cell_type": "code",
   "execution_count": 8,
   "id": "867b3879",
   "metadata": {},
   "outputs": [
    {
     "data": {
      "text/html": [
       "<div>\n",
       "<style scoped>\n",
       "    .dataframe tbody tr th:only-of-type {\n",
       "        vertical-align: middle;\n",
       "    }\n",
       "\n",
       "    .dataframe tbody tr th {\n",
       "        vertical-align: top;\n",
       "    }\n",
       "\n",
       "    .dataframe thead th {\n",
       "        text-align: right;\n",
       "    }\n",
       "</style>\n",
       "<table border=\"1\" class=\"dataframe\">\n",
       "  <thead>\n",
       "    <tr style=\"text-align: right;\">\n",
       "      <th></th>\n",
       "      <th>PassengerId</th>\n",
       "      <th>Survived</th>\n",
       "      <th>Pclass</th>\n",
       "      <th>Name</th>\n",
       "      <th>Sex</th>\n",
       "      <th>Age</th>\n",
       "      <th>SibSp</th>\n",
       "      <th>Parch</th>\n",
       "      <th>Ticket</th>\n",
       "      <th>Fare</th>\n",
       "      <th>Cabin</th>\n",
       "      <th>Embarked</th>\n",
       "    </tr>\n",
       "  </thead>\n",
       "  <tbody>\n",
       "    <tr>\n",
       "      <th>879</th>\n",
       "      <td>880</td>\n",
       "      <td>1</td>\n",
       "      <td>1</td>\n",
       "      <td>Potter, Mrs. Thomas Jr (Lily Alexenia Wilson)</td>\n",
       "      <td>female</td>\n",
       "      <td>56.0</td>\n",
       "      <td>0</td>\n",
       "      <td>1</td>\n",
       "      <td>11767</td>\n",
       "      <td>83.1583</td>\n",
       "      <td>C50</td>\n",
       "      <td>C</td>\n",
       "    </tr>\n",
       "    <tr>\n",
       "      <th>52</th>\n",
       "      <td>53</td>\n",
       "      <td>1</td>\n",
       "      <td>1</td>\n",
       "      <td>Harper, Mrs. Henry Sleeper (Myna Haxtun)</td>\n",
       "      <td>female</td>\n",
       "      <td>49.0</td>\n",
       "      <td>1</td>\n",
       "      <td>0</td>\n",
       "      <td>PC 17572</td>\n",
       "      <td>76.7292</td>\n",
       "      <td>D33</td>\n",
       "      <td>C</td>\n",
       "    </tr>\n",
       "    <tr>\n",
       "      <th>224</th>\n",
       "      <td>225</td>\n",
       "      <td>1</td>\n",
       "      <td>1</td>\n",
       "      <td>Hoyt, Mr. Frederick Maxfield</td>\n",
       "      <td>male</td>\n",
       "      <td>38.0</td>\n",
       "      <td>1</td>\n",
       "      <td>0</td>\n",
       "      <td>19943</td>\n",
       "      <td>90.0000</td>\n",
       "      <td>C93</td>\n",
       "      <td>S</td>\n",
       "    </tr>\n",
       "    <tr>\n",
       "      <th>198</th>\n",
       "      <td>199</td>\n",
       "      <td>1</td>\n",
       "      <td>3</td>\n",
       "      <td>Madigan, Miss. Margaret \"Maggie\"</td>\n",
       "      <td>female</td>\n",
       "      <td>NaN</td>\n",
       "      <td>0</td>\n",
       "      <td>0</td>\n",
       "      <td>370370</td>\n",
       "      <td>7.7500</td>\n",
       "      <td>NaN</td>\n",
       "      <td>Q</td>\n",
       "    </tr>\n",
       "    <tr>\n",
       "      <th>632</th>\n",
       "      <td>633</td>\n",
       "      <td>1</td>\n",
       "      <td>1</td>\n",
       "      <td>Stahelin-Maeglin, Dr. Max</td>\n",
       "      <td>male</td>\n",
       "      <td>32.0</td>\n",
       "      <td>0</td>\n",
       "      <td>0</td>\n",
       "      <td>13214</td>\n",
       "      <td>30.5000</td>\n",
       "      <td>B50</td>\n",
       "      <td>C</td>\n",
       "    </tr>\n",
       "    <tr>\n",
       "      <th>489</th>\n",
       "      <td>490</td>\n",
       "      <td>1</td>\n",
       "      <td>3</td>\n",
       "      <td>Coutts, Master. Eden Leslie \"Neville\"</td>\n",
       "      <td>male</td>\n",
       "      <td>9.0</td>\n",
       "      <td>1</td>\n",
       "      <td>1</td>\n",
       "      <td>C.A. 37671</td>\n",
       "      <td>15.9000</td>\n",
       "      <td>NaN</td>\n",
       "      <td>S</td>\n",
       "    </tr>\n",
       "  </tbody>\n",
       "</table>\n",
       "</div>"
      ],
      "text/plain": [
       "     PassengerId  Survived  Pclass  \\\n",
       "879          880         1       1   \n",
       "52            53         1       1   \n",
       "224          225         1       1   \n",
       "198          199         1       3   \n",
       "632          633         1       1   \n",
       "489          490         1       3   \n",
       "\n",
       "                                              Name     Sex   Age  SibSp  \\\n",
       "879  Potter, Mrs. Thomas Jr (Lily Alexenia Wilson)  female  56.0      0   \n",
       "52        Harper, Mrs. Henry Sleeper (Myna Haxtun)  female  49.0      1   \n",
       "224                   Hoyt, Mr. Frederick Maxfield    male  38.0      1   \n",
       "198               Madigan, Miss. Margaret \"Maggie\"  female   NaN      0   \n",
       "632                      Stahelin-Maeglin, Dr. Max    male  32.0      0   \n",
       "489          Coutts, Master. Eden Leslie \"Neville\"    male   9.0      1   \n",
       "\n",
       "     Parch      Ticket     Fare Cabin Embarked  \n",
       "879      1       11767  83.1583   C50        C  \n",
       "52       0    PC 17572  76.7292   D33        C  \n",
       "224      0       19943  90.0000   C93        S  \n",
       "198      0      370370   7.7500   NaN        Q  \n",
       "632      0       13214  30.5000   B50        C  \n",
       "489      1  C.A. 37671  15.9000   NaN        S  "
      ]
     },
     "execution_count": 8,
     "metadata": {},
     "output_type": "execute_result"
    }
   ],
   "source": [
    "df1"
   ]
  },
  {
   "cell_type": "code",
   "execution_count": 9,
   "id": "1ab1f59f",
   "metadata": {},
   "outputs": [
    {
     "data": {
      "text/plain": [
       "(555, 12)"
      ]
     },
     "execution_count": 9,
     "metadata": {},
     "output_type": "execute_result"
    }
   ],
   "source": [
    "df1 = pd.concat([df1,df[df['Survived']==0]])\n",
    "df1.shape"
   ]
  },
  {
   "cell_type": "code",
   "execution_count": 11,
   "id": "e8b056f5",
   "metadata": {},
   "outputs": [
    {
     "data": {
      "text/plain": [
       "0    0.989189\n",
       "1    0.010811\n",
       "Name: Survived, dtype: float64"
      ]
     },
     "execution_count": 11,
     "metadata": {},
     "output_type": "execute_result"
    }
   ],
   "source": [
    "df1[\"Survived\"].value_counts()/df1.shape[0]"
   ]
  },
  {
   "cell_type": "code",
   "execution_count": 17,
   "id": "0e1c2bbc",
   "metadata": {
    "scrolled": true
   },
   "outputs": [
    {
     "data": {
      "text/html": [
       "<div>\n",
       "<style scoped>\n",
       "    .dataframe tbody tr th:only-of-type {\n",
       "        vertical-align: middle;\n",
       "    }\n",
       "\n",
       "    .dataframe tbody tr th {\n",
       "        vertical-align: top;\n",
       "    }\n",
       "\n",
       "    .dataframe thead th {\n",
       "        text-align: right;\n",
       "    }\n",
       "</style>\n",
       "<table border=\"1\" class=\"dataframe\">\n",
       "  <thead>\n",
       "    <tr style=\"text-align: right;\">\n",
       "      <th></th>\n",
       "      <th>PassengerId</th>\n",
       "      <th>Survived</th>\n",
       "      <th>Pclass</th>\n",
       "      <th>Name</th>\n",
       "      <th>Sex</th>\n",
       "      <th>Age</th>\n",
       "      <th>SibSp</th>\n",
       "      <th>Parch</th>\n",
       "      <th>Ticket</th>\n",
       "      <th>Fare</th>\n",
       "      <th>Cabin</th>\n",
       "      <th>Embarked</th>\n",
       "    </tr>\n",
       "  </thead>\n",
       "  <tbody>\n",
       "    <tr>\n",
       "      <th>0</th>\n",
       "      <td>880</td>\n",
       "      <td>1</td>\n",
       "      <td>1</td>\n",
       "      <td>Potter, Mrs. Thomas Jr (Lily Alexenia Wilson)</td>\n",
       "      <td>female</td>\n",
       "      <td>56.0</td>\n",
       "      <td>0</td>\n",
       "      <td>1</td>\n",
       "      <td>11767</td>\n",
       "      <td>83.1583</td>\n",
       "      <td>C50</td>\n",
       "      <td>C</td>\n",
       "    </tr>\n",
       "    <tr>\n",
       "      <th>1</th>\n",
       "      <td>53</td>\n",
       "      <td>1</td>\n",
       "      <td>1</td>\n",
       "      <td>Harper, Mrs. Henry Sleeper (Myna Haxtun)</td>\n",
       "      <td>female</td>\n",
       "      <td>49.0</td>\n",
       "      <td>1</td>\n",
       "      <td>0</td>\n",
       "      <td>PC 17572</td>\n",
       "      <td>76.7292</td>\n",
       "      <td>D33</td>\n",
       "      <td>C</td>\n",
       "    </tr>\n",
       "    <tr>\n",
       "      <th>2</th>\n",
       "      <td>225</td>\n",
       "      <td>1</td>\n",
       "      <td>1</td>\n",
       "      <td>Hoyt, Mr. Frederick Maxfield</td>\n",
       "      <td>male</td>\n",
       "      <td>38.0</td>\n",
       "      <td>1</td>\n",
       "      <td>0</td>\n",
       "      <td>19943</td>\n",
       "      <td>90.0000</td>\n",
       "      <td>C93</td>\n",
       "      <td>S</td>\n",
       "    </tr>\n",
       "    <tr>\n",
       "      <th>3</th>\n",
       "      <td>199</td>\n",
       "      <td>1</td>\n",
       "      <td>3</td>\n",
       "      <td>Madigan, Miss. Margaret \"Maggie\"</td>\n",
       "      <td>female</td>\n",
       "      <td>NaN</td>\n",
       "      <td>0</td>\n",
       "      <td>0</td>\n",
       "      <td>370370</td>\n",
       "      <td>7.7500</td>\n",
       "      <td>NaN</td>\n",
       "      <td>Q</td>\n",
       "    </tr>\n",
       "    <tr>\n",
       "      <th>4</th>\n",
       "      <td>633</td>\n",
       "      <td>1</td>\n",
       "      <td>1</td>\n",
       "      <td>Stahelin-Maeglin, Dr. Max</td>\n",
       "      <td>male</td>\n",
       "      <td>32.0</td>\n",
       "      <td>0</td>\n",
       "      <td>0</td>\n",
       "      <td>13214</td>\n",
       "      <td>30.5000</td>\n",
       "      <td>B50</td>\n",
       "      <td>C</td>\n",
       "    </tr>\n",
       "  </tbody>\n",
       "</table>\n",
       "</div>"
      ],
      "text/plain": [
       "   PassengerId  Survived  Pclass  \\\n",
       "0          880         1       1   \n",
       "1           53         1       1   \n",
       "2          225         1       1   \n",
       "3          199         1       3   \n",
       "4          633         1       1   \n",
       "\n",
       "                                            Name     Sex   Age  SibSp  Parch  \\\n",
       "0  Potter, Mrs. Thomas Jr (Lily Alexenia Wilson)  female  56.0      0      1   \n",
       "1       Harper, Mrs. Henry Sleeper (Myna Haxtun)  female  49.0      1      0   \n",
       "2                   Hoyt, Mr. Frederick Maxfield    male  38.0      1      0   \n",
       "3               Madigan, Miss. Margaret \"Maggie\"  female   NaN      0      0   \n",
       "4                      Stahelin-Maeglin, Dr. Max    male  32.0      0      0   \n",
       "\n",
       "     Ticket     Fare Cabin Embarked  \n",
       "0     11767  83.1583   C50        C  \n",
       "1  PC 17572  76.7292   D33        C  \n",
       "2     19943  90.0000   C93        S  \n",
       "3    370370   7.7500   NaN        Q  \n",
       "4     13214  30.5000   B50        C  "
      ]
     },
     "execution_count": 17,
     "metadata": {},
     "output_type": "execute_result"
    }
   ],
   "source": [
    "df1 = df1.reset_index(drop=True)\n",
    "df1.head()"
   ]
  },
  {
   "cell_type": "code",
   "execution_count": 30,
   "id": "4e7302bc",
   "metadata": {},
   "outputs": [
    {
     "data": {
      "text/plain": [
       "<bound method NDFrame._add_numeric_operations.<locals>.median of 0      56.0\n",
       "1      49.0\n",
       "2      38.0\n",
       "3       NaN\n",
       "4      32.0\n",
       "       ... \n",
       "550    25.0\n",
       "551    39.0\n",
       "552    27.0\n",
       "553     NaN\n",
       "554    32.0\n",
       "Name: Age, Length: 555, dtype: float64>"
      ]
     },
     "execution_count": 30,
     "metadata": {},
     "output_type": "execute_result"
    }
   ],
   "source": [
    "df1['Age'].median"
   ]
  },
  {
   "cell_type": "code",
   "execution_count": 32,
   "id": "50d678d5",
   "metadata": {},
   "outputs": [],
   "source": [
    "df1['Age'].fillna(56,inplace=True)"
   ]
  },
  {
   "cell_type": "code",
   "execution_count": 33,
   "id": "f2d7b5a5",
   "metadata": {},
   "outputs": [
    {
     "data": {
      "text/plain": [
       "PassengerId      0\n",
       "Survived         0\n",
       "Pclass           0\n",
       "Name             0\n",
       "Sex              0\n",
       "Age              0\n",
       "SibSp            0\n",
       "Parch            0\n",
       "Ticket           0\n",
       "Fare             0\n",
       "Cabin          483\n",
       "Embarked         0\n",
       "dtype: int64"
      ]
     },
     "execution_count": 33,
     "metadata": {},
     "output_type": "execute_result"
    }
   ],
   "source": [
    "df1.isnull().sum()"
   ]
  },
  {
   "cell_type": "code",
   "execution_count": 34,
   "id": "597836f2",
   "metadata": {},
   "outputs": [],
   "source": [
    "X , Y = df1[['Pclass','Fare','Age']], df1['Survived']"
   ]
  },
  {
   "cell_type": "code",
   "execution_count": 35,
   "id": "4d920b04",
   "metadata": {},
   "outputs": [
    {
     "data": {
      "text/plain": [
       "((555, 3), (555,))"
      ]
     },
     "execution_count": 35,
     "metadata": {},
     "output_type": "execute_result"
    }
   ],
   "source": [
    "X.shape, Y.shape"
   ]
  },
  {
   "cell_type": "code",
   "execution_count": 36,
   "id": "17e1a3e4",
   "metadata": {},
   "outputs": [],
   "source": [
    "from imblearn.over_sampling import SMOTE"
   ]
  },
  {
   "cell_type": "code",
   "execution_count": 37,
   "id": "ea8a603b",
   "metadata": {},
   "outputs": [],
   "source": [
    "s = SMOTE()"
   ]
  },
  {
   "cell_type": "code",
   "execution_count": 38,
   "id": "4c3b7f6a",
   "metadata": {},
   "outputs": [],
   "source": [
    "features, label = s.fit_resample(X,Y)"
   ]
  },
  {
   "cell_type": "code",
   "execution_count": 39,
   "id": "122de963",
   "metadata": {},
   "outputs": [
    {
     "data": {
      "text/plain": [
       "(1098, 3)"
      ]
     },
     "execution_count": 39,
     "metadata": {},
     "output_type": "execute_result"
    }
   ],
   "source": [
    "features.shape"
   ]
  },
  {
   "cell_type": "code",
   "execution_count": 40,
   "id": "83a4b50c",
   "metadata": {},
   "outputs": [
    {
     "data": {
      "text/plain": [
       "(1098,)"
      ]
     },
     "execution_count": 40,
     "metadata": {},
     "output_type": "execute_result"
    }
   ],
   "source": [
    "label.shape"
   ]
  },
  {
   "cell_type": "code",
   "execution_count": 42,
   "id": "2540ca53",
   "metadata": {},
   "outputs": [
    {
     "data": {
      "text/plain": [
       "1    549\n",
       "0    549\n",
       "Name: Survived, dtype: int64"
      ]
     },
     "execution_count": 42,
     "metadata": {},
     "output_type": "execute_result"
    }
   ],
   "source": [
    "label.value_counts()"
   ]
  },
  {
   "cell_type": "code",
   "execution_count": 43,
   "id": "bc7a9bcd",
   "metadata": {},
   "outputs": [],
   "source": [
    " from sklearn.ensemble import IsolationForest"
   ]
  },
  {
   "cell_type": "code",
   "execution_count": 44,
   "id": "86c91fe1",
   "metadata": {},
   "outputs": [],
   "source": [
    "isolation = IsolationForest()"
   ]
  },
  {
   "cell_type": "code",
   "execution_count": 45,
   "id": "b368a1fb",
   "metadata": {},
   "outputs": [],
   "source": [
    "classifier = isolation.fit(X)"
   ]
  },
  {
   "cell_type": "code",
   "execution_count": 50,
   "id": "e648caf3",
   "metadata": {},
   "outputs": [
    {
     "name": "stderr",
     "output_type": "stream",
     "text": [
      "C:\\Users\\Hp\\anaconda3\\lib\\site-packages\\sklearn\\base.py:420: UserWarning: X does not have valid feature names, but IsolationForest was fitted with feature names\n",
      "  warnings.warn(\n"
     ]
    },
    {
     "data": {
      "text/plain": [
       "array([ 1, -1,  1, -1, -1])"
      ]
     },
     "execution_count": 50,
     "metadata": {},
     "output_type": "execute_result"
    }
   ],
   "source": [
    "classifier.predict(xtest.values)"
   ]
  },
  {
   "cell_type": "code",
   "execution_count": null,
   "id": "10c77f63",
   "metadata": {},
   "outputs": [],
   "source": []
  },
  {
   "cell_type": "code",
   "execution_count": 55,
   "id": "51d182f5",
   "metadata": {},
   "outputs": [],
   "source": [
    "from keras.models import Sequential\n",
    "from keras.layers import Dense,Dropout, LSTM , SimpleRNN, Embedding, Input"
   ]
  },
  {
   "cell_type": "code",
   "execution_count": 57,
   "id": "87d4e077",
   "metadata": {},
   "outputs": [],
   "source": [
    "model = Sequential()\n",
    "model.add(Input(shape = (3,)))\n",
    "model.add(Dense(16, activation='relu'))\n",
    "model.add(Dense(10, activation='relu'))\n",
    "model.add(Dense(16, activation='relu'))\n",
    "model.add(Dense(3))"
   ]
  },
  {
   "cell_type": "code",
   "execution_count": 58,
   "id": "76c5ead7",
   "metadata": {},
   "outputs": [
    {
     "name": "stdout",
     "output_type": "stream",
     "text": [
      "Model: \"sequential_1\"\n",
      "_________________________________________________________________\n",
      " Layer (type)                Output Shape              Param #   \n",
      "=================================================================\n",
      " dense_5 (Dense)             (None, 16)                64        \n",
      "                                                                 \n",
      " dense_6 (Dense)             (None, 10)                170       \n",
      "                                                                 \n",
      " dense_7 (Dense)             (None, 16)                176       \n",
      "                                                                 \n",
      " dense_8 (Dense)             (None, 3)                 51        \n",
      "                                                                 \n",
      "=================================================================\n",
      "Total params: 461 (1.80 KB)\n",
      "Trainable params: 461 (1.80 KB)\n",
      "Non-trainable params: 0 (0.00 Byte)\n",
      "_________________________________________________________________\n"
     ]
    }
   ],
   "source": [
    "model.summary()"
   ]
  },
  {
   "cell_type": "code",
   "execution_count": 59,
   "id": "6a5b3561",
   "metadata": {},
   "outputs": [],
   "source": [
    "model.compile(loss='mean_squared_error',metrics=['accuracy'])"
   ]
  },
  {
   "cell_type": "code",
   "execution_count": 61,
   "id": "62b84499",
   "metadata": {},
   "outputs": [],
   "source": [
    "data = df[df['Survived']==0][['Pclass','Fare','Age']]\n",
    "data['Age'].fillna(56,inplace=True)"
   ]
  },
  {
   "cell_type": "code",
   "execution_count": 62,
   "id": "c25d3c8b",
   "metadata": {},
   "outputs": [
    {
     "data": {
      "text/plain": [
       "(549, 3)"
      ]
     },
     "execution_count": 62,
     "metadata": {},
     "output_type": "execute_result"
    }
   ],
   "source": [
    "data.shape"
   ]
  },
  {
   "cell_type": "code",
   "execution_count": 63,
   "id": "c7216c20",
   "metadata": {},
   "outputs": [
    {
     "data": {
      "text/plain": [
       "array([[ 3.    ,  7.25  , 22.    ],\n",
       "       [ 3.    ,  8.05  , 35.    ],\n",
       "       [ 3.    ,  8.4583, 56.    ],\n",
       "       ...,\n",
       "       [ 2.    , 13.    , 27.    ],\n",
       "       [ 3.    , 23.45  , 56.    ],\n",
       "       [ 3.    ,  7.75  , 32.    ]])"
      ]
     },
     "execution_count": 63,
     "metadata": {},
     "output_type": "execute_result"
    }
   ],
   "source": [
    "data.values"
   ]
  },
  {
   "cell_type": "code",
   "execution_count": 64,
   "id": "17fe5193",
   "metadata": {},
   "outputs": [
    {
     "name": "stdout",
     "output_type": "stream",
     "text": [
      "Epoch 1/10\n",
      "46/46 [==============================] - 2s 4ms/step - loss: 567.9599 - accuracy: 0.9016\n",
      "Epoch 2/10\n",
      "46/46 [==============================] - 0s 4ms/step - loss: 176.5673 - accuracy: 0.9344\n",
      "Epoch 3/10\n",
      "46/46 [==============================] - 0s 3ms/step - loss: 83.7390 - accuracy: 0.9417\n",
      "Epoch 4/10\n",
      "46/46 [==============================] - 0s 4ms/step - loss: 32.5638 - accuracy: 0.9709\n",
      "Epoch 5/10\n",
      "46/46 [==============================] - 0s 6ms/step - loss: 10.8222 - accuracy: 0.9872\n",
      "Epoch 6/10\n",
      "46/46 [==============================] - 0s 6ms/step - loss: 5.1341 - accuracy: 0.9909\n",
      "Epoch 7/10\n",
      "46/46 [==============================] - 0s 4ms/step - loss: 2.8039 - accuracy: 0.9891\n",
      "Epoch 8/10\n",
      "46/46 [==============================] - 0s 8ms/step - loss: 1.4677 - accuracy: 0.9927\n",
      "Epoch 9/10\n",
      "46/46 [==============================] - 0s 5ms/step - loss: 0.8596 - accuracy: 0.9872\n",
      "Epoch 10/10\n",
      "46/46 [==============================] - 0s 6ms/step - loss: 0.6775 - accuracy: 0.9945\n"
     ]
    },
    {
     "data": {
      "text/plain": [
       "<keras.src.callbacks.History at 0x27bd233d240>"
      ]
     },
     "execution_count": 64,
     "metadata": {},
     "output_type": "execute_result"
    }
   ],
   "source": [
    "model.fit(data.values, data.values ,batch_size=12,epochs=10)"
   ]
  },
  {
   "cell_type": "code",
   "execution_count": 70,
   "id": "cc1e90c7",
   "metadata": {},
   "outputs": [
    {
     "name": "stdout",
     "output_type": "stream",
     "text": [
      "18/18 [==============================] - 0s 3ms/step\n"
     ]
    }
   ],
   "source": [
    "pred = model.predict(data.values)"
   ]
  },
  {
   "cell_type": "code",
   "execution_count": 77,
   "id": "cb79c431",
   "metadata": {},
   "outputs": [],
   "source": [
    "from sklearn.metrics import mean_absolute_error,mean_squared_error\n",
    "import numpy as np"
   ]
  },
  {
   "cell_type": "code",
   "execution_count": 72,
   "id": "473f584a",
   "metadata": {},
   "outputs": [
    {
     "data": {
      "text/plain": [
       "0.44876015705428274"
      ]
     },
     "execution_count": 72,
     "metadata": {},
     "output_type": "execute_result"
    }
   ],
   "source": [
    "mean_absolute_error(data.values, pred)"
   ]
  },
  {
   "cell_type": "code",
   "execution_count": 73,
   "id": "0346cb53",
   "metadata": {},
   "outputs": [
    {
     "data": {
      "text/plain": [
       "0.5293634254031835"
      ]
     },
     "execution_count": 73,
     "metadata": {},
     "output_type": "execute_result"
    }
   ],
   "source": [
    "mean_squared_error(data.values, pred)"
   ]
  },
  {
   "cell_type": "code",
   "execution_count": null,
   "id": "a81cfc1b",
   "metadata": {},
   "outputs": [],
   "source": []
  },
  {
   "cell_type": "code",
   "execution_count": 86,
   "id": "107bc9a1",
   "metadata": {},
   "outputs": [],
   "source": [
    "err = data.values -pred"
   ]
  },
  {
   "cell_type": "code",
   "execution_count": 87,
   "id": "17468efd",
   "metadata": {},
   "outputs": [
    {
     "data": {
      "text/plain": [
       "array([[ 0.86956358,  0.14732075,  0.06060791],\n",
       "       [ 0.3652482 ,  0.00221901,  0.0414238 ],\n",
       "       [ 0.06489611, -0.11701643,  0.55564117],\n",
       "       ...,\n",
       "       [ 0.13976252,  0.0041275 ,  0.32153511],\n",
       "       [ 0.07330751,  0.01921196,  0.51650238],\n",
       "       [ 0.44199324,  0.02518892,  0.00442314]])"
      ]
     },
     "execution_count": 87,
     "metadata": {},
     "output_type": "execute_result"
    }
   ],
   "source": [
    "err"
   ]
  },
  {
   "cell_type": "code",
   "execution_count": 91,
   "id": "0429e926",
   "metadata": {},
   "outputs": [
    {
     "data": {
      "text/plain": [
       "(549, 3)"
      ]
     },
     "execution_count": 91,
     "metadata": {},
     "output_type": "execute_result"
    }
   ],
   "source": [
    "err.shape"
   ]
  },
  {
   "cell_type": "code",
   "execution_count": 92,
   "id": "abdf834a",
   "metadata": {},
   "outputs": [],
   "source": [
    "error_rate = np.mean(err,axis=1)"
   ]
  },
  {
   "cell_type": "code",
   "execution_count": 93,
   "id": "8ccf60d2",
   "metadata": {},
   "outputs": [
    {
     "data": {
      "text/plain": [
       "549"
      ]
     },
     "execution_count": 93,
     "metadata": {},
     "output_type": "execute_result"
    }
   ],
   "source": [
    "len(error_rate)"
   ]
  },
  {
   "cell_type": "code",
   "execution_count": 97,
   "id": "ac405fd0",
   "metadata": {},
   "outputs": [
    {
     "data": {
      "text/plain": [
       "0.16690336535314249"
      ]
     },
     "execution_count": 97,
     "metadata": {},
     "output_type": "execute_result"
    }
   ],
   "source": [
    "error_rate.mean()"
   ]
  },
  {
   "cell_type": "code",
   "execution_count": 94,
   "id": "7ee794d4",
   "metadata": {},
   "outputs": [],
   "source": [
    "data = df[df['Survived']==1][['Pclass','Fare','Age']]\n",
    "data['Age'].fillna(56,inplace=True)"
   ]
  },
  {
   "cell_type": "code",
   "execution_count": 95,
   "id": "a6d48762",
   "metadata": {},
   "outputs": [
    {
     "name": "stdout",
     "output_type": "stream",
     "text": [
      "11/11 [==============================] - 0s 5ms/step\n"
     ]
    }
   ],
   "source": [
    "pred_anomaly = model.predict(data.values)"
   ]
  },
  {
   "cell_type": "code",
   "execution_count": 98,
   "id": "77ebc77c",
   "metadata": {},
   "outputs": [],
   "source": [
    "err_an = data.values -pred_anomaly"
   ]
  },
  {
   "cell_type": "code",
   "execution_count": 99,
   "id": "6112e5a0",
   "metadata": {
    "collapsed": true
   },
   "outputs": [
    {
     "data": {
      "text/plain": [
       "array([-3.19288864e-01,  2.95758502e-01, -3.23755868e-01,  3.91115405e-01,\n",
       "        6.70255997e-02,  4.00290434e-01, -3.31606134e-01, -2.56199360e-01,\n",
       "       -1.76663240e-01,  1.90615845e-01,  3.24201584e-03,  4.42260120e-01,\n",
       "       -2.03104774e-01,  3.25871690e-01,  1.82805862e-01,  2.78043368e-02,\n",
       "        1.84403578e-01,  1.90565624e-01,  4.16594011e-01,  2.10492879e-01,\n",
       "        4.18204671e-01,  1.84403578e-01, -4.38308042e-01,  8.98515781e-02,\n",
       "       -3.42769464e-01,  1.65551861e-01,  2.65153448e-01, -2.27509022e-01,\n",
       "       -7.58346532e-03,  2.19022433e-02,  4.29955618e-01,  1.30010122e-01,\n",
       "       -1.27331112e-01,  3.74129327e-01,  2.87306309e-01,  1.83959198e-01,\n",
       "        1.65068984e-01,  4.14052359e-01,  9.42284465e-01, -3.17963264e-02,\n",
       "        4.25458352e-02,  3.95825036e-01,  1.84107908e-01,  2.28617636e-01,\n",
       "        3.62814267e-02,  4.19611277e-01,  3.11149508e-01,  1.63065364e-01,\n",
       "        8.98515781e-02, -1.94900129e-01,  3.77457301e-01,  3.63849076e-01,\n",
       "        2.69005547e-01,  2.70647128e-02,  4.33811794e-01, -2.82953580e-02,\n",
       "        3.16920288e-01, -2.65801589e-01,  2.98045852e-01, -2.53418406e-01,\n",
       "        4.56360428e-01, -1.41517321e-02, -1.96577255e-01,  4.72935041e-02,\n",
       "        4.17967715e-01,  2.78338393e-01, -2.88352901e-01, -2.16513059e-02,\n",
       "        1.84403578e-01,  4.25473348e-01,  3.61258578e-01,  4.33969061e-01,\n",
       "       -2.47038007e-01,  1.13096118e-01,  2.95967428e-01,  2.73732917e-01,\n",
       "       -1.18178608e-01,  4.36795052e-01, -1.22212529e-01,  1.76873406e-01,\n",
       "       -1.16729665e-01,  5.30214890e-01,  1.75169667e-01, -1.41517321e-02,\n",
       "        1.52549942e-01, -2.97163862e-01,  4.31002452e-01, -3.93218454e-01,\n",
       "        3.87702386e-02, -4.89439267e-02,  1.26466274e-01,  5.04893565e-01,\n",
       "        3.12296677e-01,  5.14408429e-02,  4.32475982e-01,  7.87501335e-02,\n",
       "        8.68805250e-02,  1.84403578e-01, -3.07466863e-01,  4.44184780e-01,\n",
       "        4.19812973e-01,  2.65281518e-01, -1.72963301e-01,  3.77457301e-01,\n",
       "        5.71359714e-02,  3.59010011e-01, -1.43035094e-01,  1.23966948e+00,\n",
       "        1.84403578e-01,  1.95694129e-01, -1.59863122e-01, -2.41129487e+00,\n",
       "       -3.47445907e-01,  5.96109716e-01, -2.72598443e-01,  1.51957259e-01,\n",
       "       -3.44408353e-02,  2.93168106e-01,  1.20682597e-01,  8.39216691e-01,\n",
       "        2.96902537e-01,  6.75634066e-02,  6.72059457e-02,  4.07745300e-01,\n",
       "       -4.08094724e-02,  3.32650510e-01,  8.46704624e-02,  1.95690950e-01,\n",
       "       -1.07720407e-01,  2.72168676e-01,  1.56342920e-01,  2.07705776e-01,\n",
       "        1.13931676e+00,  1.72123790e-01, -1.28911813e-01, -2.96573321e-02,\n",
       "        4.16596341e-01, -9.50735013e-02,  1.82805862e-01,  1.82805862e-01,\n",
       "       -3.08722019e-01,  1.90565624e-01,  1.84403578e-01,  6.03784720e-03,\n",
       "       -1.64612565e-01, -4.25771942e-01,  3.59164079e-01,  1.22695383e+00,\n",
       "        2.83196551e-01, -3.11707020e-01, -4.08094724e-02,  1.19711916e-01,\n",
       "        2.43133108e-01,  4.01159694e-01,  4.93801443e-01,  3.67206200e-01,\n",
       "        1.22591027e-01,  1.47547181e-01,  2.19845573e-01,  1.43071016e-03,\n",
       "        1.57567279e-01,  8.00401370e-02,  1.16564631e-01,  9.69446898e-02,\n",
       "        6.91457192e-02,  1.68177382e-01, -1.79478828e-01, -2.96573321e-02,\n",
       "        3.48852873e-02,  7.87182053e-01,  9.67008670e-02,  1.46256288e-01,\n",
       "        1.35396838e-01,  1.76776028e-01, -4.48711743e-01,  7.85080989e-02,\n",
       "       -2.22040677e-01,  4.02499932e-01, -2.05276926e-01, -4.03669319e-01,\n",
       "        2.28612226e-01, -2.78183842e-01, -1.24076684e-01, -1.11347381e-01,\n",
       "        2.09917921e-01,  6.83862368e-02,  1.71454825e-01,  4.03287999e-01,\n",
       "        1.52686723e-01,  2.10634182e-01, -4.80274757e-02,  3.37659367e-01,\n",
       "       -4.03617312e-01,  3.84980718e-01,  6.14759525e-02, -2.87552738e-01,\n",
       "        2.75279238e-01,  2.23278522e-01, -2.37264880e-01, -2.34248193e-01,\n",
       "       -8.82274310e-02,  4.01943922e-02,  1.12475276e-01, -2.84440321e-01,\n",
       "       -1.24076684e-01,  2.07705776e-01,  1.63065364e-01,  1.99899872e-01,\n",
       "        2.48574392e-01, -1.52986964e-01, -2.72814870e-01,  6.85725609e-02,\n",
       "        6.91457192e-02, -1.98953851e-01,  2.85730879e-01,  6.17001154e-01,\n",
       "        3.58249855e-01,  3.78373114e-01, -2.69838937e-01, -2.55923303e-01,\n",
       "        4.11674150e-01,  1.61015231e-01, -1.00023111e-01, -2.58416456e-01,\n",
       "       -2.36866689e-01,  1.84403578e-01,  3.24201584e-03, -3.13199075e-01,\n",
       "        1.63604196e-01,  8.71733427e-02,  7.29528446e-02,  2.63397543e-01,\n",
       "       -3.51993020e-01, -4.24230665e-01,  7.70710309e-02, -2.21401431e-01,\n",
       "        1.09726787e-01, -2.29134742e-01, -1.58635259e-01, -9.63088856e-03,\n",
       "        4.96571549e-01, -1.41517321e-02,  1.87521815e-01,  3.56893261e-01,\n",
       "       -2.45626666e-01,  3.91796571e-01,  1.71395622e-01, -6.89946969e-01,\n",
       "       -1.92262769e-01,  1.35396838e-01,  6.03784720e-03,  2.97298584e-01,\n",
       "        2.09917921e-01, -4.48617262e-01, -3.42772007e-01,  3.48115063e-01,\n",
       "        9.17037725e-02,  1.83466663e-01,  4.06611443e-02,  4.12975089e-01,\n",
       "       -2.77643045e-01,  6.31353060e-02,  6.93202019e-02,  4.42354057e-01,\n",
       "        1.48047040e-01,  1.00753289e-02,  6.13565127e-02, -2.96575348e-01,\n",
       "        3.65718363e-01,  2.97298584e-01,  1.84601396e-01,  4.34578864e-01,\n",
       "       -2.30171132e-01, -2.11634477e-01, -2.79822914e-01,  9.21553111e-01,\n",
       "       -7.58346532e-03, -2.02402228e-01, -2.20895608e-01,  1.32587910e+00,\n",
       "        6.59540892e-02,  2.95704722e-01, -2.38730677e-01,  6.30205870e-02,\n",
       "        1.84552606e-01,  1.37799486e+00, -4.89731728e-02, -1.61327203e-01,\n",
       "        5.56647778e-01,  1.85629940e-01,  9.13456678e-02,  2.39867965e-01,\n",
       "        3.44255519e-01, -5.91791471e-02,  4.08961916e-02, -3.54224443e-02,\n",
       "        4.02455527e-01,  2.43133108e-01, -4.31157150e-01, -7.13950793e-02,\n",
       "        3.33948048e-01,  1.03178375e+00,  4.46042933e-01,  4.96319532e-02,\n",
       "        4.20252039e-01,  2.47750823e-01, -1.56089363e-01,  2.13375244e-01,\n",
       "        7.66514540e-02,  5.02495646e-01,  2.20236862e-01,  2.38974921e-01,\n",
       "       -3.44371724e-01, -4.31567987e-01,  3.00717068e-01,  4.16217836e-01,\n",
       "       -2.19617718e-01,  1.84403578e-01, -3.40137959e-01,  4.15340851e-01,\n",
       "        3.89885362e-02, -2.18983307e-01,  1.30005989e-01, -1.72302977e-01,\n",
       "       -1.76102440e-01, -5.01721026e-01, -1.10963496e-01,  4.37721960e-01,\n",
       "        4.93006212e-01, -1.77426243e-01,  3.77303698e-01, -1.34063897e-01,\n",
       "       -1.72963301e-01,  1.63227846e-01,  3.41675061e-01, -2.11613554e-01,\n",
       "        8.90514453e-02,  4.34682123e-01, -4.36589533e-01,  1.18224661e-01,\n",
       "       -2.35618075e-01, -1.63466573e-01])"
      ]
     },
     "execution_count": 99,
     "metadata": {},
     "output_type": "execute_result"
    }
   ],
   "source": [
    "error_rate_an = np.mean(err_an,axis=1)\n",
    "error_rate_an"
   ]
  },
  {
   "cell_type": "code",
   "execution_count": 100,
   "id": "b7bd6a60",
   "metadata": {},
   "outputs": [
    {
     "data": {
      "text/plain": [
       "0.10087282685917505"
      ]
     },
     "execution_count": 100,
     "metadata": {},
     "output_type": "execute_result"
    }
   ],
   "source": [
    "error_rate_an.mean()"
   ]
  },
  {
   "cell_type": "code",
   "execution_count": null,
   "id": "f1e46498",
   "metadata": {},
   "outputs": [],
   "source": []
  }
 ],
 "metadata": {
  "kernelspec": {
   "display_name": "Python 3 (ipykernel)",
   "language": "python",
   "name": "python3"
  },
  "language_info": {
   "codemirror_mode": {
    "name": "ipython",
    "version": 3
   },
   "file_extension": ".py",
   "mimetype": "text/x-python",
   "name": "python",
   "nbconvert_exporter": "python",
   "pygments_lexer": "ipython3",
   "version": "3.10.9"
  }
 },
 "nbformat": 4,
 "nbformat_minor": 5
}
